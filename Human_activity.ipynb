{
  "nbformat": 4,
  "nbformat_minor": 0,
  "metadata": {
    "colab": {
      "name": "Human activity.ipynb",
      "provenance": [],
      "collapsed_sections": []
    },
    "kernelspec": {
      "display_name": "Python 3",
      "name": "python3"
    },
    "language_info": {
      "name": "python"
    }
  },
  "cells": [
    {
      "cell_type": "markdown",
      "metadata": {
        "id": "fOo0gG_iehTK"
      },
      "source": [
        "#Case study On Human Activity Recognision\n",
        "        "
      ]
    },
    {
      "cell_type": "code",
      "metadata": {
        "colab": {
          "base_uri": "https://localhost:8080/"
        },
        "id": "urVQb8NG9N6o",
        "outputId": "af0d85bc-32c5-48b3-84e2-9d5a1ab2988c"
      },
      "source": [
        "from google.colab import drive\n",
        "drive.mount('/content/drive')"
      ],
      "execution_count": 3,
      "outputs": [
        {
          "output_type": "stream",
          "name": "stdout",
          "text": [
            "Mounted at /content/drive\n"
          ]
        }
      ]
    },
    {
      "cell_type": "code",
      "metadata": {
        "id": "2TO3Nv9OITXe"
      },
      "source": [
        "path=\"/content/drive/MyDrive/human activity\""
      ],
      "execution_count": 4,
      "outputs": []
    },
    {
      "cell_type": "code",
      "metadata": {
        "id": "rRraH79WvPft"
      },
      "source": [
        "import numpy as np\n",
        "import pandas as pd"
      ],
      "execution_count": null,
      "outputs": []
    },
    {
      "cell_type": "code",
      "metadata": {
        "colab": {
          "base_uri": "https://localhost:8080/"
        },
        "id": "bUMGT8Vu0oV5",
        "outputId": "aa331fb4-c6c8-442e-e6b3-3cca48eb7e6b"
      },
      "source": [
        "train = pd.read_csv('/content/drive/MyDrive/human activity/HAR/UCI_HAR_Dataset/csv_files/train.csv')\n",
        "test = pd.read_csv('/content/drive/MyDrive/human activity/HAR/UCI_HAR_Dataset/csv_files/test.csv')\n",
        "print(train.shape, test.shape)"
      ],
      "execution_count": null,
      "outputs": [
        {
          "output_type": "stream",
          "name": "stdout",
          "text": [
            "(7352, 564) (2947, 564)\n"
          ]
        }
      ]
    },
    {
      "cell_type": "code",
      "metadata": {
        "colab": {
          "base_uri": "https://localhost:8080/",
          "height": 191
        },
        "id": "0MnMO_kl0wZa",
        "outputId": "14c2e718-2988-4a27-e299-7f0a58afd686"
      },
      "source": [
        "train.head(3)"
      ],
      "execution_count": null,
      "outputs": [
        {
          "data": {
            "text/html": [
              "<div>\n",
              "<style scoped>\n",
              "    .dataframe tbody tr th:only-of-type {\n",
              "        vertical-align: middle;\n",
              "    }\n",
              "\n",
              "    .dataframe tbody tr th {\n",
              "        vertical-align: top;\n",
              "    }\n",
              "\n",
              "    .dataframe thead th {\n",
              "        text-align: right;\n",
              "    }\n",
              "</style>\n",
              "<table border=\"1\" class=\"dataframe\">\n",
              "  <thead>\n",
              "    <tr style=\"text-align: right;\">\n",
              "      <th></th>\n",
              "      <th>tBodyAccmeanX</th>\n",
              "      <th>tBodyAccmeanY</th>\n",
              "      <th>tBodyAccmeanZ</th>\n",
              "      <th>tBodyAccstdX</th>\n",
              "      <th>tBodyAccstdY</th>\n",
              "      <th>tBodyAccstdZ</th>\n",
              "      <th>tBodyAccmadX</th>\n",
              "      <th>tBodyAccmadY</th>\n",
              "      <th>tBodyAccmadZ</th>\n",
              "      <th>tBodyAccmaxX</th>\n",
              "      <th>tBodyAccmaxY</th>\n",
              "      <th>tBodyAccmaxZ</th>\n",
              "      <th>tBodyAccminX</th>\n",
              "      <th>tBodyAccminY</th>\n",
              "      <th>tBodyAccminZ</th>\n",
              "      <th>tBodyAccsma</th>\n",
              "      <th>tBodyAccenergyX</th>\n",
              "      <th>tBodyAccenergyY</th>\n",
              "      <th>tBodyAccenergyZ</th>\n",
              "      <th>tBodyAcciqrX</th>\n",
              "      <th>tBodyAcciqrY</th>\n",
              "      <th>tBodyAcciqrZ</th>\n",
              "      <th>tBodyAccentropyX</th>\n",
              "      <th>tBodyAccentropyY</th>\n",
              "      <th>tBodyAccentropyZ</th>\n",
              "      <th>tBodyAccarCoeffX1</th>\n",
              "      <th>tBodyAccarCoeffX2</th>\n",
              "      <th>tBodyAccarCoeffX3</th>\n",
              "      <th>tBodyAccarCoeffX4</th>\n",
              "      <th>tBodyAccarCoeffY1</th>\n",
              "      <th>tBodyAccarCoeffY2</th>\n",
              "      <th>tBodyAccarCoeffY3</th>\n",
              "      <th>tBodyAccarCoeffY4</th>\n",
              "      <th>tBodyAccarCoeffZ1</th>\n",
              "      <th>tBodyAccarCoeffZ2</th>\n",
              "      <th>tBodyAccarCoeffZ3</th>\n",
              "      <th>tBodyAccarCoeffZ4</th>\n",
              "      <th>tBodyAcccorrelationXY</th>\n",
              "      <th>tBodyAcccorrelationXZ</th>\n",
              "      <th>tBodyAcccorrelationYZ</th>\n",
              "      <th>...</th>\n",
              "      <th>fBodyBodyAccJerkMagmaxInds</th>\n",
              "      <th>fBodyBodyAccJerkMagmeanFreq</th>\n",
              "      <th>fBodyBodyAccJerkMagskewness</th>\n",
              "      <th>fBodyBodyAccJerkMagkurtosis</th>\n",
              "      <th>fBodyBodyGyroMagmean</th>\n",
              "      <th>fBodyBodyGyroMagstd</th>\n",
              "      <th>fBodyBodyGyroMagmad</th>\n",
              "      <th>fBodyBodyGyroMagmax</th>\n",
              "      <th>fBodyBodyGyroMagmin</th>\n",
              "      <th>fBodyBodyGyroMagsma</th>\n",
              "      <th>fBodyBodyGyroMagenergy</th>\n",
              "      <th>fBodyBodyGyroMagiqr</th>\n",
              "      <th>fBodyBodyGyroMagentropy</th>\n",
              "      <th>fBodyBodyGyroMagmaxInds</th>\n",
              "      <th>fBodyBodyGyroMagmeanFreq</th>\n",
              "      <th>fBodyBodyGyroMagskewness</th>\n",
              "      <th>fBodyBodyGyroMagkurtosis</th>\n",
              "      <th>fBodyBodyGyroJerkMagmean</th>\n",
              "      <th>fBodyBodyGyroJerkMagstd</th>\n",
              "      <th>fBodyBodyGyroJerkMagmad</th>\n",
              "      <th>fBodyBodyGyroJerkMagmax</th>\n",
              "      <th>fBodyBodyGyroJerkMagmin</th>\n",
              "      <th>fBodyBodyGyroJerkMagsma</th>\n",
              "      <th>fBodyBodyGyroJerkMagenergy</th>\n",
              "      <th>fBodyBodyGyroJerkMagiqr</th>\n",
              "      <th>fBodyBodyGyroJerkMagentropy</th>\n",
              "      <th>fBodyBodyGyroJerkMagmaxInds</th>\n",
              "      <th>fBodyBodyGyroJerkMagmeanFreq</th>\n",
              "      <th>fBodyBodyGyroJerkMagskewness</th>\n",
              "      <th>fBodyBodyGyroJerkMagkurtosis</th>\n",
              "      <th>angletBodyAccMeangravity</th>\n",
              "      <th>angletBodyAccJerkMeangravityMean</th>\n",
              "      <th>angletBodyGyroMeangravityMean</th>\n",
              "      <th>angletBodyGyroJerkMeangravityMean</th>\n",
              "      <th>angleXgravityMean</th>\n",
              "      <th>angleYgravityMean</th>\n",
              "      <th>angleZgravityMean</th>\n",
              "      <th>subject</th>\n",
              "      <th>Activity</th>\n",
              "      <th>ActivityName</th>\n",
              "    </tr>\n",
              "  </thead>\n",
              "  <tbody>\n",
              "    <tr>\n",
              "      <th>0</th>\n",
              "      <td>0.288585</td>\n",
              "      <td>-0.020294</td>\n",
              "      <td>-0.132905</td>\n",
              "      <td>-0.995279</td>\n",
              "      <td>-0.983111</td>\n",
              "      <td>-0.913526</td>\n",
              "      <td>-0.995112</td>\n",
              "      <td>-0.983185</td>\n",
              "      <td>-0.923527</td>\n",
              "      <td>-0.934724</td>\n",
              "      <td>-0.567378</td>\n",
              "      <td>-0.744413</td>\n",
              "      <td>0.852947</td>\n",
              "      <td>0.685845</td>\n",
              "      <td>0.814263</td>\n",
              "      <td>-0.965523</td>\n",
              "      <td>-0.999945</td>\n",
              "      <td>-0.999863</td>\n",
              "      <td>-0.994612</td>\n",
              "      <td>-0.994231</td>\n",
              "      <td>-0.987614</td>\n",
              "      <td>-0.943220</td>\n",
              "      <td>-0.407747</td>\n",
              "      <td>-0.679338</td>\n",
              "      <td>-0.602122</td>\n",
              "      <td>0.929294</td>\n",
              "      <td>-0.853011</td>\n",
              "      <td>0.359910</td>\n",
              "      <td>-0.058526</td>\n",
              "      <td>0.256892</td>\n",
              "      <td>-0.224848</td>\n",
              "      <td>0.264106</td>\n",
              "      <td>-0.095246</td>\n",
              "      <td>0.278851</td>\n",
              "      <td>-0.465085</td>\n",
              "      <td>0.491936</td>\n",
              "      <td>-0.190884</td>\n",
              "      <td>0.376314</td>\n",
              "      <td>0.435129</td>\n",
              "      <td>0.660790</td>\n",
              "      <td>...</td>\n",
              "      <td>-0.936508</td>\n",
              "      <td>0.346989</td>\n",
              "      <td>-0.516080</td>\n",
              "      <td>-0.802760</td>\n",
              "      <td>-0.980135</td>\n",
              "      <td>-0.961309</td>\n",
              "      <td>-0.973653</td>\n",
              "      <td>-0.952264</td>\n",
              "      <td>-0.989498</td>\n",
              "      <td>-0.980135</td>\n",
              "      <td>-0.999240</td>\n",
              "      <td>-0.992656</td>\n",
              "      <td>-0.701291</td>\n",
              "      <td>-1.000000</td>\n",
              "      <td>-0.128989</td>\n",
              "      <td>0.586156</td>\n",
              "      <td>0.374605</td>\n",
              "      <td>-0.991990</td>\n",
              "      <td>-0.990697</td>\n",
              "      <td>-0.989941</td>\n",
              "      <td>-0.992448</td>\n",
              "      <td>-0.991048</td>\n",
              "      <td>-0.991990</td>\n",
              "      <td>-0.999937</td>\n",
              "      <td>-0.990458</td>\n",
              "      <td>-0.871306</td>\n",
              "      <td>-1.000000</td>\n",
              "      <td>-0.074323</td>\n",
              "      <td>-0.298676</td>\n",
              "      <td>-0.710304</td>\n",
              "      <td>-0.112754</td>\n",
              "      <td>0.030400</td>\n",
              "      <td>-0.464761</td>\n",
              "      <td>-0.018446</td>\n",
              "      <td>-0.841247</td>\n",
              "      <td>0.179941</td>\n",
              "      <td>-0.058627</td>\n",
              "      <td>1</td>\n",
              "      <td>5</td>\n",
              "      <td>STANDING</td>\n",
              "    </tr>\n",
              "    <tr>\n",
              "      <th>1</th>\n",
              "      <td>0.278419</td>\n",
              "      <td>-0.016411</td>\n",
              "      <td>-0.123520</td>\n",
              "      <td>-0.998245</td>\n",
              "      <td>-0.975300</td>\n",
              "      <td>-0.960322</td>\n",
              "      <td>-0.998807</td>\n",
              "      <td>-0.974914</td>\n",
              "      <td>-0.957686</td>\n",
              "      <td>-0.943068</td>\n",
              "      <td>-0.557851</td>\n",
              "      <td>-0.818409</td>\n",
              "      <td>0.849308</td>\n",
              "      <td>0.685845</td>\n",
              "      <td>0.822637</td>\n",
              "      <td>-0.981930</td>\n",
              "      <td>-0.999991</td>\n",
              "      <td>-0.999788</td>\n",
              "      <td>-0.998405</td>\n",
              "      <td>-0.999150</td>\n",
              "      <td>-0.977866</td>\n",
              "      <td>-0.948225</td>\n",
              "      <td>-0.714892</td>\n",
              "      <td>-0.500930</td>\n",
              "      <td>-0.570979</td>\n",
              "      <td>0.611627</td>\n",
              "      <td>-0.329549</td>\n",
              "      <td>0.284213</td>\n",
              "      <td>0.284595</td>\n",
              "      <td>0.115705</td>\n",
              "      <td>-0.090963</td>\n",
              "      <td>0.294310</td>\n",
              "      <td>-0.281211</td>\n",
              "      <td>0.085988</td>\n",
              "      <td>-0.022153</td>\n",
              "      <td>-0.016657</td>\n",
              "      <td>-0.220643</td>\n",
              "      <td>-0.013429</td>\n",
              "      <td>-0.072692</td>\n",
              "      <td>0.579382</td>\n",
              "      <td>...</td>\n",
              "      <td>-0.841270</td>\n",
              "      <td>0.532061</td>\n",
              "      <td>-0.624871</td>\n",
              "      <td>-0.900160</td>\n",
              "      <td>-0.988296</td>\n",
              "      <td>-0.983322</td>\n",
              "      <td>-0.982659</td>\n",
              "      <td>-0.986321</td>\n",
              "      <td>-0.991829</td>\n",
              "      <td>-0.988296</td>\n",
              "      <td>-0.999811</td>\n",
              "      <td>-0.993979</td>\n",
              "      <td>-0.720683</td>\n",
              "      <td>-0.948718</td>\n",
              "      <td>-0.271958</td>\n",
              "      <td>-0.336310</td>\n",
              "      <td>-0.720015</td>\n",
              "      <td>-0.995854</td>\n",
              "      <td>-0.996399</td>\n",
              "      <td>-0.995442</td>\n",
              "      <td>-0.996866</td>\n",
              "      <td>-0.994440</td>\n",
              "      <td>-0.995854</td>\n",
              "      <td>-0.999981</td>\n",
              "      <td>-0.994544</td>\n",
              "      <td>-1.000000</td>\n",
              "      <td>-1.000000</td>\n",
              "      <td>0.158075</td>\n",
              "      <td>-0.595051</td>\n",
              "      <td>-0.861499</td>\n",
              "      <td>0.053477</td>\n",
              "      <td>-0.007435</td>\n",
              "      <td>-0.732626</td>\n",
              "      <td>0.703511</td>\n",
              "      <td>-0.844788</td>\n",
              "      <td>0.180289</td>\n",
              "      <td>-0.054317</td>\n",
              "      <td>1</td>\n",
              "      <td>5</td>\n",
              "      <td>STANDING</td>\n",
              "    </tr>\n",
              "    <tr>\n",
              "      <th>2</th>\n",
              "      <td>0.279653</td>\n",
              "      <td>-0.019467</td>\n",
              "      <td>-0.113462</td>\n",
              "      <td>-0.995380</td>\n",
              "      <td>-0.967187</td>\n",
              "      <td>-0.978944</td>\n",
              "      <td>-0.996520</td>\n",
              "      <td>-0.963668</td>\n",
              "      <td>-0.977469</td>\n",
              "      <td>-0.938692</td>\n",
              "      <td>-0.557851</td>\n",
              "      <td>-0.818409</td>\n",
              "      <td>0.843609</td>\n",
              "      <td>0.682401</td>\n",
              "      <td>0.839344</td>\n",
              "      <td>-0.983478</td>\n",
              "      <td>-0.999969</td>\n",
              "      <td>-0.999660</td>\n",
              "      <td>-0.999470</td>\n",
              "      <td>-0.997130</td>\n",
              "      <td>-0.964810</td>\n",
              "      <td>-0.974675</td>\n",
              "      <td>-0.592235</td>\n",
              "      <td>-0.485821</td>\n",
              "      <td>-0.570979</td>\n",
              "      <td>0.273025</td>\n",
              "      <td>-0.086309</td>\n",
              "      <td>0.337202</td>\n",
              "      <td>-0.164739</td>\n",
              "      <td>0.017150</td>\n",
              "      <td>-0.074507</td>\n",
              "      <td>0.342256</td>\n",
              "      <td>-0.332564</td>\n",
              "      <td>0.239281</td>\n",
              "      <td>-0.136204</td>\n",
              "      <td>0.173863</td>\n",
              "      <td>-0.299493</td>\n",
              "      <td>-0.124698</td>\n",
              "      <td>-0.181105</td>\n",
              "      <td>0.608900</td>\n",
              "      <td>...</td>\n",
              "      <td>-0.904762</td>\n",
              "      <td>0.660795</td>\n",
              "      <td>-0.724697</td>\n",
              "      <td>-0.928539</td>\n",
              "      <td>-0.989255</td>\n",
              "      <td>-0.986028</td>\n",
              "      <td>-0.984274</td>\n",
              "      <td>-0.990979</td>\n",
              "      <td>-0.995703</td>\n",
              "      <td>-0.989255</td>\n",
              "      <td>-0.999854</td>\n",
              "      <td>-0.993238</td>\n",
              "      <td>-0.736521</td>\n",
              "      <td>-0.794872</td>\n",
              "      <td>-0.212728</td>\n",
              "      <td>-0.535352</td>\n",
              "      <td>-0.871914</td>\n",
              "      <td>-0.995031</td>\n",
              "      <td>-0.995127</td>\n",
              "      <td>-0.994640</td>\n",
              "      <td>-0.996060</td>\n",
              "      <td>-0.995866</td>\n",
              "      <td>-0.995031</td>\n",
              "      <td>-0.999973</td>\n",
              "      <td>-0.993755</td>\n",
              "      <td>-1.000000</td>\n",
              "      <td>-0.555556</td>\n",
              "      <td>0.414503</td>\n",
              "      <td>-0.390748</td>\n",
              "      <td>-0.760104</td>\n",
              "      <td>-0.118559</td>\n",
              "      <td>0.177899</td>\n",
              "      <td>0.100699</td>\n",
              "      <td>0.808529</td>\n",
              "      <td>-0.848933</td>\n",
              "      <td>0.180637</td>\n",
              "      <td>-0.049118</td>\n",
              "      <td>1</td>\n",
              "      <td>5</td>\n",
              "      <td>STANDING</td>\n",
              "    </tr>\n",
              "  </tbody>\n",
              "</table>\n",
              "<p>3 rows × 564 columns</p>\n",
              "</div>"
            ],
            "text/plain": [
              "   tBodyAccmeanX  tBodyAccmeanY  tBodyAccmeanZ  ...  subject  Activity  ActivityName\n",
              "0       0.288585      -0.020294      -0.132905  ...        1         5      STANDING\n",
              "1       0.278419      -0.016411      -0.123520  ...        1         5      STANDING\n",
              "2       0.279653      -0.019467      -0.113462  ...        1         5      STANDING\n",
              "\n",
              "[3 rows x 564 columns]"
            ]
          },
          "execution_count": 9,
          "metadata": {},
          "output_type": "execute_result"
        }
      ]
    },
    {
      "cell_type": "code",
      "metadata": {
        "id": "0KTLPC5Z3yJZ"
      },
      "source": [
        "# get X_train and y_train from csv files\n",
        "X_train = train.drop(['subject', 'Activity', 'ActivityName'], axis=1)\n",
        "y_train = train.ActivityName"
      ],
      "execution_count": null,
      "outputs": []
    },
    {
      "cell_type": "code",
      "metadata": {
        "id": "krQyZI5H38Ux"
      },
      "source": [
        "# get X_test and y_test from test csv file\n",
        "X_test = test.drop(['subject', 'Activity', 'ActivityName'], axis=1)\n",
        "y_test = test.ActivityName"
      ],
      "execution_count": null,
      "outputs": []
    },
    {
      "cell_type": "code",
      "metadata": {
        "colab": {
          "base_uri": "https://localhost:8080/"
        },
        "id": "U4OAMwMA4Br8",
        "outputId": "00a15a74-6930-4b29-c1b2-601d6633332c"
      },
      "source": [
        "print('X_train and y_train : ({},{})'.format(X_train.shape, y_train.shape))\n",
        "print('X_test  and y_test  : ({},{})'.format(X_test.shape, y_test.shape))"
      ],
      "execution_count": null,
      "outputs": [
        {
          "name": "stdout",
          "output_type": "stream",
          "text": [
            "X_train and y_train : ((7352, 561),(7352,))\n",
            "X_test  and y_test  : ((2947, 561),(2947,))\n"
          ]
        }
      ]
    },
    {
      "cell_type": "code",
      "metadata": {
        "colab": {
          "base_uri": "https://localhost:8080/",
          "height": 253
        },
        "id": "vaOp4maG4P96",
        "outputId": "91997871-30ee-42ac-d964-090225b81a10"
      },
      "source": [
        "X_train.head()"
      ],
      "execution_count": null,
      "outputs": [
        {
          "data": {
            "text/html": [
              "<div>\n",
              "<style scoped>\n",
              "    .dataframe tbody tr th:only-of-type {\n",
              "        vertical-align: middle;\n",
              "    }\n",
              "\n",
              "    .dataframe tbody tr th {\n",
              "        vertical-align: top;\n",
              "    }\n",
              "\n",
              "    .dataframe thead th {\n",
              "        text-align: right;\n",
              "    }\n",
              "</style>\n",
              "<table border=\"1\" class=\"dataframe\">\n",
              "  <thead>\n",
              "    <tr style=\"text-align: right;\">\n",
              "      <th></th>\n",
              "      <th>tBodyAccmeanX</th>\n",
              "      <th>tBodyAccmeanY</th>\n",
              "      <th>tBodyAccmeanZ</th>\n",
              "      <th>tBodyAccstdX</th>\n",
              "      <th>tBodyAccstdY</th>\n",
              "      <th>tBodyAccstdZ</th>\n",
              "      <th>tBodyAccmadX</th>\n",
              "      <th>tBodyAccmadY</th>\n",
              "      <th>tBodyAccmadZ</th>\n",
              "      <th>tBodyAccmaxX</th>\n",
              "      <th>tBodyAccmaxY</th>\n",
              "      <th>tBodyAccmaxZ</th>\n",
              "      <th>tBodyAccminX</th>\n",
              "      <th>tBodyAccminY</th>\n",
              "      <th>tBodyAccminZ</th>\n",
              "      <th>tBodyAccsma</th>\n",
              "      <th>tBodyAccenergyX</th>\n",
              "      <th>tBodyAccenergyY</th>\n",
              "      <th>tBodyAccenergyZ</th>\n",
              "      <th>tBodyAcciqrX</th>\n",
              "      <th>tBodyAcciqrY</th>\n",
              "      <th>tBodyAcciqrZ</th>\n",
              "      <th>tBodyAccentropyX</th>\n",
              "      <th>tBodyAccentropyY</th>\n",
              "      <th>tBodyAccentropyZ</th>\n",
              "      <th>tBodyAccarCoeffX1</th>\n",
              "      <th>tBodyAccarCoeffX2</th>\n",
              "      <th>tBodyAccarCoeffX3</th>\n",
              "      <th>tBodyAccarCoeffX4</th>\n",
              "      <th>tBodyAccarCoeffY1</th>\n",
              "      <th>tBodyAccarCoeffY2</th>\n",
              "      <th>tBodyAccarCoeffY3</th>\n",
              "      <th>tBodyAccarCoeffY4</th>\n",
              "      <th>tBodyAccarCoeffZ1</th>\n",
              "      <th>tBodyAccarCoeffZ2</th>\n",
              "      <th>tBodyAccarCoeffZ3</th>\n",
              "      <th>tBodyAccarCoeffZ4</th>\n",
              "      <th>tBodyAcccorrelationXY</th>\n",
              "      <th>tBodyAcccorrelationXZ</th>\n",
              "      <th>tBodyAcccorrelationYZ</th>\n",
              "      <th>...</th>\n",
              "      <th>fBodyBodyAccJerkMagenergy</th>\n",
              "      <th>fBodyBodyAccJerkMagiqr</th>\n",
              "      <th>fBodyBodyAccJerkMagentropy</th>\n",
              "      <th>fBodyBodyAccJerkMagmaxInds</th>\n",
              "      <th>fBodyBodyAccJerkMagmeanFreq</th>\n",
              "      <th>fBodyBodyAccJerkMagskewness</th>\n",
              "      <th>fBodyBodyAccJerkMagkurtosis</th>\n",
              "      <th>fBodyBodyGyroMagmean</th>\n",
              "      <th>fBodyBodyGyroMagstd</th>\n",
              "      <th>fBodyBodyGyroMagmad</th>\n",
              "      <th>fBodyBodyGyroMagmax</th>\n",
              "      <th>fBodyBodyGyroMagmin</th>\n",
              "      <th>fBodyBodyGyroMagsma</th>\n",
              "      <th>fBodyBodyGyroMagenergy</th>\n",
              "      <th>fBodyBodyGyroMagiqr</th>\n",
              "      <th>fBodyBodyGyroMagentropy</th>\n",
              "      <th>fBodyBodyGyroMagmaxInds</th>\n",
              "      <th>fBodyBodyGyroMagmeanFreq</th>\n",
              "      <th>fBodyBodyGyroMagskewness</th>\n",
              "      <th>fBodyBodyGyroMagkurtosis</th>\n",
              "      <th>fBodyBodyGyroJerkMagmean</th>\n",
              "      <th>fBodyBodyGyroJerkMagstd</th>\n",
              "      <th>fBodyBodyGyroJerkMagmad</th>\n",
              "      <th>fBodyBodyGyroJerkMagmax</th>\n",
              "      <th>fBodyBodyGyroJerkMagmin</th>\n",
              "      <th>fBodyBodyGyroJerkMagsma</th>\n",
              "      <th>fBodyBodyGyroJerkMagenergy</th>\n",
              "      <th>fBodyBodyGyroJerkMagiqr</th>\n",
              "      <th>fBodyBodyGyroJerkMagentropy</th>\n",
              "      <th>fBodyBodyGyroJerkMagmaxInds</th>\n",
              "      <th>fBodyBodyGyroJerkMagmeanFreq</th>\n",
              "      <th>fBodyBodyGyroJerkMagskewness</th>\n",
              "      <th>fBodyBodyGyroJerkMagkurtosis</th>\n",
              "      <th>angletBodyAccMeangravity</th>\n",
              "      <th>angletBodyAccJerkMeangravityMean</th>\n",
              "      <th>angletBodyGyroMeangravityMean</th>\n",
              "      <th>angletBodyGyroJerkMeangravityMean</th>\n",
              "      <th>angleXgravityMean</th>\n",
              "      <th>angleYgravityMean</th>\n",
              "      <th>angleZgravityMean</th>\n",
              "    </tr>\n",
              "  </thead>\n",
              "  <tbody>\n",
              "    <tr>\n",
              "      <th>0</th>\n",
              "      <td>0.288585</td>\n",
              "      <td>-0.020294</td>\n",
              "      <td>-0.132905</td>\n",
              "      <td>-0.995279</td>\n",
              "      <td>-0.983111</td>\n",
              "      <td>-0.913526</td>\n",
              "      <td>-0.995112</td>\n",
              "      <td>-0.983185</td>\n",
              "      <td>-0.923527</td>\n",
              "      <td>-0.934724</td>\n",
              "      <td>-0.567378</td>\n",
              "      <td>-0.744413</td>\n",
              "      <td>0.852947</td>\n",
              "      <td>0.685845</td>\n",
              "      <td>0.814263</td>\n",
              "      <td>-0.965523</td>\n",
              "      <td>-0.999945</td>\n",
              "      <td>-0.999863</td>\n",
              "      <td>-0.994612</td>\n",
              "      <td>-0.994231</td>\n",
              "      <td>-0.987614</td>\n",
              "      <td>-0.943220</td>\n",
              "      <td>-0.407747</td>\n",
              "      <td>-0.679338</td>\n",
              "      <td>-0.602122</td>\n",
              "      <td>0.929294</td>\n",
              "      <td>-0.853011</td>\n",
              "      <td>0.359910</td>\n",
              "      <td>-0.058526</td>\n",
              "      <td>0.256892</td>\n",
              "      <td>-0.224848</td>\n",
              "      <td>0.264106</td>\n",
              "      <td>-0.095246</td>\n",
              "      <td>0.278851</td>\n",
              "      <td>-0.465085</td>\n",
              "      <td>0.491936</td>\n",
              "      <td>-0.190884</td>\n",
              "      <td>0.376314</td>\n",
              "      <td>0.435129</td>\n",
              "      <td>0.660790</td>\n",
              "      <td>...</td>\n",
              "      <td>-0.999918</td>\n",
              "      <td>-0.991364</td>\n",
              "      <td>-1.0</td>\n",
              "      <td>-0.936508</td>\n",
              "      <td>0.346989</td>\n",
              "      <td>-0.516080</td>\n",
              "      <td>-0.802760</td>\n",
              "      <td>-0.980135</td>\n",
              "      <td>-0.961309</td>\n",
              "      <td>-0.973653</td>\n",
              "      <td>-0.952264</td>\n",
              "      <td>-0.989498</td>\n",
              "      <td>-0.980135</td>\n",
              "      <td>-0.999240</td>\n",
              "      <td>-0.992656</td>\n",
              "      <td>-0.701291</td>\n",
              "      <td>-1.000000</td>\n",
              "      <td>-0.128989</td>\n",
              "      <td>0.586156</td>\n",
              "      <td>0.374605</td>\n",
              "      <td>-0.991990</td>\n",
              "      <td>-0.990697</td>\n",
              "      <td>-0.989941</td>\n",
              "      <td>-0.992448</td>\n",
              "      <td>-0.991048</td>\n",
              "      <td>-0.991990</td>\n",
              "      <td>-0.999937</td>\n",
              "      <td>-0.990458</td>\n",
              "      <td>-0.871306</td>\n",
              "      <td>-1.000000</td>\n",
              "      <td>-0.074323</td>\n",
              "      <td>-0.298676</td>\n",
              "      <td>-0.710304</td>\n",
              "      <td>-0.112754</td>\n",
              "      <td>0.030400</td>\n",
              "      <td>-0.464761</td>\n",
              "      <td>-0.018446</td>\n",
              "      <td>-0.841247</td>\n",
              "      <td>0.179941</td>\n",
              "      <td>-0.058627</td>\n",
              "    </tr>\n",
              "    <tr>\n",
              "      <th>1</th>\n",
              "      <td>0.278419</td>\n",
              "      <td>-0.016411</td>\n",
              "      <td>-0.123520</td>\n",
              "      <td>-0.998245</td>\n",
              "      <td>-0.975300</td>\n",
              "      <td>-0.960322</td>\n",
              "      <td>-0.998807</td>\n",
              "      <td>-0.974914</td>\n",
              "      <td>-0.957686</td>\n",
              "      <td>-0.943068</td>\n",
              "      <td>-0.557851</td>\n",
              "      <td>-0.818409</td>\n",
              "      <td>0.849308</td>\n",
              "      <td>0.685845</td>\n",
              "      <td>0.822637</td>\n",
              "      <td>-0.981930</td>\n",
              "      <td>-0.999991</td>\n",
              "      <td>-0.999788</td>\n",
              "      <td>-0.998405</td>\n",
              "      <td>-0.999150</td>\n",
              "      <td>-0.977866</td>\n",
              "      <td>-0.948225</td>\n",
              "      <td>-0.714892</td>\n",
              "      <td>-0.500930</td>\n",
              "      <td>-0.570979</td>\n",
              "      <td>0.611627</td>\n",
              "      <td>-0.329549</td>\n",
              "      <td>0.284213</td>\n",
              "      <td>0.284595</td>\n",
              "      <td>0.115705</td>\n",
              "      <td>-0.090963</td>\n",
              "      <td>0.294310</td>\n",
              "      <td>-0.281211</td>\n",
              "      <td>0.085988</td>\n",
              "      <td>-0.022153</td>\n",
              "      <td>-0.016657</td>\n",
              "      <td>-0.220643</td>\n",
              "      <td>-0.013429</td>\n",
              "      <td>-0.072692</td>\n",
              "      <td>0.579382</td>\n",
              "      <td>...</td>\n",
              "      <td>-0.999867</td>\n",
              "      <td>-0.991134</td>\n",
              "      <td>-1.0</td>\n",
              "      <td>-0.841270</td>\n",
              "      <td>0.532061</td>\n",
              "      <td>-0.624871</td>\n",
              "      <td>-0.900160</td>\n",
              "      <td>-0.988296</td>\n",
              "      <td>-0.983322</td>\n",
              "      <td>-0.982659</td>\n",
              "      <td>-0.986321</td>\n",
              "      <td>-0.991829</td>\n",
              "      <td>-0.988296</td>\n",
              "      <td>-0.999811</td>\n",
              "      <td>-0.993979</td>\n",
              "      <td>-0.720683</td>\n",
              "      <td>-0.948718</td>\n",
              "      <td>-0.271958</td>\n",
              "      <td>-0.336310</td>\n",
              "      <td>-0.720015</td>\n",
              "      <td>-0.995854</td>\n",
              "      <td>-0.996399</td>\n",
              "      <td>-0.995442</td>\n",
              "      <td>-0.996866</td>\n",
              "      <td>-0.994440</td>\n",
              "      <td>-0.995854</td>\n",
              "      <td>-0.999981</td>\n",
              "      <td>-0.994544</td>\n",
              "      <td>-1.000000</td>\n",
              "      <td>-1.000000</td>\n",
              "      <td>0.158075</td>\n",
              "      <td>-0.595051</td>\n",
              "      <td>-0.861499</td>\n",
              "      <td>0.053477</td>\n",
              "      <td>-0.007435</td>\n",
              "      <td>-0.732626</td>\n",
              "      <td>0.703511</td>\n",
              "      <td>-0.844788</td>\n",
              "      <td>0.180289</td>\n",
              "      <td>-0.054317</td>\n",
              "    </tr>\n",
              "    <tr>\n",
              "      <th>2</th>\n",
              "      <td>0.279653</td>\n",
              "      <td>-0.019467</td>\n",
              "      <td>-0.113462</td>\n",
              "      <td>-0.995380</td>\n",
              "      <td>-0.967187</td>\n",
              "      <td>-0.978944</td>\n",
              "      <td>-0.996520</td>\n",
              "      <td>-0.963668</td>\n",
              "      <td>-0.977469</td>\n",
              "      <td>-0.938692</td>\n",
              "      <td>-0.557851</td>\n",
              "      <td>-0.818409</td>\n",
              "      <td>0.843609</td>\n",
              "      <td>0.682401</td>\n",
              "      <td>0.839344</td>\n",
              "      <td>-0.983478</td>\n",
              "      <td>-0.999969</td>\n",
              "      <td>-0.999660</td>\n",
              "      <td>-0.999470</td>\n",
              "      <td>-0.997130</td>\n",
              "      <td>-0.964810</td>\n",
              "      <td>-0.974675</td>\n",
              "      <td>-0.592235</td>\n",
              "      <td>-0.485821</td>\n",
              "      <td>-0.570979</td>\n",
              "      <td>0.273025</td>\n",
              "      <td>-0.086309</td>\n",
              "      <td>0.337202</td>\n",
              "      <td>-0.164739</td>\n",
              "      <td>0.017150</td>\n",
              "      <td>-0.074507</td>\n",
              "      <td>0.342256</td>\n",
              "      <td>-0.332564</td>\n",
              "      <td>0.239281</td>\n",
              "      <td>-0.136204</td>\n",
              "      <td>0.173863</td>\n",
              "      <td>-0.299493</td>\n",
              "      <td>-0.124698</td>\n",
              "      <td>-0.181105</td>\n",
              "      <td>0.608900</td>\n",
              "      <td>...</td>\n",
              "      <td>-0.999845</td>\n",
              "      <td>-0.986658</td>\n",
              "      <td>-1.0</td>\n",
              "      <td>-0.904762</td>\n",
              "      <td>0.660795</td>\n",
              "      <td>-0.724697</td>\n",
              "      <td>-0.928539</td>\n",
              "      <td>-0.989255</td>\n",
              "      <td>-0.986028</td>\n",
              "      <td>-0.984274</td>\n",
              "      <td>-0.990979</td>\n",
              "      <td>-0.995703</td>\n",
              "      <td>-0.989255</td>\n",
              "      <td>-0.999854</td>\n",
              "      <td>-0.993238</td>\n",
              "      <td>-0.736521</td>\n",
              "      <td>-0.794872</td>\n",
              "      <td>-0.212728</td>\n",
              "      <td>-0.535352</td>\n",
              "      <td>-0.871914</td>\n",
              "      <td>-0.995031</td>\n",
              "      <td>-0.995127</td>\n",
              "      <td>-0.994640</td>\n",
              "      <td>-0.996060</td>\n",
              "      <td>-0.995866</td>\n",
              "      <td>-0.995031</td>\n",
              "      <td>-0.999973</td>\n",
              "      <td>-0.993755</td>\n",
              "      <td>-1.000000</td>\n",
              "      <td>-0.555556</td>\n",
              "      <td>0.414503</td>\n",
              "      <td>-0.390748</td>\n",
              "      <td>-0.760104</td>\n",
              "      <td>-0.118559</td>\n",
              "      <td>0.177899</td>\n",
              "      <td>0.100699</td>\n",
              "      <td>0.808529</td>\n",
              "      <td>-0.848933</td>\n",
              "      <td>0.180637</td>\n",
              "      <td>-0.049118</td>\n",
              "    </tr>\n",
              "    <tr>\n",
              "      <th>3</th>\n",
              "      <td>0.279174</td>\n",
              "      <td>-0.026201</td>\n",
              "      <td>-0.123283</td>\n",
              "      <td>-0.996091</td>\n",
              "      <td>-0.983403</td>\n",
              "      <td>-0.990675</td>\n",
              "      <td>-0.997099</td>\n",
              "      <td>-0.982750</td>\n",
              "      <td>-0.989302</td>\n",
              "      <td>-0.938692</td>\n",
              "      <td>-0.576159</td>\n",
              "      <td>-0.829711</td>\n",
              "      <td>0.843609</td>\n",
              "      <td>0.682401</td>\n",
              "      <td>0.837869</td>\n",
              "      <td>-0.986093</td>\n",
              "      <td>-0.999976</td>\n",
              "      <td>-0.999736</td>\n",
              "      <td>-0.999504</td>\n",
              "      <td>-0.997180</td>\n",
              "      <td>-0.983799</td>\n",
              "      <td>-0.986007</td>\n",
              "      <td>-0.627446</td>\n",
              "      <td>-0.850930</td>\n",
              "      <td>-0.911872</td>\n",
              "      <td>0.061436</td>\n",
              "      <td>0.074840</td>\n",
              "      <td>0.198204</td>\n",
              "      <td>-0.264307</td>\n",
              "      <td>0.072545</td>\n",
              "      <td>-0.155320</td>\n",
              "      <td>0.323154</td>\n",
              "      <td>-0.170813</td>\n",
              "      <td>0.294938</td>\n",
              "      <td>-0.306081</td>\n",
              "      <td>0.482148</td>\n",
              "      <td>-0.470129</td>\n",
              "      <td>-0.305693</td>\n",
              "      <td>-0.362654</td>\n",
              "      <td>0.507459</td>\n",
              "      <td>...</td>\n",
              "      <td>-0.999895</td>\n",
              "      <td>-0.988055</td>\n",
              "      <td>-1.0</td>\n",
              "      <td>1.000000</td>\n",
              "      <td>0.678921</td>\n",
              "      <td>-0.701131</td>\n",
              "      <td>-0.909639</td>\n",
              "      <td>-0.989413</td>\n",
              "      <td>-0.987836</td>\n",
              "      <td>-0.986850</td>\n",
              "      <td>-0.986749</td>\n",
              "      <td>-0.996199</td>\n",
              "      <td>-0.989413</td>\n",
              "      <td>-0.999876</td>\n",
              "      <td>-0.989136</td>\n",
              "      <td>-0.720891</td>\n",
              "      <td>-1.000000</td>\n",
              "      <td>-0.035684</td>\n",
              "      <td>-0.230091</td>\n",
              "      <td>-0.511217</td>\n",
              "      <td>-0.995221</td>\n",
              "      <td>-0.995237</td>\n",
              "      <td>-0.995722</td>\n",
              "      <td>-0.995273</td>\n",
              "      <td>-0.995732</td>\n",
              "      <td>-0.995221</td>\n",
              "      <td>-0.999974</td>\n",
              "      <td>-0.995226</td>\n",
              "      <td>-0.955696</td>\n",
              "      <td>-0.936508</td>\n",
              "      <td>0.404573</td>\n",
              "      <td>-0.117290</td>\n",
              "      <td>-0.482845</td>\n",
              "      <td>-0.036788</td>\n",
              "      <td>-0.012892</td>\n",
              "      <td>0.640011</td>\n",
              "      <td>-0.485366</td>\n",
              "      <td>-0.848649</td>\n",
              "      <td>0.181935</td>\n",
              "      <td>-0.047663</td>\n",
              "    </tr>\n",
              "    <tr>\n",
              "      <th>4</th>\n",
              "      <td>0.276629</td>\n",
              "      <td>-0.016570</td>\n",
              "      <td>-0.115362</td>\n",
              "      <td>-0.998139</td>\n",
              "      <td>-0.980817</td>\n",
              "      <td>-0.990482</td>\n",
              "      <td>-0.998321</td>\n",
              "      <td>-0.979672</td>\n",
              "      <td>-0.990441</td>\n",
              "      <td>-0.942469</td>\n",
              "      <td>-0.569174</td>\n",
              "      <td>-0.824705</td>\n",
              "      <td>0.849095</td>\n",
              "      <td>0.683250</td>\n",
              "      <td>0.837869</td>\n",
              "      <td>-0.992653</td>\n",
              "      <td>-0.999991</td>\n",
              "      <td>-0.999856</td>\n",
              "      <td>-0.999757</td>\n",
              "      <td>-0.998004</td>\n",
              "      <td>-0.981232</td>\n",
              "      <td>-0.991325</td>\n",
              "      <td>-0.786553</td>\n",
              "      <td>-0.559477</td>\n",
              "      <td>-0.761434</td>\n",
              "      <td>0.313276</td>\n",
              "      <td>-0.131208</td>\n",
              "      <td>0.191161</td>\n",
              "      <td>0.086904</td>\n",
              "      <td>0.257615</td>\n",
              "      <td>-0.272505</td>\n",
              "      <td>0.434728</td>\n",
              "      <td>-0.315375</td>\n",
              "      <td>0.439744</td>\n",
              "      <td>-0.269069</td>\n",
              "      <td>0.179414</td>\n",
              "      <td>-0.088952</td>\n",
              "      <td>-0.155804</td>\n",
              "      <td>-0.189763</td>\n",
              "      <td>0.599213</td>\n",
              "      <td>...</td>\n",
              "      <td>-0.999941</td>\n",
              "      <td>-0.994169</td>\n",
              "      <td>-1.0</td>\n",
              "      <td>-1.000000</td>\n",
              "      <td>0.559058</td>\n",
              "      <td>-0.528901</td>\n",
              "      <td>-0.858933</td>\n",
              "      <td>-0.991433</td>\n",
              "      <td>-0.989059</td>\n",
              "      <td>-0.987744</td>\n",
              "      <td>-0.991462</td>\n",
              "      <td>-0.998353</td>\n",
              "      <td>-0.991433</td>\n",
              "      <td>-0.999902</td>\n",
              "      <td>-0.989321</td>\n",
              "      <td>-0.763372</td>\n",
              "      <td>-0.897436</td>\n",
              "      <td>-0.273582</td>\n",
              "      <td>-0.510282</td>\n",
              "      <td>-0.830702</td>\n",
              "      <td>-0.995093</td>\n",
              "      <td>-0.995465</td>\n",
              "      <td>-0.995279</td>\n",
              "      <td>-0.995609</td>\n",
              "      <td>-0.997418</td>\n",
              "      <td>-0.995093</td>\n",
              "      <td>-0.999974</td>\n",
              "      <td>-0.995487</td>\n",
              "      <td>-1.000000</td>\n",
              "      <td>-0.936508</td>\n",
              "      <td>0.087753</td>\n",
              "      <td>-0.351471</td>\n",
              "      <td>-0.699205</td>\n",
              "      <td>0.123320</td>\n",
              "      <td>0.122542</td>\n",
              "      <td>0.693578</td>\n",
              "      <td>-0.615971</td>\n",
              "      <td>-0.847865</td>\n",
              "      <td>0.185151</td>\n",
              "      <td>-0.043892</td>\n",
              "    </tr>\n",
              "  </tbody>\n",
              "</table>\n",
              "<p>5 rows × 561 columns</p>\n",
              "</div>"
            ],
            "text/plain": [
              "   tBodyAccmeanX  tBodyAccmeanY  ...  angleYgravityMean  angleZgravityMean\n",
              "0       0.288585      -0.020294  ...           0.179941          -0.058627\n",
              "1       0.278419      -0.016411  ...           0.180289          -0.054317\n",
              "2       0.279653      -0.019467  ...           0.180637          -0.049118\n",
              "3       0.279174      -0.026201  ...           0.181935          -0.047663\n",
              "4       0.276629      -0.016570  ...           0.185151          -0.043892\n",
              "\n",
              "[5 rows x 561 columns]"
            ]
          },
          "execution_count": 13,
          "metadata": {},
          "output_type": "execute_result"
        }
      ]
    },
    {
      "cell_type": "code",
      "metadata": {
        "colab": {
          "base_uri": "https://localhost:8080/",
          "height": 253
        },
        "id": "iOH0wNdg4WMl",
        "outputId": "e2c4b815-245f-4078-b2c4-52bdfa90c7ec"
      },
      "source": [
        "X_test.head()"
      ],
      "execution_count": null,
      "outputs": [
        {
          "data": {
            "text/html": [
              "<div>\n",
              "<style scoped>\n",
              "    .dataframe tbody tr th:only-of-type {\n",
              "        vertical-align: middle;\n",
              "    }\n",
              "\n",
              "    .dataframe tbody tr th {\n",
              "        vertical-align: top;\n",
              "    }\n",
              "\n",
              "    .dataframe thead th {\n",
              "        text-align: right;\n",
              "    }\n",
              "</style>\n",
              "<table border=\"1\" class=\"dataframe\">\n",
              "  <thead>\n",
              "    <tr style=\"text-align: right;\">\n",
              "      <th></th>\n",
              "      <th>tBodyAccmeanX</th>\n",
              "      <th>tBodyAccmeanY</th>\n",
              "      <th>tBodyAccmeanZ</th>\n",
              "      <th>tBodyAccstdX</th>\n",
              "      <th>tBodyAccstdY</th>\n",
              "      <th>tBodyAccstdZ</th>\n",
              "      <th>tBodyAccmadX</th>\n",
              "      <th>tBodyAccmadY</th>\n",
              "      <th>tBodyAccmadZ</th>\n",
              "      <th>tBodyAccmaxX</th>\n",
              "      <th>tBodyAccmaxY</th>\n",
              "      <th>tBodyAccmaxZ</th>\n",
              "      <th>tBodyAccminX</th>\n",
              "      <th>tBodyAccminY</th>\n",
              "      <th>tBodyAccminZ</th>\n",
              "      <th>tBodyAccsma</th>\n",
              "      <th>tBodyAccenergyX</th>\n",
              "      <th>tBodyAccenergyY</th>\n",
              "      <th>tBodyAccenergyZ</th>\n",
              "      <th>tBodyAcciqrX</th>\n",
              "      <th>tBodyAcciqrY</th>\n",
              "      <th>tBodyAcciqrZ</th>\n",
              "      <th>tBodyAccentropyX</th>\n",
              "      <th>tBodyAccentropyY</th>\n",
              "      <th>tBodyAccentropyZ</th>\n",
              "      <th>tBodyAccarCoeffX1</th>\n",
              "      <th>tBodyAccarCoeffX2</th>\n",
              "      <th>tBodyAccarCoeffX3</th>\n",
              "      <th>tBodyAccarCoeffX4</th>\n",
              "      <th>tBodyAccarCoeffY1</th>\n",
              "      <th>tBodyAccarCoeffY2</th>\n",
              "      <th>tBodyAccarCoeffY3</th>\n",
              "      <th>tBodyAccarCoeffY4</th>\n",
              "      <th>tBodyAccarCoeffZ1</th>\n",
              "      <th>tBodyAccarCoeffZ2</th>\n",
              "      <th>tBodyAccarCoeffZ3</th>\n",
              "      <th>tBodyAccarCoeffZ4</th>\n",
              "      <th>tBodyAcccorrelationXY</th>\n",
              "      <th>tBodyAcccorrelationXZ</th>\n",
              "      <th>tBodyAcccorrelationYZ</th>\n",
              "      <th>...</th>\n",
              "      <th>fBodyBodyAccJerkMagenergy</th>\n",
              "      <th>fBodyBodyAccJerkMagiqr</th>\n",
              "      <th>fBodyBodyAccJerkMagentropy</th>\n",
              "      <th>fBodyBodyAccJerkMagmaxInds</th>\n",
              "      <th>fBodyBodyAccJerkMagmeanFreq</th>\n",
              "      <th>fBodyBodyAccJerkMagskewness</th>\n",
              "      <th>fBodyBodyAccJerkMagkurtosis</th>\n",
              "      <th>fBodyBodyGyroMagmean</th>\n",
              "      <th>fBodyBodyGyroMagstd</th>\n",
              "      <th>fBodyBodyGyroMagmad</th>\n",
              "      <th>fBodyBodyGyroMagmax</th>\n",
              "      <th>fBodyBodyGyroMagmin</th>\n",
              "      <th>fBodyBodyGyroMagsma</th>\n",
              "      <th>fBodyBodyGyroMagenergy</th>\n",
              "      <th>fBodyBodyGyroMagiqr</th>\n",
              "      <th>fBodyBodyGyroMagentropy</th>\n",
              "      <th>fBodyBodyGyroMagmaxInds</th>\n",
              "      <th>fBodyBodyGyroMagmeanFreq</th>\n",
              "      <th>fBodyBodyGyroMagskewness</th>\n",
              "      <th>fBodyBodyGyroMagkurtosis</th>\n",
              "      <th>fBodyBodyGyroJerkMagmean</th>\n",
              "      <th>fBodyBodyGyroJerkMagstd</th>\n",
              "      <th>fBodyBodyGyroJerkMagmad</th>\n",
              "      <th>fBodyBodyGyroJerkMagmax</th>\n",
              "      <th>fBodyBodyGyroJerkMagmin</th>\n",
              "      <th>fBodyBodyGyroJerkMagsma</th>\n",
              "      <th>fBodyBodyGyroJerkMagenergy</th>\n",
              "      <th>fBodyBodyGyroJerkMagiqr</th>\n",
              "      <th>fBodyBodyGyroJerkMagentropy</th>\n",
              "      <th>fBodyBodyGyroJerkMagmaxInds</th>\n",
              "      <th>fBodyBodyGyroJerkMagmeanFreq</th>\n",
              "      <th>fBodyBodyGyroJerkMagskewness</th>\n",
              "      <th>fBodyBodyGyroJerkMagkurtosis</th>\n",
              "      <th>angletBodyAccMeangravity</th>\n",
              "      <th>angletBodyAccJerkMeangravityMean</th>\n",
              "      <th>angletBodyGyroMeangravityMean</th>\n",
              "      <th>angletBodyGyroJerkMeangravityMean</th>\n",
              "      <th>angleXgravityMean</th>\n",
              "      <th>angleYgravityMean</th>\n",
              "      <th>angleZgravityMean</th>\n",
              "    </tr>\n",
              "  </thead>\n",
              "  <tbody>\n",
              "    <tr>\n",
              "      <th>0</th>\n",
              "      <td>0.257178</td>\n",
              "      <td>-0.023285</td>\n",
              "      <td>-0.014654</td>\n",
              "      <td>-0.938404</td>\n",
              "      <td>-0.920091</td>\n",
              "      <td>-0.667683</td>\n",
              "      <td>-0.952501</td>\n",
              "      <td>-0.925249</td>\n",
              "      <td>-0.674302</td>\n",
              "      <td>-0.894088</td>\n",
              "      <td>-0.554577</td>\n",
              "      <td>-0.466223</td>\n",
              "      <td>0.717208</td>\n",
              "      <td>0.635502</td>\n",
              "      <td>0.789497</td>\n",
              "      <td>-0.877764</td>\n",
              "      <td>-0.997766</td>\n",
              "      <td>-0.998414</td>\n",
              "      <td>-0.934345</td>\n",
              "      <td>-0.975669</td>\n",
              "      <td>-0.949824</td>\n",
              "      <td>-0.830478</td>\n",
              "      <td>-0.168084</td>\n",
              "      <td>-0.378996</td>\n",
              "      <td>0.246217</td>\n",
              "      <td>0.521204</td>\n",
              "      <td>-0.487793</td>\n",
              "      <td>0.482280</td>\n",
              "      <td>-0.045462</td>\n",
              "      <td>0.211955</td>\n",
              "      <td>-0.134894</td>\n",
              "      <td>0.130858</td>\n",
              "      <td>-0.014176</td>\n",
              "      <td>-0.105971</td>\n",
              "      <td>0.073544</td>\n",
              "      <td>-0.171516</td>\n",
              "      <td>0.040063</td>\n",
              "      <td>0.076989</td>\n",
              "      <td>-0.490546</td>\n",
              "      <td>-0.709003</td>\n",
              "      <td>...</td>\n",
              "      <td>-0.993471</td>\n",
              "      <td>-0.921477</td>\n",
              "      <td>-0.484619</td>\n",
              "      <td>-1.000000</td>\n",
              "      <td>-0.035356</td>\n",
              "      <td>-0.254248</td>\n",
              "      <td>-0.700326</td>\n",
              "      <td>-0.770610</td>\n",
              "      <td>-0.797113</td>\n",
              "      <td>-0.764485</td>\n",
              "      <td>-0.820188</td>\n",
              "      <td>-0.937959</td>\n",
              "      <td>-0.770610</td>\n",
              "      <td>-0.970958</td>\n",
              "      <td>-0.798387</td>\n",
              "      <td>0.179435</td>\n",
              "      <td>-1.000000</td>\n",
              "      <td>-0.047391</td>\n",
              "      <td>-0.467849</td>\n",
              "      <td>-0.761326</td>\n",
              "      <td>-0.890165</td>\n",
              "      <td>-0.907308</td>\n",
              "      <td>-0.895301</td>\n",
              "      <td>-0.917883</td>\n",
              "      <td>-0.909829</td>\n",
              "      <td>-0.890165</td>\n",
              "      <td>-0.994105</td>\n",
              "      <td>-0.898022</td>\n",
              "      <td>-0.234815</td>\n",
              "      <td>-1.000000</td>\n",
              "      <td>0.071645</td>\n",
              "      <td>-0.330370</td>\n",
              "      <td>-0.705974</td>\n",
              "      <td>0.006462</td>\n",
              "      <td>0.162920</td>\n",
              "      <td>-0.825886</td>\n",
              "      <td>0.271151</td>\n",
              "      <td>-0.720009</td>\n",
              "      <td>0.276801</td>\n",
              "      <td>-0.057978</td>\n",
              "    </tr>\n",
              "    <tr>\n",
              "      <th>1</th>\n",
              "      <td>0.286027</td>\n",
              "      <td>-0.013163</td>\n",
              "      <td>-0.119083</td>\n",
              "      <td>-0.975415</td>\n",
              "      <td>-0.967458</td>\n",
              "      <td>-0.944958</td>\n",
              "      <td>-0.986799</td>\n",
              "      <td>-0.968401</td>\n",
              "      <td>-0.945823</td>\n",
              "      <td>-0.894088</td>\n",
              "      <td>-0.554577</td>\n",
              "      <td>-0.806013</td>\n",
              "      <td>0.768031</td>\n",
              "      <td>0.683698</td>\n",
              "      <td>0.796706</td>\n",
              "      <td>-0.969097</td>\n",
              "      <td>-0.999580</td>\n",
              "      <td>-0.999646</td>\n",
              "      <td>-0.997720</td>\n",
              "      <td>-0.994006</td>\n",
              "      <td>-0.973637</td>\n",
              "      <td>-0.950720</td>\n",
              "      <td>-0.302437</td>\n",
              "      <td>-0.348243</td>\n",
              "      <td>-0.404785</td>\n",
              "      <td>0.507492</td>\n",
              "      <td>-0.156495</td>\n",
              "      <td>0.040674</td>\n",
              "      <td>0.272991</td>\n",
              "      <td>0.197566</td>\n",
              "      <td>-0.194556</td>\n",
              "      <td>0.411411</td>\n",
              "      <td>-0.340466</td>\n",
              "      <td>0.077555</td>\n",
              "      <td>-0.084024</td>\n",
              "      <td>0.035305</td>\n",
              "      <td>-0.010083</td>\n",
              "      <td>-0.104983</td>\n",
              "      <td>-0.429134</td>\n",
              "      <td>0.399177</td>\n",
              "      <td>...</td>\n",
              "      <td>-0.997610</td>\n",
              "      <td>-0.957178</td>\n",
              "      <td>-0.723642</td>\n",
              "      <td>-1.000000</td>\n",
              "      <td>-0.491213</td>\n",
              "      <td>-0.215404</td>\n",
              "      <td>-0.666004</td>\n",
              "      <td>-0.924461</td>\n",
              "      <td>-0.916774</td>\n",
              "      <td>-0.919383</td>\n",
              "      <td>-0.917983</td>\n",
              "      <td>-0.991121</td>\n",
              "      <td>-0.924461</td>\n",
              "      <td>-0.995727</td>\n",
              "      <td>-0.933127</td>\n",
              "      <td>-0.218860</td>\n",
              "      <td>-1.000000</td>\n",
              "      <td>-0.031474</td>\n",
              "      <td>-0.090655</td>\n",
              "      <td>-0.461801</td>\n",
              "      <td>-0.951977</td>\n",
              "      <td>-0.938212</td>\n",
              "      <td>-0.938008</td>\n",
              "      <td>-0.949922</td>\n",
              "      <td>-0.986902</td>\n",
              "      <td>-0.951977</td>\n",
              "      <td>-0.998272</td>\n",
              "      <td>-0.951255</td>\n",
              "      <td>-0.431053</td>\n",
              "      <td>-1.000000</td>\n",
              "      <td>-0.401189</td>\n",
              "      <td>-0.121845</td>\n",
              "      <td>-0.594944</td>\n",
              "      <td>-0.083495</td>\n",
              "      <td>0.017500</td>\n",
              "      <td>-0.434375</td>\n",
              "      <td>0.920593</td>\n",
              "      <td>-0.698091</td>\n",
              "      <td>0.281343</td>\n",
              "      <td>-0.083898</td>\n",
              "    </tr>\n",
              "    <tr>\n",
              "      <th>2</th>\n",
              "      <td>0.275485</td>\n",
              "      <td>-0.026050</td>\n",
              "      <td>-0.118152</td>\n",
              "      <td>-0.993819</td>\n",
              "      <td>-0.969926</td>\n",
              "      <td>-0.962748</td>\n",
              "      <td>-0.994403</td>\n",
              "      <td>-0.970735</td>\n",
              "      <td>-0.963483</td>\n",
              "      <td>-0.939260</td>\n",
              "      <td>-0.568512</td>\n",
              "      <td>-0.799116</td>\n",
              "      <td>0.848305</td>\n",
              "      <td>0.667864</td>\n",
              "      <td>0.822442</td>\n",
              "      <td>-0.976782</td>\n",
              "      <td>-0.999954</td>\n",
              "      <td>-0.999570</td>\n",
              "      <td>-0.998720</td>\n",
              "      <td>-0.993456</td>\n",
              "      <td>-0.974266</td>\n",
              "      <td>-0.964976</td>\n",
              "      <td>-0.617916</td>\n",
              "      <td>-0.695490</td>\n",
              "      <td>-0.536693</td>\n",
              "      <td>0.242147</td>\n",
              "      <td>-0.114997</td>\n",
              "      <td>0.032703</td>\n",
              "      <td>0.192385</td>\n",
              "      <td>-0.011945</td>\n",
              "      <td>-0.063363</td>\n",
              "      <td>0.470819</td>\n",
              "      <td>-0.507395</td>\n",
              "      <td>0.188536</td>\n",
              "      <td>-0.231575</td>\n",
              "      <td>0.632120</td>\n",
              "      <td>-0.550708</td>\n",
              "      <td>0.305653</td>\n",
              "      <td>-0.323848</td>\n",
              "      <td>0.279786</td>\n",
              "      <td>...</td>\n",
              "      <td>-0.999269</td>\n",
              "      <td>-0.978222</td>\n",
              "      <td>-0.898000</td>\n",
              "      <td>-1.000000</td>\n",
              "      <td>0.140729</td>\n",
              "      <td>-0.206062</td>\n",
              "      <td>-0.639809</td>\n",
              "      <td>-0.975209</td>\n",
              "      <td>-0.973998</td>\n",
              "      <td>-0.967097</td>\n",
              "      <td>-0.982849</td>\n",
              "      <td>-0.997663</td>\n",
              "      <td>-0.975209</td>\n",
              "      <td>-0.999504</td>\n",
              "      <td>-0.968260</td>\n",
              "      <td>-0.561266</td>\n",
              "      <td>-0.897436</td>\n",
              "      <td>-0.168805</td>\n",
              "      <td>-0.662317</td>\n",
              "      <td>-0.925364</td>\n",
              "      <td>-0.985689</td>\n",
              "      <td>-0.983273</td>\n",
              "      <td>-0.983422</td>\n",
              "      <td>-0.986857</td>\n",
              "      <td>-0.989609</td>\n",
              "      <td>-0.985689</td>\n",
              "      <td>-0.999831</td>\n",
              "      <td>-0.986148</td>\n",
              "      <td>-0.809976</td>\n",
              "      <td>-0.936508</td>\n",
              "      <td>0.062891</td>\n",
              "      <td>-0.190422</td>\n",
              "      <td>-0.640736</td>\n",
              "      <td>-0.034956</td>\n",
              "      <td>0.202302</td>\n",
              "      <td>0.064103</td>\n",
              "      <td>0.145068</td>\n",
              "      <td>-0.702771</td>\n",
              "      <td>0.280083</td>\n",
              "      <td>-0.079346</td>\n",
              "    </tr>\n",
              "    <tr>\n",
              "      <th>3</th>\n",
              "      <td>0.270298</td>\n",
              "      <td>-0.032614</td>\n",
              "      <td>-0.117520</td>\n",
              "      <td>-0.994743</td>\n",
              "      <td>-0.973268</td>\n",
              "      <td>-0.967091</td>\n",
              "      <td>-0.995274</td>\n",
              "      <td>-0.974471</td>\n",
              "      <td>-0.968897</td>\n",
              "      <td>-0.938610</td>\n",
              "      <td>-0.568512</td>\n",
              "      <td>-0.799116</td>\n",
              "      <td>0.848305</td>\n",
              "      <td>0.667864</td>\n",
              "      <td>0.822442</td>\n",
              "      <td>-0.974418</td>\n",
              "      <td>-0.999953</td>\n",
              "      <td>-0.999330</td>\n",
              "      <td>-0.998933</td>\n",
              "      <td>-0.995236</td>\n",
              "      <td>-0.978739</td>\n",
              "      <td>-0.969982</td>\n",
              "      <td>-0.749578</td>\n",
              "      <td>-0.899226</td>\n",
              "      <td>-0.553813</td>\n",
              "      <td>0.174684</td>\n",
              "      <td>-0.051332</td>\n",
              "      <td>0.034200</td>\n",
              "      <td>0.153639</td>\n",
              "      <td>0.030767</td>\n",
              "      <td>-0.129277</td>\n",
              "      <td>0.446100</td>\n",
              "      <td>-0.419496</td>\n",
              "      <td>0.271493</td>\n",
              "      <td>-0.225769</td>\n",
              "      <td>0.416376</td>\n",
              "      <td>-0.286445</td>\n",
              "      <td>-0.063792</td>\n",
              "      <td>-0.167111</td>\n",
              "      <td>0.544916</td>\n",
              "      <td>...</td>\n",
              "      <td>-0.999400</td>\n",
              "      <td>-0.980365</td>\n",
              "      <td>-1.000000</td>\n",
              "      <td>-0.968254</td>\n",
              "      <td>0.148649</td>\n",
              "      <td>-0.619905</td>\n",
              "      <td>-0.887178</td>\n",
              "      <td>-0.976297</td>\n",
              "      <td>-0.971248</td>\n",
              "      <td>-0.966029</td>\n",
              "      <td>-0.974878</td>\n",
              "      <td>-0.996129</td>\n",
              "      <td>-0.976297</td>\n",
              "      <td>-0.999458</td>\n",
              "      <td>-0.975174</td>\n",
              "      <td>-0.566733</td>\n",
              "      <td>-0.948718</td>\n",
              "      <td>-0.285636</td>\n",
              "      <td>-0.446478</td>\n",
              "      <td>-0.756855</td>\n",
              "      <td>-0.985562</td>\n",
              "      <td>-0.985843</td>\n",
              "      <td>-0.984217</td>\n",
              "      <td>-0.988566</td>\n",
              "      <td>-0.992021</td>\n",
              "      <td>-0.985562</td>\n",
              "      <td>-0.999850</td>\n",
              "      <td>-0.984015</td>\n",
              "      <td>-0.849081</td>\n",
              "      <td>-0.936508</td>\n",
              "      <td>0.116695</td>\n",
              "      <td>-0.344418</td>\n",
              "      <td>-0.736124</td>\n",
              "      <td>-0.017067</td>\n",
              "      <td>0.154438</td>\n",
              "      <td>0.340134</td>\n",
              "      <td>0.296407</td>\n",
              "      <td>-0.698954</td>\n",
              "      <td>0.284114</td>\n",
              "      <td>-0.077108</td>\n",
              "    </tr>\n",
              "    <tr>\n",
              "      <th>4</th>\n",
              "      <td>0.274833</td>\n",
              "      <td>-0.027848</td>\n",
              "      <td>-0.129527</td>\n",
              "      <td>-0.993852</td>\n",
              "      <td>-0.967445</td>\n",
              "      <td>-0.978295</td>\n",
              "      <td>-0.994111</td>\n",
              "      <td>-0.965953</td>\n",
              "      <td>-0.977346</td>\n",
              "      <td>-0.938610</td>\n",
              "      <td>-0.560831</td>\n",
              "      <td>-0.825894</td>\n",
              "      <td>0.849179</td>\n",
              "      <td>0.670700</td>\n",
              "      <td>0.829897</td>\n",
              "      <td>-0.975283</td>\n",
              "      <td>-0.999954</td>\n",
              "      <td>-0.999467</td>\n",
              "      <td>-0.998823</td>\n",
              "      <td>-0.993498</td>\n",
              "      <td>-0.967032</td>\n",
              "      <td>-0.976257</td>\n",
              "      <td>-0.590576</td>\n",
              "      <td>-0.740206</td>\n",
              "      <td>-0.799419</td>\n",
              "      <td>0.115570</td>\n",
              "      <td>-0.028923</td>\n",
              "      <td>-0.032804</td>\n",
              "      <td>0.294340</td>\n",
              "      <td>0.000630</td>\n",
              "      <td>-0.045272</td>\n",
              "      <td>0.168419</td>\n",
              "      <td>-0.068156</td>\n",
              "      <td>0.074384</td>\n",
              "      <td>0.027138</td>\n",
              "      <td>-0.145931</td>\n",
              "      <td>-0.050197</td>\n",
              "      <td>0.235151</td>\n",
              "      <td>0.290487</td>\n",
              "      <td>0.457718</td>\n",
              "      <td>...</td>\n",
              "      <td>-0.999812</td>\n",
              "      <td>-0.989996</td>\n",
              "      <td>-1.000000</td>\n",
              "      <td>-0.809524</td>\n",
              "      <td>0.422249</td>\n",
              "      <td>-0.543096</td>\n",
              "      <td>-0.831313</td>\n",
              "      <td>-0.977007</td>\n",
              "      <td>-0.969619</td>\n",
              "      <td>-0.968915</td>\n",
              "      <td>-0.973746</td>\n",
              "      <td>-0.996970</td>\n",
              "      <td>-0.977007</td>\n",
              "      <td>-0.999429</td>\n",
              "      <td>-0.976111</td>\n",
              "      <td>-0.555564</td>\n",
              "      <td>-1.000000</td>\n",
              "      <td>-0.349061</td>\n",
              "      <td>-0.319763</td>\n",
              "      <td>-0.691739</td>\n",
              "      <td>-0.990498</td>\n",
              "      <td>-0.990572</td>\n",
              "      <td>-0.988406</td>\n",
              "      <td>-0.992653</td>\n",
              "      <td>-0.992505</td>\n",
              "      <td>-0.990498</td>\n",
              "      <td>-0.999925</td>\n",
              "      <td>-0.986376</td>\n",
              "      <td>-0.895847</td>\n",
              "      <td>-0.936508</td>\n",
              "      <td>-0.121711</td>\n",
              "      <td>-0.534685</td>\n",
              "      <td>-0.846595</td>\n",
              "      <td>-0.002223</td>\n",
              "      <td>-0.040046</td>\n",
              "      <td>0.736715</td>\n",
              "      <td>-0.118545</td>\n",
              "      <td>-0.692245</td>\n",
              "      <td>0.290722</td>\n",
              "      <td>-0.073857</td>\n",
              "    </tr>\n",
              "  </tbody>\n",
              "</table>\n",
              "<p>5 rows × 561 columns</p>\n",
              "</div>"
            ],
            "text/plain": [
              "   tBodyAccmeanX  tBodyAccmeanY  ...  angleYgravityMean  angleZgravityMean\n",
              "0       0.257178      -0.023285  ...           0.276801          -0.057978\n",
              "1       0.286027      -0.013163  ...           0.281343          -0.083898\n",
              "2       0.275485      -0.026050  ...           0.280083          -0.079346\n",
              "3       0.270298      -0.032614  ...           0.284114          -0.077108\n",
              "4       0.274833      -0.027848  ...           0.290722          -0.073857\n",
              "\n",
              "[5 rows x 561 columns]"
            ]
          },
          "execution_count": 14,
          "metadata": {},
          "output_type": "execute_result"
        }
      ]
    },
    {
      "cell_type": "markdown",
      "metadata": {
        "id": "T6xVdtir4lts"
      },
      "source": [
        "# Let's model with our data\n",
        "**Labels that are useful in plotting confusion matriX**"
      ]
    },
    {
      "cell_type": "code",
      "metadata": {
        "id": "sAdaSGzO4k49"
      },
      "source": [
        "labels=['LAYING', 'SITTING','STANDING','WALKING','WALKING_DOWNSTAIRS','WALKING_UPSTAIRS']"
      ],
      "execution_count": null,
      "outputs": []
    },
    {
      "cell_type": "markdown",
      "metadata": {
        "id": "bD26vHfz4u-k"
      },
      "source": [
        "# Function to plot the confusion matrix"
      ]
    },
    {
      "cell_type": "code",
      "metadata": {
        "id": "YWxhBIlo4rNv"
      },
      "source": [
        "import itertools\n",
        "import numpy as np\n",
        "import matplotlib.pyplot as plt\n",
        "from sklearn.metrics import confusion_matrix\n",
        "plt.rcParams[\"font.family\"] = 'DejaVu Sans'\n",
        "\n",
        "def plot_confusion_matrix(cm, classes,\n",
        "                          normalize=False,\n",
        "                          title='Confusion matrix',\n",
        "                          cmap=plt.cm.Blues):\n",
        "    if normalize:\n",
        "        cm = cm.astype('float') / cm.sum(axis=1)[:, np.newaxis]\n",
        "\n",
        "    plt.imshow(cm, interpolation='nearest', cmap=cmap)\n",
        "    plt.title(title)\n",
        "    plt.colorbar()\n",
        "    tick_marks = np.arange(len(classes))\n",
        "    plt.xticks(tick_marks, classes, rotation=90)\n",
        "    plt.yticks(tick_marks, classes)\n",
        "\n",
        "    fmt = '.2f' if normalize else 'd'\n",
        "    thresh = cm.max() / 2.\n",
        "    for i, j in itertools.product(range(cm.shape[0]), range(cm.shape[1])):\n",
        "        plt.text(j, i, format(cm[i, j], fmt),\n",
        "                 horizontalalignment=\"center\",\n",
        "                 color=\"white\" if cm[i, j] > thresh else \"black\")\n",
        "\n",
        "    plt.tight_layout()\n",
        "    plt.ylabel('True label')\n",
        "    plt.xlabel('Predicted label')"
      ],
      "execution_count": null,
      "outputs": []
    },
    {
      "cell_type": "markdown",
      "metadata": {
        "id": "y4affeXe49LZ"
      },
      "source": [
        "# Generic function to run any model specified"
      ]
    },
    {
      "cell_type": "code",
      "metadata": {
        "id": "VsYuAkxV4z7v"
      },
      "source": [
        "from datetime import datetime\n",
        "def perform_model(model, X_train, y_train, X_test, y_test, class_labels, cm_normalize=True, \\\n",
        "                 print_cm=True, cm_cmap=plt.cm.Greens):\n",
        "    \n",
        "    \n",
        "    # to store results at various phases\n",
        "    results = dict()\n",
        "    \n",
        "    # time at which model starts training \n",
        "    train_start_time = datetime.now()\n",
        "    print('training the model..')\n",
        "    model.fit(X_train, y_train)\n",
        "    print('Done \\n \\n')\n",
        "    train_end_time = datetime.now()\n",
        "    results['training_time'] =  train_end_time - train_start_time\n",
        "    print('training_time(HH:MM:SS.ms) - {}\\n\\n'.format(results['training_time']))\n",
        "    \n",
        "    \n",
        "    # predict test data\n",
        "    print('Predicting test data')\n",
        "    test_start_time = datetime.now()\n",
        "    y_pred = model.predict(X_test)\n",
        "    test_end_time = datetime.now()\n",
        "    print('Done \\n \\n')\n",
        "    results['testing_time'] = test_end_time - test_start_time\n",
        "    print('testing time(HH:MM:SS:ms) - {}\\n\\n'.format(results['testing_time']))\n",
        "    results['predicted'] = y_pred\n",
        "   \n",
        "\n",
        "    # calculate overall accuracty of the model\n",
        "    accuracy = metrics.accuracy_score(y_true=y_test, y_pred=y_pred)\n",
        "    # store accuracy in results\n",
        "    results['accuracy'] = accuracy\n",
        "    print('---------------------')\n",
        "    print('|      Accuracy      |')\n",
        "    print('---------------------')\n",
        "    print('\\n    {}\\n\\n'.format(accuracy))\n",
        "    \n",
        "    \n",
        "    # confusion matrix\n",
        "    cm = metrics.confusion_matrix(y_test, y_pred)\n",
        "    results['confusion_matrix'] = cm\n",
        "    if print_cm: \n",
        "        print('--------------------')\n",
        "        print('| Confusion Matrix |')\n",
        "        print('--------------------')\n",
        "        print('\\n {}'.format(cm))\n",
        "        \n",
        "    # plot confusin matrix\n",
        "    plt.figure(figsize=(8,8))\n",
        "    plt.grid(b=False)\n",
        "    plot_confusion_matrix(cm, classes=class_labels, normalize=True, title='Normalized confusion matrix', cmap = cm_cmap)\n",
        "    plt.show()\n",
        "    \n",
        "    # get classification report\n",
        "    print('-------------------------')\n",
        "    print('| Classifiction Report |')\n",
        "    print('-------------------------')\n",
        "    classification_report = metrics.classification_report(y_test, y_pred)\n",
        "    # store report in results\n",
        "    results['classification_report'] = classification_report\n",
        "    print(classification_report)\n",
        "    \n",
        "    # add the trained  model to the results\n",
        "    results['model'] = model\n",
        "    \n",
        "    return results\n",
        "    \n",
        "    "
      ],
      "execution_count": null,
      "outputs": []
    },
    {
      "cell_type": "markdown",
      "metadata": {
        "id": "fiQOcbXJ5GWx"
      },
      "source": [
        "# Method to print the gridsearch Attributes"
      ]
    },
    {
      "cell_type": "code",
      "metadata": {
        "id": "Txf1JZEP5Biq"
      },
      "source": [
        "def print_grid_search_attributes(model):\n",
        "    # Estimator that gave highest score among all the estimators formed in GridSearch\n",
        "    print('--------------------------')\n",
        "    print('|      Best Estimator     |')\n",
        "    print('--------------------------')\n",
        "    print('\\n\\t{}\\n'.format(model.best_estimator_))\n",
        "\n",
        "\n",
        "    # parameters that gave best results while performing grid search\n",
        "    print('--------------------------')\n",
        "    print('|     Best parameters     |')\n",
        "    print('--------------------------')\n",
        "    print('\\tParameters of best estimator : \\n\\n\\t{}\\n'.format(model.best_params_))\n",
        "\n",
        "\n",
        "    #  number of cross validation splits\n",
        "    print('---------------------------------')\n",
        "    print('|   No of CrossValidation sets   |')\n",
        "    print('--------------------------------')\n",
        "    print('\\n\\tTotal numbre of cross validation sets: {}\\n'.format(model.n_splits_))\n",
        "\n",
        "\n",
        "    # Average cross validated score of the best estimator, from the Grid Search \n",
        "    print('--------------------------')\n",
        "    print('|        Best Score       |')\n",
        "    print('--------------------------')\n",
        "    print('\\n\\tAverage Cross Validate scores of best estimator : \\n\\n\\t{}\\n'.format(model.best_score_))\n",
        "\n",
        "    \n",
        "    "
      ],
      "execution_count": null,
      "outputs": []
    },
    {
      "cell_type": "markdown",
      "metadata": {
        "id": "bKxdNqG65OIv"
      },
      "source": [
        "# 1. Logistic Regression with Grid Search"
      ]
    },
    {
      "cell_type": "code",
      "metadata": {
        "id": "-X46rekP5Kgr"
      },
      "source": [
        "from sklearn import linear_model\n",
        "from sklearn import metrics\n",
        "\n",
        "from sklearn.model_selection import GridSearchCV"
      ],
      "execution_count": null,
      "outputs": []
    },
    {
      "cell_type": "code",
      "metadata": {
        "colab": {
          "base_uri": "https://localhost:8080/",
          "height": 1000
        },
        "id": "nOCkgD1K5TlG",
        "outputId": "00b5d045-77de-49c4-8b24-4c7fb03899fd"
      },
      "source": [
        "# start Grid search\n",
        "parameters = {'C':[0.01, 0.1, 1, 10, 20, 30], 'penalty':['l2','l1']}\n",
        "log_reg = linear_model.LogisticRegression()\n",
        "log_reg_grid = GridSearchCV(log_reg, param_grid=parameters, cv=3, verbose=1, n_jobs=-1)\n",
        "log_reg_grid_results =  perform_model(log_reg_grid, X_train, y_train, X_test, y_test, class_labels=labels)\n"
      ],
      "execution_count": null,
      "outputs": [
        {
          "name": "stdout",
          "output_type": "stream",
          "text": [
            "training the model..\n",
            "Fitting 3 folds for each of 12 candidates, totalling 36 fits\n"
          ]
        },
        {
          "name": "stderr",
          "output_type": "stream",
          "text": [
            "[Parallel(n_jobs=-1)]: Using backend LokyBackend with 2 concurrent workers.\n",
            "[Parallel(n_jobs=-1)]: Done  36 out of  36 | elapsed:   24.9s finished\n",
            "/usr/local/lib/python3.7/dist-packages/sklearn/linear_model/_logistic.py:940: ConvergenceWarning: lbfgs failed to converge (status=1):\n",
            "STOP: TOTAL NO. of ITERATIONS REACHED LIMIT.\n",
            "\n",
            "Increase the number of iterations (max_iter) or scale the data as shown in:\n",
            "    https://scikit-learn.org/stable/modules/preprocessing.html\n",
            "Please also refer to the documentation for alternative solver options:\n",
            "    https://scikit-learn.org/stable/modules/linear_model.html#logistic-regression\n",
            "  extra_warning_msg=_LOGISTIC_SOLVER_CONVERGENCE_MSG)\n"
          ]
        },
        {
          "name": "stdout",
          "output_type": "stream",
          "text": [
            "Done \n",
            " \n",
            "\n",
            "training_time(HH:MM:SS.ms) - 0:00:28.650843\n",
            "\n",
            "\n",
            "Predicting test data\n",
            "Done \n",
            " \n",
            "\n",
            "testing time(HH:MM:SS:ms) - 0:00:00.012792\n",
            "\n",
            "\n",
            "---------------------\n",
            "|      Accuracy      |\n",
            "---------------------\n",
            "\n",
            "    0.9589412962334578\n",
            "\n",
            "\n",
            "--------------------\n",
            "| Confusion Matrix |\n",
            "--------------------\n",
            "\n",
            " [[537   0   0   0   0   0]\n",
            " [  0 429  59   0   0   3]\n",
            " [  0  15 517   0   0   0]\n",
            " [  0   0   0 492   3   1]\n",
            " [  0   0   0   4 403  13]\n",
            " [  0   0   0  22   1 448]]\n"
          ]
        },
        {
          "data": {
            "image/png": "[encoded data removed]",
            "text/plain": [
              "<Figure size 576x576 with 2 Axes>"
            ]
          },
          "metadata": {},
          "output_type": "display_data"
        },
        {
          "name": "stdout",
          "output_type": "stream",
          "text": [
            "-------------------------\n",
            "| Classifiction Report |\n",
            "-------------------------\n",
            "                    precision    recall  f1-score   support\n",
            "\n",
            "            LAYING       1.00      1.00      1.00       537\n",
            "           SITTING       0.97      0.87      0.92       491\n",
            "          STANDING       0.90      0.97      0.93       532\n",
            "           WALKING       0.95      0.99      0.97       496\n",
            "WALKING_DOWNSTAIRS       0.99      0.96      0.97       420\n",
            "  WALKING_UPSTAIRS       0.96      0.95      0.96       471\n",
            "\n",
            "          accuracy                           0.96      2947\n",
            "         macro avg       0.96      0.96      0.96      2947\n",
            "      weighted avg       0.96      0.96      0.96      2947\n",
            "\n"
          ]
        }
      ]
    },
    {
      "cell_type": "code",
      "metadata": {
        "colab": {
          "base_uri": "https://localhost:8080/",
          "height": 576
        },
        "id": "qth2wtm55WPq",
        "outputId": "5a9199de-4c95-4954-9ee2-d4002ab4e405"
      },
      "source": [
        "plt.figure(figsize=(8,8))\n",
        "plt.grid(b=False)\n",
        "plot_confusion_matrix(log_reg_grid_results['confusion_matrix'], classes=labels, cmap=plt.cm.Greens, )\n",
        "plt.show()"
      ],
      "execution_count": null,
      "outputs": [
        {
          "data": {
            "image/png": "[encoded data removed]",
            "text/plain": [
              "<Figure size 576x576 with 2 Axes>"
            ]
          },
          "metadata": {},
          "output_type": "display_data"
        }
      ]
    },
    {
      "cell_type": "code",
      "metadata": {
        "colab": {
          "base_uri": "https://localhost:8080/"
        },
        "id": "ex323yET5o2e",
        "outputId": "6665d9d0-0e59-42da-bfd2-d4c64562d3d1"
      },
      "source": [
        "# observe the attributes of the model \n",
        "print_grid_search_attributes(log_reg_grid_results['model'])"
      ],
      "execution_count": null,
      "outputs": [
        {
          "name": "stdout",
          "output_type": "stream",
          "text": [
            "--------------------------\n",
            "|      Best Estimator     |\n",
            "--------------------------\n",
            "\n",
            "\tLogisticRegression(C=1, class_weight=None, dual=False, fit_intercept=True,\n",
            "                   intercept_scaling=1, l1_ratio=None, max_iter=100,\n",
            "                   multi_class='auto', n_jobs=None, penalty='l2',\n",
            "                   random_state=None, solver='lbfgs', tol=0.0001, verbose=0,\n",
            "                   warm_start=False)\n",
            "\n",
            "--------------------------\n",
            "|     Best parameters     |\n",
            "--------------------------\n",
            "\tParameters of best estimator : \n",
            "\n",
            "\t{'C': 1, 'penalty': 'l2'}\n",
            "\n",
            "---------------------------------\n",
            "|   No of CrossValidation sets   |\n",
            "--------------------------------\n",
            "\n",
            "\tTotal numbre of cross validation sets: 3\n",
            "\n",
            "--------------------------\n",
            "|        Best Score       |\n",
            "--------------------------\n",
            "\n",
            "\tAverage Cross Validate scores of best estimator : \n",
            "\n",
            "\t0.9358015748118914\n",
            "\n"
          ]
        }
      ]
    },
    {
      "cell_type": "markdown",
      "metadata": {
        "id": "FA1tcccd55Sa"
      },
      "source": [
        "# 2. Linear SVC with GridSearch"
      ]
    },
    {
      "cell_type": "code",
      "metadata": {
        "colab": {
          "base_uri": "https://localhost:8080/",
          "height": 1000
        },
        "id": "mdS5rpCp5tOA",
        "outputId": "6c97110c-6709-4669-e508-4cb223ee6781"
      },
      "source": [
        "from sklearn.svm import LinearSVC\n",
        "parameters = {'C':[0.125, 0.5, 1, 2, 8, 16]}\n",
        "lr_svc = LinearSVC(tol=0.00005)\n",
        "lr_svc_grid = GridSearchCV(lr_svc, param_grid=parameters, n_jobs=-1, verbose=1)\n",
        "lr_svc_grid_results = perform_model(lr_svc_grid, X_train, y_train, X_test, y_test, class_labels=labels)"
      ],
      "execution_count": null,
      "outputs": [
        {
          "name": "stdout",
          "output_type": "stream",
          "text": [
            "training the model..\n",
            "Fitting 5 folds for each of 6 candidates, totalling 30 fits\n"
          ]
        },
        {
          "name": "stderr",
          "output_type": "stream",
          "text": [
            "[Parallel(n_jobs=-1)]: Using backend LokyBackend with 2 concurrent workers.\n",
            "[Parallel(n_jobs=-1)]: Done  30 out of  30 | elapsed:  1.5min finished\n",
            "/usr/local/lib/python3.7/dist-packages/sklearn/svm/_base.py:947: ConvergenceWarning: Liblinear failed to converge, increase the number of iterations.\n",
            "  \"the number of iterations.\", ConvergenceWarning)\n"
          ]
        },
        {
          "name": "stdout",
          "output_type": "stream",
          "text": [
            "Done \n",
            " \n",
            "\n",
            "training_time(HH:MM:SS.ms) - 0:01:36.128509\n",
            "\n",
            "\n",
            "Predicting test data\n",
            "Done \n",
            " \n",
            "\n",
            "testing time(HH:MM:SS:ms) - 0:00:00.011325\n",
            "\n",
            "\n",
            "---------------------\n",
            "|      Accuracy      |\n",
            "---------------------\n",
            "\n",
            "    0.9674244994910078\n",
            "\n",
            "\n",
            "--------------------\n",
            "| Confusion Matrix |\n",
            "--------------------\n",
            "\n",
            " [[537   0   0   0   0   0]\n",
            " [  2 433  53   0   0   3]\n",
            " [  0  12 519   1   0   0]\n",
            " [  0   0   0 496   0   0]\n",
            " [  0   0   0   3 412   5]\n",
            " [  0   0   0  17   0 454]]\n"
          ]
        },
        {
          "data": {
            "image/png": "[encoded data removed]",
            "text/plain": [
              "<Figure size 576x576 with 2 Axes>"
            ]
          },
          "metadata": {},
          "output_type": "display_data"
        },
        {
          "name": "stdout",
          "output_type": "stream",
          "text": [
            "-------------------------\n",
            "| Classifiction Report |\n",
            "-------------------------\n",
            "                    precision    recall  f1-score   support\n",
            "\n",
            "            LAYING       1.00      1.00      1.00       537\n",
            "           SITTING       0.97      0.88      0.93       491\n",
            "          STANDING       0.91      0.98      0.94       532\n",
            "           WALKING       0.96      1.00      0.98       496\n",
            "WALKING_DOWNSTAIRS       1.00      0.98      0.99       420\n",
            "  WALKING_UPSTAIRS       0.98      0.96      0.97       471\n",
            "\n",
            "          accuracy                           0.97      2947\n",
            "         macro avg       0.97      0.97      0.97      2947\n",
            "      weighted avg       0.97      0.97      0.97      2947\n",
            "\n"
          ]
        }
      ]
    },
    {
      "cell_type": "code",
      "metadata": {
        "colab": {
          "base_uri": "https://localhost:8080/"
        },
        "id": "s8MLHdbl6Afe",
        "outputId": "42907f85-8ae5-43f4-e582-9b358b2063dc"
      },
      "source": [
        "print_grid_search_attributes(lr_svc_grid_results['model'])"
      ],
      "execution_count": null,
      "outputs": [
        {
          "name": "stdout",
          "output_type": "stream",
          "text": [
            "--------------------------\n",
            "|      Best Estimator     |\n",
            "--------------------------\n",
            "\n",
            "\tLinearSVC(C=0.5, class_weight=None, dual=True, fit_intercept=True,\n",
            "          intercept_scaling=1, loss='squared_hinge', max_iter=1000,\n",
            "          multi_class='ovr', penalty='l2', random_state=None, tol=5e-05,\n",
            "          verbose=0)\n",
            "\n",
            "--------------------------\n",
            "|     Best parameters     |\n",
            "--------------------------\n",
            "\tParameters of best estimator : \n",
            "\n",
            "\t{'C': 0.5}\n",
            "\n",
            "---------------------------------\n",
            "|   No of CrossValidation sets   |\n",
            "--------------------------------\n",
            "\n",
            "\tTotal numbre of cross validation sets: 5\n",
            "\n",
            "--------------------------\n",
            "|        Best Score       |\n",
            "--------------------------\n",
            "\n",
            "\tAverage Cross Validate scores of best estimator : \n",
            "\n",
            "\t0.941656608258531\n",
            "\n"
          ]
        }
      ]
    },
    {
      "cell_type": "markdown",
      "metadata": {
        "id": "aLj4YGSZ6Joy"
      },
      "source": [
        "# 3. Kernel SVM with GridSearch"
      ]
    },
    {
      "cell_type": "code",
      "metadata": {
        "colab": {
          "base_uri": "https://localhost:8080/",
          "height": 1000
        },
        "id": "WLwu6Kk16LAa",
        "outputId": "34df27fe-3209-4a37-e5ff-b33ce7aba396"
      },
      "source": [
        "from sklearn.svm import SVC\n",
        "parameters = {'C':[2,8,16],\\\n",
        "              'gamma': [ 0.0078125, 0.125, 2]}\n",
        "rbf_svm = SVC(kernel='rbf')\n",
        "rbf_svm_grid = GridSearchCV(rbf_svm,param_grid=parameters, n_jobs=-1)\n",
        "rbf_svm_grid_results = perform_model(rbf_svm_grid, X_train, y_train, X_test, y_test, class_labels=labels)"
      ],
      "execution_count": null,
      "outputs": [
        {
          "name": "stdout",
          "output_type": "stream",
          "text": [
            "training the model..\n",
            "Done \n",
            " \n",
            "\n",
            "training_time(HH:MM:SS.ms) - 0:14:21.280483\n",
            "\n",
            "\n",
            "Predicting test data\n",
            "Done \n",
            " \n",
            "\n",
            "testing time(HH:MM:SS:ms) - 0:00:03.084568\n",
            "\n",
            "\n",
            "---------------------\n",
            "|      Accuracy      |\n",
            "---------------------\n",
            "\n",
            "    0.9626739056667798\n",
            "\n",
            "\n",
            "--------------------\n",
            "| Confusion Matrix |\n",
            "--------------------\n",
            "\n",
            " [[537   0   0   0   0   0]\n",
            " [  0 441  48   0   0   2]\n",
            " [  0  12 520   0   0   0]\n",
            " [  0   0   0 489   2   5]\n",
            " [  0   0   0   4 397  19]\n",
            " [  0   0   0  17   1 453]]\n"
          ]
        },
        {
          "data": {
            "image/png": "[encoded data removed]",
            "text/plain": [
              "<Figure size 576x576 with 2 Axes>"
            ]
          },
          "metadata": {},
          "output_type": "display_data"
        },
        {
          "name": "stdout",
          "output_type": "stream",
          "text": [
            "-------------------------\n",
            "| Classifiction Report |\n",
            "-------------------------\n",
            "                    precision    recall  f1-score   support\n",
            "\n",
            "            LAYING       1.00      1.00      1.00       537\n",
            "           SITTING       0.97      0.90      0.93       491\n",
            "          STANDING       0.92      0.98      0.95       532\n",
            "           WALKING       0.96      0.99      0.97       496\n",
            "WALKING_DOWNSTAIRS       0.99      0.95      0.97       420\n",
            "  WALKING_UPSTAIRS       0.95      0.96      0.95       471\n",
            "\n",
            "          accuracy                           0.96      2947\n",
            "         macro avg       0.96      0.96      0.96      2947\n",
            "      weighted avg       0.96      0.96      0.96      2947\n",
            "\n"
          ]
        }
      ]
    },
    {
      "cell_type": "code",
      "metadata": {
        "colab": {
          "base_uri": "https://localhost:8080/"
        },
        "id": "lL0vxkT96hhT",
        "outputId": "527741ce-e46b-483c-c3de-62b060d8eecd"
      },
      "source": [
        "print_grid_search_attributes(rbf_svm_grid_results['model'])"
      ],
      "execution_count": null,
      "outputs": [
        {
          "name": "stdout",
          "output_type": "stream",
          "text": [
            "--------------------------\n",
            "|      Best Estimator     |\n",
            "--------------------------\n",
            "\n",
            "\tSVC(C=16, break_ties=False, cache_size=200, class_weight=None, coef0=0.0,\n",
            "    decision_function_shape='ovr', degree=3, gamma=0.0078125, kernel='rbf',\n",
            "    max_iter=-1, probability=False, random_state=None, shrinking=True,\n",
            "    tol=0.001, verbose=False)\n",
            "\n",
            "--------------------------\n",
            "|     Best parameters     |\n",
            "--------------------------\n",
            "\tParameters of best estimator : \n",
            "\n",
            "\t{'C': 16, 'gamma': 0.0078125}\n",
            "\n",
            "---------------------------------\n",
            "|   No of CrossValidation sets   |\n",
            "--------------------------------\n",
            "\n",
            "\tTotal numbre of cross validation sets: 5\n",
            "\n",
            "--------------------------\n",
            "|        Best Score       |\n",
            "--------------------------\n",
            "\n",
            "\tAverage Cross Validate scores of best estimator : \n",
            "\n",
            "\t0.9447834551903698\n",
            "\n"
          ]
        }
      ]
    },
    {
      "cell_type": "markdown",
      "metadata": {
        "id": "oBa5D-1S6tmL"
      },
      "source": [
        "# 4. Decision Trees with GridSearchCV"
      ]
    },
    {
      "cell_type": "code",
      "metadata": {
        "colab": {
          "base_uri": "https://localhost:8080/",
          "height": 1000
        },
        "id": "QhndunwJ6pj2",
        "outputId": "88eb677a-cb25-41ec-ffa8-d638c2539460"
      },
      "source": [
        "from sklearn.tree import DecisionTreeClassifier\n",
        "parameters = {'max_depth':np.arange(3,10,2)}\n",
        "dt = DecisionTreeClassifier()\n",
        "dt_grid = GridSearchCV(dt,param_grid=parameters, n_jobs=-1)\n",
        "dt_grid_results = perform_model(dt_grid, X_train, y_train, X_test, y_test, class_labels=labels)\n",
        "print_grid_search_attributes(dt_grid_results['model'])"
      ],
      "execution_count": null,
      "outputs": [
        {
          "name": "stdout",
          "output_type": "stream",
          "text": [
            "training the model..\n",
            "Done \n",
            " \n",
            "\n",
            "training_time(HH:MM:SS.ms) - 0:00:32.980165\n",
            "\n",
            "\n",
            "Predicting test data\n",
            "Done \n",
            " \n",
            "\n",
            "testing time(HH:MM:SS:ms) - 0:00:00.006243\n",
            "\n",
            "\n",
            "---------------------\n",
            "|      Accuracy      |\n",
            "---------------------\n",
            "\n",
            "    0.8649474041398032\n",
            "\n",
            "\n",
            "--------------------\n",
            "| Confusion Matrix |\n",
            "--------------------\n",
            "\n",
            " [[537   0   0   0   0   0]\n",
            " [  0 388 103   0   0   0]\n",
            " [  0  93 439   0   0   0]\n",
            " [  0   0   0 471  17   8]\n",
            " [  0   0   0  14 345  61]\n",
            " [  0   0   0  78  24 369]]\n"
          ]
        },
        {
          "data": {
            "image/png": "[encoded data removed]",
            "text/plain": [
              "<Figure size 576x576 with 2 Axes>"
            ]
          },
          "metadata": {},
          "output_type": "display_data"
        },
        {
          "name": "stdout",
          "output_type": "stream",
          "text": [
            "-------------------------\n",
            "| Classifiction Report |\n",
            "-------------------------\n",
            "                    precision    recall  f1-score   support\n",
            "\n",
            "            LAYING       1.00      1.00      1.00       537\n",
            "           SITTING       0.81      0.79      0.80       491\n",
            "          STANDING       0.81      0.83      0.82       532\n",
            "           WALKING       0.84      0.95      0.89       496\n",
            "WALKING_DOWNSTAIRS       0.89      0.82      0.86       420\n",
            "  WALKING_UPSTAIRS       0.84      0.78      0.81       471\n",
            "\n",
            "          accuracy                           0.86      2947\n",
            "         macro avg       0.86      0.86      0.86      2947\n",
            "      weighted avg       0.87      0.86      0.86      2947\n",
            "\n",
            "--------------------------\n",
            "|      Best Estimator     |\n",
            "--------------------------\n",
            "\n",
            "\tDecisionTreeClassifier(ccp_alpha=0.0, class_weight=None, criterion='gini',\n",
            "                       max_depth=7, max_features=None, max_leaf_nodes=None,\n",
            "                       min_impurity_decrease=0.0, min_impurity_split=None,\n",
            "                       min_samples_leaf=1, min_samples_split=2,\n",
            "                       min_weight_fraction_leaf=0.0, presort='deprecated',\n",
            "                       random_state=None, splitter='best')\n",
            "\n",
            "--------------------------\n",
            "|     Best parameters     |\n",
            "--------------------------\n",
            "\tParameters of best estimator : \n",
            "\n",
            "\t{'max_depth': 7}\n",
            "\n",
            "---------------------------------\n",
            "|   No of CrossValidation sets   |\n",
            "--------------------------------\n",
            "\n",
            "\tTotal numbre of cross validation sets: 5\n",
            "\n",
            "--------------------------\n",
            "|        Best Score       |\n",
            "--------------------------\n",
            "\n",
            "\tAverage Cross Validate scores of best estimator : \n",
            "\n",
            "\t0.8493008134593062\n",
            "\n"
          ]
        }
      ]
    },
    {
      "cell_type": "markdown",
      "metadata": {
        "id": "8rxiTCbz67_E"
      },
      "source": [
        "# 5. Random Forest Classifier with GridSearch"
      ]
    },
    {
      "cell_type": "code",
      "metadata": {
        "colab": {
          "base_uri": "https://localhost:8080/",
          "height": 1000
        },
        "id": "RWhFpsuB68wx",
        "outputId": "000c36f2-f11f-48f0-e887-9f2965846fcf"
      },
      "source": [
        "from sklearn.ensemble import RandomForestClassifier\n",
        "params = {'n_estimators': np.arange(10,201,20), 'max_depth':np.arange(3,15,2)}\n",
        "rfc = RandomForestClassifier()\n",
        "rfc_grid = GridSearchCV(rfc, param_grid=params, n_jobs=-1)\n",
        "rfc_grid_results = perform_model(rfc_grid, X_train, y_train, X_test, y_test, class_labels=labels)\n",
        "print_grid_search_attributes(rfc_grid_results['model'])"
      ],
      "execution_count": null,
      "outputs": [
        {
          "name": "stdout",
          "output_type": "stream",
          "text": [
            "training the model..\n",
            "Done \n",
            " \n",
            "\n",
            "training_time(HH:MM:SS.ms) - 0:24:46.203128\n",
            "\n",
            "\n",
            "Predicting test data\n",
            "Done \n",
            " \n",
            "\n",
            "testing time(HH:MM:SS:ms) - 0:00:00.020188\n",
            "\n",
            "\n",
            "---------------------\n",
            "|      Accuracy      |\n",
            "---------------------\n",
            "\n",
            "    0.9178825924669155\n",
            "\n",
            "\n",
            "--------------------\n",
            "| Confusion Matrix |\n",
            "--------------------\n",
            "\n",
            " [[537   0   0   0   0   0]\n",
            " [  0 422  69   0   0   0]\n",
            " [  0  46 486   0   0   0]\n",
            " [  0   0   0 478   9   9]\n",
            " [  0   0   0  24 356  40]\n",
            " [  0   0   0  38   7 426]]\n"
          ]
        },
        {
          "data": {
            "image/png": "[encoded data removed]",
            "text/plain": [
              "<Figure size 576x576 with 2 Axes>"
            ]
          },
          "metadata": {},
          "output_type": "display_data"
        },
        {
          "name": "stdout",
          "output_type": "stream",
          "text": [
            "-------------------------\n",
            "| Classifiction Report |\n",
            "-------------------------\n",
            "                    precision    recall  f1-score   support\n",
            "\n",
            "            LAYING       1.00      1.00      1.00       537\n",
            "           SITTING       0.90      0.86      0.88       491\n",
            "          STANDING       0.88      0.91      0.89       532\n",
            "           WALKING       0.89      0.96      0.92       496\n",
            "WALKING_DOWNSTAIRS       0.96      0.85      0.90       420\n",
            "  WALKING_UPSTAIRS       0.90      0.90      0.90       471\n",
            "\n",
            "          accuracy                           0.92      2947\n",
            "         macro avg       0.92      0.91      0.92      2947\n",
            "      weighted avg       0.92      0.92      0.92      2947\n",
            "\n",
            "--------------------------\n",
            "|      Best Estimator     |\n",
            "--------------------------\n",
            "\n",
            "\tRandomForestClassifier(bootstrap=True, ccp_alpha=0.0, class_weight=None,\n",
            "                       criterion='gini', max_depth=9, max_features='auto',\n",
            "                       max_leaf_nodes=None, max_samples=None,\n",
            "                       min_impurity_decrease=0.0, min_impurity_split=None,\n",
            "                       min_samples_leaf=1, min_samples_split=2,\n",
            "                       min_weight_fraction_leaf=0.0, n_estimators=30,\n",
            "                       n_jobs=None, oob_score=False, random_state=None,\n",
            "                       verbose=0, warm_start=False)\n",
            "\n",
            "--------------------------\n",
            "|     Best parameters     |\n",
            "--------------------------\n",
            "\tParameters of best estimator : \n",
            "\n",
            "\t{'max_depth': 9, 'n_estimators': 30}\n",
            "\n",
            "---------------------------------\n",
            "|   No of CrossValidation sets   |\n",
            "--------------------------------\n",
            "\n",
            "\tTotal numbre of cross validation sets: 5\n",
            "\n",
            "--------------------------\n",
            "|        Best Score       |\n",
            "--------------------------\n",
            "\n",
            "\tAverage Cross Validate scores of best estimator : \n",
            "\n",
            "\t0.9202986537919042\n",
            "\n"
          ]
        }
      ]
    },
    {
      "cell_type": "markdown",
      "metadata": {
        "id": "HFtYiHYj7I0P"
      },
      "source": [
        "# 6. Gradient Boosted Decision Trees With GridSearch¶"
      ]
    },
    {
      "cell_type": "code",
      "metadata": {
        "scrolled": false,
        "id": "6QjFGv9QdqVK",
        "outputId": "0f5f0601-88bc-40ea-eb7d-df63f8ba3914"
      },
      "source": [
        "from sklearn.ensemble import GradientBoostingClassifier\n",
        "param_grid = {'max_depth': np.arange(5,8,1), \\\n",
        "             'n_estimators':np.arange(130,170,10)}\n",
        "gbdt = GradientBoostingClassifier()\n",
        "gbdt_grid = GridSearchCV(gbdt, param_grid=param_grid, n_jobs=-1)\n",
        "gbdt_grid_results = perform_model(gbdt_grid, X_train, y_train, X_test, y_test, class_labels=labels)\n",
        "print_grid_search_attributes(gbdt_grid_results['model'])"
      ],
      "execution_count": null,
      "outputs": [
        {
          "name": "stdout",
          "output_type": "stream",
          "text": [
            "training the model..\n",
            "Done \n",
            " \n",
            "\n",
            "training_time(HH:MM:SS.ms) - 0:28:03.653432\n",
            "\n",
            "\n",
            "Predicting test data\n",
            "Done \n",
            " \n",
            "\n",
            "testing time(HH:MM:SS:ms) - 0:00:00.058843\n",
            "\n",
            "\n",
            "---------------------\n",
            "|      Accuracy      |\n",
            "---------------------\n",
            "\n",
            "    0.9222938581608415\n",
            "\n",
            "\n",
            "--------------------\n",
            "| Confusion Matrix |\n",
            "--------------------\n",
            "\n",
            " [[537   0   0   0   0   0]\n",
            " [  0 396  93   0   0   2]\n",
            " [  0  37 495   0   0   0]\n",
            " [  0   0   0 483   7   6]\n",
            " [  0   0   0  10 374  36]\n",
            " [  0   1   0  31   6 433]]\n"
          ]
        },
        {
          "data": {
            "image/png": "[encoded data removed]",
            "text/plain": [
              "<Figure size 576x576 with 2 Axes>"
            ]
          },
          "metadata": {},
          "output_type": "display_data"
        },
        {
          "name": "stdout",
          "output_type": "stream",
          "text": [
            "-------------------------\n",
            "| Classifiction Report |\n",
            "-------------------------\n",
            "                    precision    recall  f1-score   support\n",
            "\n",
            "            LAYING       1.00      1.00      1.00       537\n",
            "           SITTING       0.91      0.81      0.86       491\n",
            "          STANDING       0.84      0.93      0.88       532\n",
            "           WALKING       0.92      0.97      0.95       496\n",
            "WALKING_DOWNSTAIRS       0.97      0.89      0.93       420\n",
            "  WALKING_UPSTAIRS       0.91      0.92      0.91       471\n",
            "\n",
            "       avg / total       0.92      0.92      0.92      2947\n",
            "\n",
            "--------------------------\n",
            "|      Best Estimator     |\n",
            "--------------------------\n",
            "\n",
            "\tGradientBoostingClassifier(criterion='friedman_mse', init=None,\n",
            "              learning_rate=0.1, loss='deviance', max_depth=5,\n",
            "              max_features=None, max_leaf_nodes=None,\n",
            "              min_impurity_decrease=0.0, min_impurity_split=None,\n",
            "              min_samples_leaf=1, min_samples_split=2,\n",
            "              min_weight_fraction_leaf=0.0, n_estimators=140,\n",
            "              presort='auto', random_state=None, subsample=1.0, verbose=0,\n",
            "              warm_start=False)\n",
            "\n",
            "--------------------------\n",
            "|     Best parameters     |\n",
            "--------------------------\n",
            "\tParameters of best estimator : \n",
            "\n",
            "\t{'max_depth': 5, 'n_estimators': 140}\n",
            "\n",
            "---------------------------------\n",
            "|   No of CrossValidation sets   |\n",
            "--------------------------------\n",
            "\n",
            "\tTotal numbre of cross validation sets: 3\n",
            "\n",
            "--------------------------\n",
            "|        Best Score       |\n",
            "--------------------------\n",
            "\n",
            "\tAverage Cross Validate scores of best estimator : \n",
            "\n",
            "\t0.904379760609358\n",
            "\n"
          ]
        }
      ]
    },
    {
      "cell_type": "markdown",
      "metadata": {
        "id": "VKTTl1y_D4Sx"
      },
      "source": [
        "# 7. Comparing all models"
      ]
    },
    {
      "cell_type": "code",
      "metadata": {
        "scrolled": true,
        "id": "NjTjS2_FdqVM",
        "outputId": "e6515c39-afb9-498f-da8e-6e519a059133"
      },
      "source": [
        "print('\\n                     Accuracy     Error')\n",
        "print('                     ----------   --------')\n",
        "print('Logistic Regression : {:.04}%       {:.04}%'.format(log_reg_grid_results['accuracy'] * 100,\\\n",
        "                                                  100-(log_reg_grid_results['accuracy'] * 100)))\n",
        "\n",
        "print('Linear SVC          : {:.04}%       {:.04}% '.format(lr_svc_grid_results['accuracy'] * 100,\\\n",
        "                                                        100-(lr_svc_grid_results['accuracy'] * 100)))\n",
        "\n",
        "print('rbf SVM classifier  : {:.04}%      {:.04}% '.format(rbf_svm_grid_results['accuracy'] * 100,\\\n",
        "                                                          100-(rbf_svm_grid_results['accuracy'] * 100)))\n",
        "\n",
        "print('DecisionTree        : {:.04}%      {:.04}% '.format(dt_grid_results['accuracy'] * 100,\\\n",
        "                                                        100-(dt_grid_results['accuracy'] * 100)))\n",
        "\n",
        "print('Random Forest       : {:.04}%      {:.04}% '.format(rfc_grid_results['accuracy'] * 100,\\\n",
        "                                                           100-(rfc_grid_results['accuracy'] * 100)))\n",
        "print('GradientBoosting DT : {:.04}%      {:.04}% '.format(rfc_grid_results['accuracy'] * 100,\\\n",
        "                                                        100-(rfc_grid_results['accuracy'] * 100)))"
      ],
      "execution_count": null,
      "outputs": [
        {
          "name": "stdout",
          "output_type": "stream",
          "text": [
            "\n",
            "                     Accuracy     Error\n",
            "                     ----------   --------\n",
            "Logistic Regression : 96.27%       3.733%\n",
            "Linear SVC          : 96.61%       3.393% \n",
            "rbf SVM classifier  : 96.27%      3.733% \n",
            "DecisionTree        : 86.43%      13.57% \n",
            "Random Forest       : 91.31%      8.687% \n",
            "GradientBoosting DT : 91.31%      8.687% \n"
          ]
        }
      ]
    },
    {
      "cell_type": "markdown",
      "metadata": {
        "id": "JroI1ZOldqVP"
      },
      "source": [
        "> We can choose ___Logistic regression___ or ___Linear SVC___ or ___rbf SVM___."
      ]
    },
    {
      "cell_type": "markdown",
      "metadata": {
        "id": "GP2RzCeUdqVR"
      },
      "source": [
        "#Conclusion :\n",
        "- By above we can predict that data is linear that'why it performing very good at LInear and logistic."
      ]
    },
    {
      "cell_type": "markdown",
      "metadata": {
        "id": "foWasxt1JUuF"
      },
      "source": [
        "#Deep learning Models "
      ]
    },
    {
      "cell_type": "code",
      "metadata": {
        "id": "zN9oJNDbF0Lw"
      },
      "source": [
        "import pandas as pd\n",
        "import numpy as np"
      ],
      "execution_count": 1,
      "outputs": []
    },
    {
      "cell_type": "code",
      "metadata": {
        "id": "0RxMMjt6F3LX"
      },
      "source": [
        "# Activities are the class labels\n",
        "# It is a 6 class classification\n",
        "ACTIVITIES = {\n",
        "    0: 'WALKING',\n",
        "    1: 'WALKING_UPSTAIRS',\n",
        "    2: 'WALKING_DOWNSTAIRS',\n",
        "    3: 'SITTING',\n",
        "    4: 'STANDING',\n",
        "    5: 'LAYING',\n",
        "}\n",
        "\n",
        "# Utility function to print the confusion matrix\n",
        "def confusion_matrix(Y_true, Y_pred):\n",
        "    Y_true = pd.Series([ACTIVITIES[y] for y in np.argmax(Y_true, axis=1)])\n",
        "    Y_pred = pd.Series([ACTIVITIES[y] for y in np.argmax(Y_pred, axis=1)])\n",
        "\n",
        "    return pd.crosstab(Y_true, Y_pred, rownames=['True'], colnames=['Pred'])"
      ],
      "execution_count": 2,
      "outputs": []
    },
    {
      "cell_type": "markdown",
      "metadata": {
        "id": "gKJpWFJ1F9iO"
      },
      "source": [
        "#Data"
      ]
    },
    {
      "cell_type": "code",
      "metadata": {
        "id": "f6w33DI2F5ME"
      },
      "source": [
        "# Data directory\n",
        "DATADIR = '/content/drive/MyDrive/human activity/HAR/UCI_HAR_Dataset'"
      ],
      "execution_count": 5,
      "outputs": []
    },
    {
      "cell_type": "code",
      "metadata": {
        "id": "uc-TqKB9GGge"
      },
      "source": [
        "# Raw data signals\n",
        "# Signals are from Accelerometer and Gyroscope\n",
        "# The signals are in x,y,z directions\n",
        "# Sensor signals are filtered to have only body acceleration\n",
        "# excluding the acceleration due to gravity\n",
        "# Triaxial acceleration from the accelerometer is total acceleration\n",
        "SIGNALS = [\n",
        "    \"body_acc_x\",\n",
        "    \"body_acc_y\",\n",
        "    \"body_acc_z\",\n",
        "    \"body_gyro_x\",\n",
        "    \"body_gyro_y\",\n",
        "    \"body_gyro_z\",\n",
        "    \"total_acc_x\",\n",
        "    \"total_acc_y\",\n",
        "    \"total_acc_z\"\n",
        "]"
      ],
      "execution_count": 6,
      "outputs": []
    },
    {
      "cell_type": "code",
      "metadata": {
        "id": "L-d-zyaYGI36"
      },
      "source": [
        "# Utility function to read the data from csv file\n",
        "def _read_csv(filename):\n",
        "    return pd.read_csv(filename, delim_whitespace=True, header=None)\n",
        "\n",
        "# Utility function to load the load\n",
        "def load_signals(subset):\n",
        "    signals_data = []\n",
        "\n",
        "    for signal in SIGNALS:\n",
        "        filename = f'/content/drive/MyDrive/human activity/HAR/UCI_HAR_Dataset/{subset}/Inertial Signals/{signal}_{subset}.txt'\n",
        "        signals_data.append(\n",
        "            _read_csv(filename).to_numpy()\n",
        "        ) \n",
        "\n",
        "    # Transpose is used to change the dimensionality of the output,\n",
        "    # aggregating the signals by combination of sample/timestep.\n",
        "    # Resultant shape is (7352 train/2947 test samples, 128 timesteps, 9 signals)\n",
        "    return np.transpose(signals_data, (1, 2, 0))"
      ],
      "execution_count": 7,
      "outputs": []
    },
    {
      "cell_type": "code",
      "metadata": {
        "id": "jD6aKQSeGMBY"
      },
      "source": [
        "\n",
        "def load_y(subset):\n",
        "    \"\"\"\n",
        "    The objective that we are trying to predict is a integer, from 1 to 6,\n",
        "    that represents a human activity. We return a binary representation of \n",
        "    every sample objective as a 6 bits vector using One Hot Encoding\n",
        "    (https://pandas.pydata.org/pandas-docs/stable/generated/pandas.get_dummies.html)\n",
        "    \"\"\"\n",
        "    filename = f'/content/drive/MyDrive/human activity/HAR/UCI_HAR_Dataset/{subset}/y_{subset}.txt'\n",
        "    y = _read_csv(filename)[0]\n",
        "\n",
        "    return pd.get_dummies(y).to_numpy()"
      ],
      "execution_count": 8,
      "outputs": []
    },
    {
      "cell_type": "code",
      "metadata": {
        "id": "lAHiY-pxGOit"
      },
      "source": [
        "def load_data():\n",
        "    \"\"\"\n",
        "    Obtain the dataset from multiple files.\n",
        "    Returns: X_train, X_test, y_train, y_test\n",
        "    \"\"\"\n",
        "    X_train, X_test = load_signals('train'), load_signals('test')\n",
        "    y_train, y_test = load_y('train'), load_y('test')\n",
        "\n",
        "    return X_train, X_test, y_train, y_test"
      ],
      "execution_count": 9,
      "outputs": []
    },
    {
      "cell_type": "code",
      "metadata": {
        "id": "dqyJhi3FGQyO"
      },
      "source": [
        "# Importing tensorflow\n",
        "np.random.seed(42)\n",
        "import tensorflow as tf\n",
        "tf.random.set_seed(42)"
      ],
      "execution_count": 10,
      "outputs": []
    },
    {
      "cell_type": "code",
      "metadata": {
        "id": "aKTRP23AGS89"
      },
      "source": [
        "# Configuring a session\n",
        "session_conf = tf.compat.v1.ConfigProto(\n",
        "    intra_op_parallelism_threads=1,\n",
        "    inter_op_parallelism_threads=1\n",
        ")"
      ],
      "execution_count": 11,
      "outputs": []
    },
    {
      "cell_type": "code",
      "metadata": {
        "id": "WS8xlEA2Gdhe"
      },
      "source": [
        "# Import Keras\n",
        "from tensorflow.python.keras import backend as K\n",
        "sess = tf.compat.v1.Session(graph=tf.compat.v1.get_default_graph (), config=session_conf)\n",
        "K.set_session(sess)"
      ],
      "execution_count": 12,
      "outputs": []
    },
    {
      "cell_type": "code",
      "metadata": {
        "colab": {
          "base_uri": "https://localhost:8080/"
        },
        "id": "sxHG4-ZbGlkc",
        "outputId": "9f152fb2-2361-4c04-fcfc-bca81d36c924"
      },
      "source": [
        "\n",
        "from tensorflow.python.keras import backend as K\n",
        "K.set_session"
      ],
      "execution_count": 13,
      "outputs": [
        {
          "output_type": "execute_result",
          "data": {
            "text/plain": [
              "<function tensorflow.python.keras.backend.set_session>"
            ]
          },
          "metadata": {},
          "execution_count": 13
        }
      ]
    },
    {
      "cell_type": "code",
      "metadata": {
        "id": "4gyxJxYqGtey"
      },
      "source": [
        "# Importing libraries\n",
        "from keras.models import Sequential\n",
        "from keras.layers import LSTM\n",
        "from keras.layers.core import Dense, Dropout"
      ],
      "execution_count": 14,
      "outputs": []
    },
    {
      "cell_type": "code",
      "metadata": {
        "id": "zgtpGjLEG5Co"
      },
      "source": [
        "# Initializing parameters\n",
        "epochs = 30\n",
        "batch_size = 16\n",
        "n_hidden = 32"
      ],
      "execution_count": 15,
      "outputs": []
    },
    {
      "cell_type": "code",
      "metadata": {
        "id": "tPmdwt9LG7yt"
      },
      "source": [
        "# Utility function to count the number of classes\n",
        "def _count_classes(y):\n",
        "    return len(set([tuple(category) for category in y]))"
      ],
      "execution_count": 16,
      "outputs": []
    },
    {
      "cell_type": "code",
      "metadata": {
        "id": "PV9kiS9bG_IM"
      },
      "source": [
        "# Loading the train and test data\n",
        "X_train, X_test, Y_train, Y_test = load_data()"
      ],
      "execution_count": 17,
      "outputs": []
    },
    {
      "cell_type": "code",
      "metadata": {
        "colab": {
          "base_uri": "https://localhost:8080/"
        },
        "id": "P104rSoMHBrE",
        "outputId": "8574908d-8340-438f-a1fd-ed1fd802c33e"
      },
      "source": [
        "timesteps = len(X_train[0])\n",
        "input_dim = len(X_train[0][0])\n",
        "n_classes = _count_classes(Y_train)\n",
        "\n",
        "print(timesteps)\n",
        "print(input_dim)\n",
        "print(len(X_train))"
      ],
      "execution_count": 18,
      "outputs": [
        {
          "output_type": "stream",
          "name": "stdout",
          "text": [
            "128\n",
            "9\n",
            "7352\n"
          ]
        }
      ]
    },
    {
      "cell_type": "markdown",
      "metadata": {
        "id": "618h069OIv4F"
      },
      "source": [
        "- Defining the Architecture of LSTM"
      ]
    },
    {
      "cell_type": "code",
      "metadata": {
        "colab": {
          "base_uri": "https://localhost:8080/"
        },
        "id": "YV1GEDY7Isa8",
        "outputId": "929d42aa-cae5-40a8-fbbd-ee60c6994c3e"
      },
      "source": [
        "# Initiliazing the sequential model\n",
        "model = Sequential()\n",
        "# Configuring the parameters\n",
        "model.add(LSTM(n_hidden, input_shape=(timesteps, input_dim)))\n",
        "# Adding a dropout layer\n",
        "model.add(Dropout(0.5))\n",
        "# Adding a dense output layer with sigmoid activation\n",
        "model.add(Dense(n_classes, activation='sigmoid'))\n",
        "model.summary()"
      ],
      "execution_count": null,
      "outputs": [
        {
          "name": "stdout",
          "output_type": "stream",
          "text": [
            "Model: \"sequential\"\n",
            "_________________________________________________________________\n",
            "Layer (type)                 Output Shape              Param #   \n",
            "=================================================================\n",
            "lstm (LSTM)                  (None, 32)                5376      \n",
            "_________________________________________________________________\n",
            "dropout (Dropout)            (None, 32)                0         \n",
            "_________________________________________________________________\n",
            "dense (Dense)                (None, 6)                 198       \n",
            "=================================================================\n",
            "Total params: 5,574\n",
            "Trainable params: 5,574\n",
            "Non-trainable params: 0\n",
            "_________________________________________________________________\n"
          ]
        }
      ]
    },
    {
      "cell_type": "code",
      "metadata": {
        "id": "2zfK86PQIy4K"
      },
      "source": [
        "# Compiling the model\n",
        "model.compile(loss='categorical_crossentropy',\n",
        "              optimizer='rmsprop',\n",
        "              metrics=['accuracy'])"
      ],
      "execution_count": null,
      "outputs": []
    },
    {
      "cell_type": "code",
      "metadata": {
        "colab": {
          "base_uri": "https://localhost:8080/"
        },
        "id": "UzH9XYMmI51D",
        "outputId": "48ae0cdc-b973-48b9-bc07-99514ae79015"
      },
      "source": [
        "# Training the model\n",
        "model.fit(X_train,\n",
        "          Y_train,\n",
        "          batch_size=batch_size,\n",
        "          validation_data=(X_test, Y_test),\n",
        "          epochs=epochs)"
      ],
      "execution_count": null,
      "outputs": [
        {
          "name": "stdout",
          "output_type": "stream",
          "text": [
            "Epoch 1/30\n",
            "460/460 [==============================] - 24s 48ms/step - loss: 1.2052 - accuracy: 0.4944 - val_loss: 0.9226 - val_accuracy: 0.5945\n",
            "Epoch 2/30\n",
            "460/460 [==============================] - 22s 48ms/step - loss: 0.8041 - accuracy: 0.6500 - val_loss: 0.7612 - val_accuracy: 0.6841\n",
            "Epoch 3/30\n",
            "460/460 [==============================] - 22s 47ms/step - loss: 0.6805 - accuracy: 0.7203 - val_loss: 0.6757 - val_accuracy: 0.7418\n",
            "Epoch 4/30\n",
            "460/460 [==============================] - 22s 47ms/step - loss: 0.5312 - accuracy: 0.8111 - val_loss: 0.7307 - val_accuracy: 0.7608\n",
            "Epoch 5/30\n",
            "460/460 [==============================] - 22s 47ms/step - loss: 0.3963 - accuracy: 0.8723 - val_loss: 0.4535 - val_accuracy: 0.8585\n",
            "Epoch 6/30\n",
            "460/460 [==============================] - 22s 48ms/step - loss: 0.3088 - accuracy: 0.9101 - val_loss: 0.4747 - val_accuracy: 0.8504\n",
            "Epoch 7/30\n",
            "460/460 [==============================] - 22s 48ms/step - loss: 0.2765 - accuracy: 0.9189 - val_loss: 0.4399 - val_accuracy: 0.8599\n",
            "Epoch 8/30\n",
            "460/460 [==============================] - 22s 47ms/step - loss: 0.2366 - accuracy: 0.9223 - val_loss: 0.6782 - val_accuracy: 0.8266\n",
            "Epoch 9/30\n",
            "460/460 [==============================] - 22s 47ms/step - loss: 0.2269 - accuracy: 0.9276 - val_loss: 0.3669 - val_accuracy: 0.8907\n",
            "Epoch 10/30\n",
            "460/460 [==============================] - 22s 48ms/step - loss: 0.2023 - accuracy: 0.9308 - val_loss: 0.3486 - val_accuracy: 0.8860\n",
            "Epoch 11/30\n",
            "460/460 [==============================] - 21s 46ms/step - loss: 0.1913 - accuracy: 0.9338 - val_loss: 0.4583 - val_accuracy: 0.8860\n",
            "Epoch 12/30\n",
            "460/460 [==============================] - 21s 47ms/step - loss: 0.1816 - accuracy: 0.9363 - val_loss: 0.5140 - val_accuracy: 0.8687\n",
            "Epoch 13/30\n",
            "460/460 [==============================] - 22s 48ms/step - loss: 0.1834 - accuracy: 0.9374 - val_loss: 0.4204 - val_accuracy: 0.8829\n",
            "Epoch 14/30\n",
            "460/460 [==============================] - 22s 47ms/step - loss: 0.1615 - accuracy: 0.9388 - val_loss: 0.3996 - val_accuracy: 0.8836\n",
            "Epoch 15/30\n",
            "460/460 [==============================] - 22s 47ms/step - loss: 0.1651 - accuracy: 0.9406 - val_loss: 0.3808 - val_accuracy: 0.8795\n",
            "Epoch 16/30\n",
            "460/460 [==============================] - 22s 49ms/step - loss: 0.1548 - accuracy: 0.9440 - val_loss: 0.6441 - val_accuracy: 0.8531\n",
            "Epoch 17/30\n",
            "460/460 [==============================] - 21s 46ms/step - loss: 0.1623 - accuracy: 0.9431 - val_loss: 0.5760 - val_accuracy: 0.8867\n",
            "Epoch 18/30\n",
            "460/460 [==============================] - 21s 46ms/step - loss: 0.1712 - accuracy: 0.9421 - val_loss: 0.3684 - val_accuracy: 0.8992\n",
            "Epoch 19/30\n",
            "460/460 [==============================] - 22s 47ms/step - loss: 0.1671 - accuracy: 0.9407 - val_loss: 0.4081 - val_accuracy: 0.8958\n",
            "Epoch 20/30\n",
            "460/460 [==============================] - 22s 48ms/step - loss: 0.1443 - accuracy: 0.9460 - val_loss: 0.4446 - val_accuracy: 0.8999\n",
            "Epoch 21/30\n",
            "460/460 [==============================] - 22s 47ms/step - loss: 0.1511 - accuracy: 0.9438 - val_loss: 0.3989 - val_accuracy: 0.9023\n",
            "Epoch 22/30\n",
            "460/460 [==============================] - 22s 47ms/step - loss: 0.1476 - accuracy: 0.9440 - val_loss: 0.4258 - val_accuracy: 0.8928\n",
            "Epoch 23/30\n",
            "460/460 [==============================] - 22s 48ms/step - loss: 0.1711 - accuracy: 0.9396 - val_loss: 0.4205 - val_accuracy: 0.8894\n",
            "Epoch 24/30\n",
            "460/460 [==============================] - 23s 49ms/step - loss: 0.1564 - accuracy: 0.9440 - val_loss: 0.3927 - val_accuracy: 0.8941\n",
            "Epoch 25/30\n",
            "460/460 [==============================] - 22s 47ms/step - loss: 0.1463 - accuracy: 0.9468 - val_loss: 0.6984 - val_accuracy: 0.8755\n",
            "Epoch 26/30\n",
            "460/460 [==============================] - 22s 48ms/step - loss: 0.1401 - accuracy: 0.9478 - val_loss: 0.4219 - val_accuracy: 0.9026\n",
            "Epoch 27/30\n",
            "460/460 [==============================] - 22s 48ms/step - loss: 0.1369 - accuracy: 0.9520 - val_loss: 0.4226 - val_accuracy: 0.9002\n",
            "Epoch 28/30\n",
            "460/460 [==============================] - 22s 47ms/step - loss: 0.1559 - accuracy: 0.9464 - val_loss: 0.5500 - val_accuracy: 0.8958\n",
            "Epoch 29/30\n",
            "460/460 [==============================] - 22s 47ms/step - loss: 0.1383 - accuracy: 0.9489 - val_loss: 0.5057 - val_accuracy: 0.9043\n",
            "Epoch 30/30\n",
            "460/460 [==============================] - 22s 49ms/step - loss: 0.1417 - accuracy: 0.9491 - val_loss: 0.6416 - val_accuracy: 0.9053\n"
          ]
        },
        {
          "data": {
            "text/plain": [
              "<keras.callbacks.History at 0x7fc133161e90>"
            ]
          },
          "execution_count": 62,
          "metadata": {},
          "output_type": "execute_result"
        }
      ]
    },
    {
      "cell_type": "code",
      "metadata": {
        "colab": {
          "base_uri": "https://localhost:8080/"
        },
        "id": "_A2JiQcaI8jd",
        "outputId": "8e1a802e-f88c-48c0-e7c1-ceffa0daf3d7"
      },
      "source": [
        "# Confusion Matrix\n",
        "print(confusion_matrix(Y_test, model.predict(X_test)))"
      ],
      "execution_count": null,
      "outputs": [
        {
          "name": "stdout",
          "output_type": "stream",
          "text": [
            "Pred                LAYING  SITTING  ...  WALKING_DOWNSTAIRS  WALKING_UPSTAIRS\n",
            "True                                 ...                                      \n",
            "LAYING                 510        0  ...                   0                 0\n",
            "SITTING                  3      408  ...                   1                 2\n",
            "STANDING                 0       83  ...                   0                 1\n",
            "WALKING                  0        0  ...                  24                25\n",
            "WALKING_DOWNSTAIRS       0        0  ...                 420                 0\n",
            "WALKING_UPSTAIRS         0        0  ...                  33               437\n",
            "\n",
            "[6 rows x 6 columns]\n"
          ]
        }
      ]
    },
    {
      "cell_type": "code",
      "metadata": {
        "colab": {
          "base_uri": "https://localhost:8080/"
        },
        "id": "bT_n-0rzJDjb",
        "outputId": "e455c66c-f783-4957-907d-ede888dcb7ed"
      },
      "source": [
        "score = model.evaluate(X_test, Y_test)"
      ],
      "execution_count": null,
      "outputs": [
        {
          "name": "stdout",
          "output_type": "stream",
          "text": [
            "93/93 [==============================] - 1s 12ms/step - loss: 0.6416 - accuracy: 0.9053\n"
          ]
        }
      ]
    },
    {
      "cell_type": "code",
      "metadata": {
        "colab": {
          "base_uri": "https://localhost:8080/"
        },
        "id": "cYMIcqy7JFpD",
        "outputId": "733c3403-77eb-465e-a263-28b29c390286"
      },
      "source": [
        "score"
      ],
      "execution_count": null,
      "outputs": [
        {
          "data": {
            "text/plain": [
              "[0.6415585875511169, 0.9053274393081665]"
            ]
          },
          "execution_count": 65,
          "metadata": {},
          "output_type": "execute_result"
        }
      ]
    },
    {
      "cell_type": "markdown",
      "metadata": {
        "id": "rlZhc545JPJ3"
      },
      "source": [
        "# Assignment:\n",
        "- With a simple 2 layer architecture we got 90.09% accuracy and a loss of 0.30\n",
        "- We can further imporve the performace with Hyperparameter tuning"
      ]
    },
    {
      "cell_type": "code",
      "metadata": {
        "id": "P_St3YA_JOuC"
      },
      "source": [
        "# Importing libraries\n",
        "from keras.models import Sequential\n",
        "from keras.layers import LSTM\n",
        "from keras.layers.core import Dense, Dropout"
      ],
      "execution_count": null,
      "outputs": []
    },
    {
      "cell_type": "markdown",
      "metadata": {
        "id": "u-RQR5yYML4K"
      },
      "source": [
        "#Model-1:\n",
        "- epoch = 30\n",
        "- n_hidden = 16\n",
        "- batch_size = 64\n",
        "- loss = 'categorical_crossentropy'\n",
        "- optimizer = 'rmsprop'"
      ]
    },
    {
      "cell_type": "code",
      "metadata": {
        "id": "p6j-bkCvJvhx"
      },
      "source": [
        "# Initializing parameters\n",
        "epochs = 30\n",
        "batch_size = 16\n",
        "n_hidden = 64"
      ],
      "execution_count": null,
      "outputs": []
    },
    {
      "cell_type": "code",
      "metadata": {
        "colab": {
          "base_uri": "https://localhost:8080/"
        },
        "id": "VFqWGQrzJvZY",
        "outputId": "67df0d87-4a45-45ea-8a89-fdff207370e7"
      },
      "source": [
        "# Initiliazing the sequential model\n",
        "model = Sequential()\n",
        "# Configuring the parameters\n",
        "model.add(LSTM(n_hidden, input_shape=(timesteps, input_dim)))\n",
        "# Adding a dropout layer\n",
        "model.add(Dropout(0.5))\n",
        "# Adding a dense output layer with sigmoid activation\n",
        "model.add(Dense(n_classes, activation='sigmoid'))\n",
        "model.summary()"
      ],
      "execution_count": null,
      "outputs": [
        {
          "output_type": "stream",
          "name": "stdout",
          "text": [
            "Model: \"sequential_5\"\n",
            "_________________________________________________________________\n",
            "Layer (type)                 Output Shape              Param #   \n",
            "=================================================================\n",
            "lstm_10 (LSTM)               (None, 64)                18944     \n",
            "_________________________________________________________________\n",
            "dropout_9 (Dropout)          (None, 64)                0         \n",
            "_________________________________________________________________\n",
            "dense_4 (Dense)              (None, 6)                 390       \n",
            "=================================================================\n",
            "Total params: 19,334\n",
            "Trainable params: 19,334\n",
            "Non-trainable params: 0\n",
            "_________________________________________________________________\n"
          ]
        }
      ]
    },
    {
      "cell_type": "code",
      "metadata": {
        "id": "MZsL7YSmLzKU"
      },
      "source": [
        "# Compiling the model\n",
        "model.compile(loss='categorical_crossentropy',\n",
        "              optimizer='rmsprop',\n",
        "              metrics=['accuracy'])"
      ],
      "execution_count": null,
      "outputs": []
    },
    {
      "cell_type": "code",
      "metadata": {
        "colab": {
          "base_uri": "https://localhost:8080/"
        },
        "id": "24ngltHvL60U",
        "outputId": "d182f5fa-b9fc-4c32-f4d5-8bb7a6cf9b44"
      },
      "source": [
        "# Training the model\n",
        "model.fit(X_train,\n",
        "          Y_train,\n",
        "          batch_size=batch_size,\n",
        "          validation_data=(X_test, Y_test),\n",
        "          epochs=epochs)"
      ],
      "execution_count": null,
      "outputs": [
        {
          "output_type": "stream",
          "name": "stdout",
          "text": [
            "Epoch 1/30\n",
            "460/460 [==============================] - 29s 58ms/step - loss: 1.0358 - accuracy: 0.5564 - val_loss: 0.9567 - val_accuracy: 0.6169\n",
            "Epoch 2/30\n",
            "460/460 [==============================] - 27s 58ms/step - loss: 0.6415 - accuracy: 0.7489 - val_loss: 0.6701 - val_accuracy: 0.7818\n",
            "Epoch 3/30\n",
            "460/460 [==============================] - 27s 58ms/step - loss: 0.4239 - accuracy: 0.8658 - val_loss: 0.5464 - val_accuracy: 0.8327\n",
            "Epoch 4/30\n",
            "460/460 [==============================] - 27s 58ms/step - loss: 0.2614 - accuracy: 0.9153 - val_loss: 0.4361 - val_accuracy: 0.8789\n",
            "Epoch 5/30\n",
            "460/460 [==============================] - 27s 58ms/step - loss: 0.2417 - accuracy: 0.9210 - val_loss: 0.4237 - val_accuracy: 0.8785\n",
            "Epoch 6/30\n",
            "460/460 [==============================] - 27s 58ms/step - loss: 0.2023 - accuracy: 0.9336 - val_loss: 0.3130 - val_accuracy: 0.8748\n",
            "Epoch 7/30\n",
            "460/460 [==============================] - 27s 58ms/step - loss: 0.2005 - accuracy: 0.9320 - val_loss: 0.3183 - val_accuracy: 0.8965\n",
            "Epoch 8/30\n",
            "460/460 [==============================] - 27s 58ms/step - loss: 0.1607 - accuracy: 0.9393 - val_loss: 0.3715 - val_accuracy: 0.9036\n",
            "Epoch 9/30\n",
            "460/460 [==============================] - 27s 58ms/step - loss: 0.1577 - accuracy: 0.9431 - val_loss: 0.3657 - val_accuracy: 0.8955\n",
            "Epoch 10/30\n",
            "460/460 [==============================] - 27s 58ms/step - loss: 0.1521 - accuracy: 0.9471 - val_loss: 0.4009 - val_accuracy: 0.9019\n",
            "Epoch 11/30\n",
            "460/460 [==============================] - 27s 58ms/step - loss: 0.1515 - accuracy: 0.9460 - val_loss: 0.3112 - val_accuracy: 0.9141\n",
            "Epoch 12/30\n",
            "460/460 [==============================] - 27s 58ms/step - loss: 0.1342 - accuracy: 0.9508 - val_loss: 0.2884 - val_accuracy: 0.9063\n",
            "Epoch 13/30\n",
            "460/460 [==============================] - 27s 58ms/step - loss: 0.1445 - accuracy: 0.9479 - val_loss: 0.5726 - val_accuracy: 0.8867\n",
            "Epoch 14/30\n",
            "460/460 [==============================] - 27s 58ms/step - loss: 0.1633 - accuracy: 0.9456 - val_loss: 0.8703 - val_accuracy: 0.8527\n",
            "Epoch 15/30\n",
            "460/460 [==============================] - 27s 58ms/step - loss: 0.1640 - accuracy: 0.9412 - val_loss: 0.4457 - val_accuracy: 0.9016\n",
            "Epoch 16/30\n",
            "460/460 [==============================] - 27s 58ms/step - loss: 0.1355 - accuracy: 0.9498 - val_loss: 0.4846 - val_accuracy: 0.9087\n",
            "Epoch 17/30\n",
            "460/460 [==============================] - 27s 58ms/step - loss: 0.1406 - accuracy: 0.9484 - val_loss: 0.7092 - val_accuracy: 0.8904\n",
            "Epoch 18/30\n",
            "460/460 [==============================] - 27s 58ms/step - loss: 0.1482 - accuracy: 0.9479 - val_loss: 0.6766 - val_accuracy: 0.8996\n",
            "Epoch 19/30\n",
            "460/460 [==============================] - 27s 58ms/step - loss: 0.1438 - accuracy: 0.9464 - val_loss: 0.4157 - val_accuracy: 0.9118\n",
            "Epoch 20/30\n",
            "460/460 [==============================] - 27s 59ms/step - loss: 0.1415 - accuracy: 0.9506 - val_loss: 0.3969 - val_accuracy: 0.8968\n",
            "Epoch 21/30\n",
            "460/460 [==============================] - 27s 58ms/step - loss: 0.1408 - accuracy: 0.9508 - val_loss: 0.3939 - val_accuracy: 0.9162\n",
            "Epoch 22/30\n",
            "460/460 [==============================] - 27s 58ms/step - loss: 0.1326 - accuracy: 0.9498 - val_loss: 0.6305 - val_accuracy: 0.8901\n",
            "Epoch 23/30\n",
            "460/460 [==============================] - 27s 58ms/step - loss: 0.1463 - accuracy: 0.9468 - val_loss: 0.3773 - val_accuracy: 0.9057\n",
            "Epoch 24/30\n",
            "460/460 [==============================] - 27s 58ms/step - loss: 0.1373 - accuracy: 0.9472 - val_loss: 0.4471 - val_accuracy: 0.9125\n",
            "Epoch 25/30\n",
            "460/460 [==============================] - 27s 58ms/step - loss: 0.1239 - accuracy: 0.9520 - val_loss: 0.3729 - val_accuracy: 0.9114\n",
            "Epoch 26/30\n",
            "460/460 [==============================] - 27s 59ms/step - loss: 0.1217 - accuracy: 0.9529 - val_loss: 0.3851 - val_accuracy: 0.9240\n",
            "Epoch 27/30\n",
            "460/460 [==============================] - 27s 58ms/step - loss: 0.1420 - accuracy: 0.9531 - val_loss: 0.5268 - val_accuracy: 0.9019\n",
            "Epoch 28/30\n",
            "460/460 [==============================] - 27s 58ms/step - loss: 0.1380 - accuracy: 0.9491 - val_loss: 0.3308 - val_accuracy: 0.9141\n",
            "Epoch 29/30\n",
            "460/460 [==============================] - 27s 58ms/step - loss: 0.1231 - accuracy: 0.9533 - val_loss: 0.4581 - val_accuracy: 0.9162\n",
            "Epoch 30/30\n",
            "460/460 [==============================] - 27s 58ms/step - loss: 0.1194 - accuracy: 0.9527 - val_loss: 0.4214 - val_accuracy: 0.9121\n"
          ]
        },
        {
          "output_type": "execute_result",
          "data": {
            "text/plain": [
              "<keras.callbacks.History at 0x7f5277d7bad0>"
            ]
          },
          "metadata": {},
          "execution_count": 45
        }
      ]
    },
    {
      "cell_type": "code",
      "metadata": {
        "colab": {
          "base_uri": "https://localhost:8080/"
        },
        "id": "N8WRwIlpL-Vv",
        "outputId": "df3d6dca-01f9-4cd7-eba1-accf8d55a0a8"
      },
      "source": [
        "# Confusion Matrix\n",
        "print(confusion_matrix(Y_test, model.predict(X_test)))"
      ],
      "execution_count": null,
      "outputs": [
        {
          "output_type": "stream",
          "name": "stdout",
          "text": [
            "Pred                LAYING  SITTING  ...  WALKING_DOWNSTAIRS  WALKING_UPSTAIRS\n",
            "True                                 ...                                      \n",
            "LAYING                 510        0  ...                   0                 0\n",
            "SITTING                  0      373  ...                   0                 3\n",
            "STANDING                 0       79  ...                   0                 0\n",
            "WALKING                  0        0  ...                  25                 6\n",
            "WALKING_DOWNSTAIRS       0        0  ...                 418                 2\n",
            "WALKING_UPSTAIRS         0        0  ...                   0               469\n",
            "\n",
            "[6 rows x 6 columns]\n"
          ]
        }
      ]
    },
    {
      "cell_type": "code",
      "metadata": {
        "colab": {
          "base_uri": "https://localhost:8080/"
        },
        "id": "np0a8bgrMHBF",
        "outputId": "899c0da0-c2e8-4113-a241-b185bd331efd"
      },
      "source": [
        "score = model.evaluate(X_test, Y_test)"
      ],
      "execution_count": null,
      "outputs": [
        {
          "output_type": "stream",
          "name": "stdout",
          "text": [
            "93/93 [==============================] - 2s 17ms/step - loss: 0.4214 - accuracy: 0.9121\n"
          ]
        }
      ]
    },
    {
      "cell_type": "code",
      "metadata": {
        "colab": {
          "base_uri": "https://localhost:8080/"
        },
        "id": "tAtJ5HZeMJxr",
        "outputId": "20b0ab45-7c08-4cbc-8aa9-a4a807e0fb23"
      },
      "source": [
        "score"
      ],
      "execution_count": null,
      "outputs": [
        {
          "output_type": "execute_result",
          "data": {
            "text/plain": [
              "[0.4214465320110321, 0.9121140241622925]"
            ]
          },
          "metadata": {},
          "execution_count": 48
        }
      ]
    },
    {
      "cell_type": "markdown",
      "metadata": {
        "id": "0M_YOITi6RSe"
      },
      "source": [
        "#Model-2:\n",
        "- epoch = 20\n",
        "- n_hidden = 128\n",
        "- batch_size = 64\n",
        "- activation = {input : Default ,   output:softmax}\n",
        "- loss = 'categorical_crossentropy'\n",
        "- optimizer = 'rmsprop'"
      ]
    },
    {
      "cell_type": "code",
      "metadata": {
        "id": "xMVFhi2eMnjz"
      },
      "source": [
        "# Initializing parameters\n",
        "epochs = 20\n",
        "batch_size = 64\n",
        "n_hidden = 128"
      ],
      "execution_count": null,
      "outputs": []
    },
    {
      "cell_type": "code",
      "metadata": {
        "colab": {
          "base_uri": "https://localhost:8080/"
        },
        "id": "LUc93iOqPR-h",
        "outputId": "e36f5a7f-997e-4649-adbf-db8d902f2cd2"
      },
      "source": [
        "# Initiliazing the sequential model\n",
        "model = Sequential()\n",
        "# Configuring the parameters\n",
        "model.add(LSTM(n_hidden, input_shape=(timesteps, input_dim)))\n",
        "# Adding a dropout layer\n",
        "model.add(Dropout(0.5))\n",
        "# Adding a dense output layer with sigmoid activation\n",
        "model.add(Dense(n_classes, activation='sigmoid'))\n",
        "model.summary()"
      ],
      "execution_count": null,
      "outputs": [
        {
          "output_type": "stream",
          "name": "stdout",
          "text": [
            "Model: \"sequential_15\"\n",
            "_________________________________________________________________\n",
            "Layer (type)                 Output Shape              Param #   \n",
            "=================================================================\n",
            "lstm_20 (LSTM)               (None, 128)               70656     \n",
            "_________________________________________________________________\n",
            "dropout_19 (Dropout)         (None, 128)               0         \n",
            "_________________________________________________________________\n",
            "dense_14 (Dense)             (None, 6)                 774       \n",
            "=================================================================\n",
            "Total params: 71,430\n",
            "Trainable params: 71,430\n",
            "Non-trainable params: 0\n",
            "_________________________________________________________________\n"
          ]
        }
      ]
    },
    {
      "cell_type": "code",
      "metadata": {
        "id": "7tnwZiuWPX3S"
      },
      "source": [
        "# Compiling the model\n",
        "model.compile(loss='categorical_crossentropy',\n",
        "              optimizer='rmsprop',\n",
        "              metrics=['accuracy'])"
      ],
      "execution_count": null,
      "outputs": []
    },
    {
      "cell_type": "code",
      "metadata": {
        "colab": {
          "base_uri": "https://localhost:8080/"
        },
        "id": "YmGKAj-CPcaQ",
        "outputId": "e90642ec-5492-493f-b7df-237fb1dba5a4"
      },
      "source": [
        "# Training the model\n",
        "model.fit(X_train,\n",
        "          Y_train,\n",
        "          batch_size=batch_size,\n",
        "          validation_data=(X_test, Y_test),\n",
        "          epochs=epochs)"
      ],
      "execution_count": null,
      "outputs": [
        {
          "output_type": "stream",
          "name": "stdout",
          "text": [
            "Epoch 1/20\n",
            "115/115 [==============================] - 24s 193ms/step - loss: 1.1855 - accuracy: 0.4984 - val_loss: 0.9466 - val_accuracy: 0.6183\n",
            "Epoch 2/20\n",
            "115/115 [==============================] - 22s 188ms/step - loss: 0.7834 - accuracy: 0.6761 - val_loss: 0.9503 - val_accuracy: 0.6634\n",
            "Epoch 3/20\n",
            "115/115 [==============================] - 22s 187ms/step - loss: 0.5472 - accuracy: 0.7945 - val_loss: 0.5937 - val_accuracy: 0.7747\n",
            "Epoch 4/20\n",
            "115/115 [==============================] - 22s 187ms/step - loss: 0.3809 - accuracy: 0.8689 - val_loss: 0.4690 - val_accuracy: 0.8405\n",
            "Epoch 5/20\n",
            "115/115 [==============================] - 22s 187ms/step - loss: 0.2794 - accuracy: 0.9082 - val_loss: 0.5325 - val_accuracy: 0.8300\n",
            "Epoch 6/20\n",
            "115/115 [==============================] - 21s 187ms/step - loss: 0.2312 - accuracy: 0.9197 - val_loss: 0.3784 - val_accuracy: 0.8741\n",
            "Epoch 7/20\n",
            "115/115 [==============================] - 22s 187ms/step - loss: 0.2003 - accuracy: 0.9285 - val_loss: 0.2904 - val_accuracy: 0.8907\n",
            "Epoch 8/20\n",
            "115/115 [==============================] - 21s 186ms/step - loss: 0.1710 - accuracy: 0.9354 - val_loss: 0.3894 - val_accuracy: 0.8941\n",
            "Epoch 9/20\n",
            "115/115 [==============================] - 21s 187ms/step - loss: 0.1615 - accuracy: 0.9400 - val_loss: 0.3447 - val_accuracy: 0.8968\n",
            "Epoch 10/20\n",
            "115/115 [==============================] - 21s 187ms/step - loss: 0.1519 - accuracy: 0.9408 - val_loss: 0.3443 - val_accuracy: 0.8958\n",
            "Epoch 11/20\n",
            "115/115 [==============================] - 22s 187ms/step - loss: 0.1466 - accuracy: 0.9442 - val_loss: 0.3333 - val_accuracy: 0.8544\n",
            "Epoch 12/20\n",
            "115/115 [==============================] - 22s 188ms/step - loss: 0.1653 - accuracy: 0.9404 - val_loss: 0.6099 - val_accuracy: 0.8517\n",
            "Epoch 13/20\n",
            "115/115 [==============================] - 22s 188ms/step - loss: 0.1367 - accuracy: 0.9459 - val_loss: 0.3085 - val_accuracy: 0.9060\n",
            "Epoch 14/20\n",
            "115/115 [==============================] - 22s 187ms/step - loss: 0.1510 - accuracy: 0.9455 - val_loss: 0.3771 - val_accuracy: 0.8914\n",
            "Epoch 15/20\n",
            "115/115 [==============================] - 22s 188ms/step - loss: 0.1661 - accuracy: 0.9402 - val_loss: 0.3731 - val_accuracy: 0.8887\n",
            "Epoch 16/20\n",
            "115/115 [==============================] - 22s 188ms/step - loss: 0.1360 - accuracy: 0.9459 - val_loss: 0.4211 - val_accuracy: 0.8924\n",
            "Epoch 17/20\n",
            "115/115 [==============================] - 21s 187ms/step - loss: 0.1266 - accuracy: 0.9486 - val_loss: 0.5229 - val_accuracy: 0.8951\n",
            "Epoch 18/20\n",
            "115/115 [==============================] - 22s 188ms/step - loss: 0.1357 - accuracy: 0.9455 - val_loss: 0.3357 - val_accuracy: 0.9063\n",
            "Epoch 19/20\n",
            "115/115 [==============================] - 22s 188ms/step - loss: 0.1248 - accuracy: 0.9493 - val_loss: 0.3712 - val_accuracy: 0.8955\n",
            "Epoch 20/20\n",
            "115/115 [==============================] - 22s 188ms/step - loss: 0.1233 - accuracy: 0.9499 - val_loss: 0.3724 - val_accuracy: 0.8965\n"
          ]
        },
        {
          "output_type": "execute_result",
          "data": {
            "text/plain": [
              "<keras.callbacks.History at 0x7f5276924850>"
            ]
          },
          "metadata": {},
          "execution_count": 104
        }
      ]
    },
    {
      "cell_type": "code",
      "metadata": {
        "colab": {
          "base_uri": "https://localhost:8080/"
        },
        "id": "J739xJmVPhR_",
        "outputId": "aa9c174b-3439-4ae4-e72f-a1f83101cf35"
      },
      "source": [
        "# Confusion Matrix\n",
        "print(confusion_matrix(Y_test, model.predict(X_test)))"
      ],
      "execution_count": null,
      "outputs": [
        {
          "output_type": "stream",
          "name": "stdout",
          "text": [
            "Pred                LAYING  SITTING  ...  WALKING_DOWNSTAIRS  WALKING_UPSTAIRS\n",
            "True                                 ...                                      \n",
            "LAYING                 510        0  ...                   0                 2\n",
            "SITTING                  5      376  ...                   0                 1\n",
            "STANDING                 0       85  ...                   0                 0\n",
            "WALKING                  0        0  ...                  36                 1\n",
            "WALKING_DOWNSTAIRS       0        0  ...                 417                 0\n",
            "WALKING_UPSTAIRS         0        0  ...                  35               433\n",
            "\n",
            "[6 rows x 6 columns]\n"
          ]
        }
      ]
    },
    {
      "cell_type": "code",
      "metadata": {
        "colab": {
          "base_uri": "https://localhost:8080/"
        },
        "id": "XxejtyeBPzNQ",
        "outputId": "b4910668-9b42-494e-f9c5-b81739c5c60e"
      },
      "source": [
        "score = model.evaluate(X_test, Y_test)"
      ],
      "execution_count": null,
      "outputs": [
        {
          "output_type": "stream",
          "name": "stdout",
          "text": [
            "93/93 [==============================] - 4s 38ms/step - loss: 0.3724 - accuracy: 0.8965\n"
          ]
        }
      ]
    },
    {
      "cell_type": "code",
      "metadata": {
        "colab": {
          "base_uri": "https://localhost:8080/"
        },
        "id": "PjPelS6PPzDN",
        "outputId": "b255251a-ad6a-4766-9646-3ef344a28fe5"
      },
      "source": [
        "score"
      ],
      "execution_count": null,
      "outputs": [
        {
          "output_type": "execute_result",
          "data": {
            "text/plain": [
              "[0.3723759353160858, 0.8965049386024475]"
            ]
          },
          "metadata": {},
          "execution_count": 107
        }
      ]
    },
    {
      "cell_type": "markdown",
      "metadata": {
        "id": "EHj1iUZT6ZNx"
      },
      "source": [
        "#Model-3:\n",
        "- epoch = 30\n",
        "- n_hidden = 32\n",
        "- batch_size = 64\n",
        "- loss = 'categorical_crossentropy'\n",
        "- optimizer = tf.keras.optimizers.SGD(learning_rate=0.01)\n",
        "- Adding one batch normalization layer"
      ]
    },
    {
      "cell_type": "code",
      "metadata": {
        "id": "nPJ_kBwqjbi5"
      },
      "source": [
        "## Initializing parameters\n",
        "epochs = 30\n",
        "batch_size = 64\n",
        "n_hidden = 32"
      ],
      "execution_count": 19,
      "outputs": []
    },
    {
      "cell_type": "code",
      "metadata": {
        "colab": {
          "base_uri": "https://localhost:8080/"
        },
        "id": "AaLMIQ5Xjg1O",
        "outputId": "b06d5e5f-cb9a-49ba-e014-44f11b7b44e9"
      },
      "source": [
        "from tensorflow.keras.layers import Input, Embedding, LSTM, Dropout, BatchNormalization\n",
        "# Initiliazing the sequential model\n",
        "model = Sequential()\n",
        "# Configuring the parameters\n",
        "model.add(LSTM(n_hidden, input_shape=(timesteps, input_dim)))\n",
        "model.add(BatchNormalization())\n",
        "# Adding a dropout layer\n",
        "model.add(Dropout(0.5))\n",
        "# Adding a dense output layer with sigmoid activation\n",
        "model.add(Dense(n_classes, activation='sigmoid'))\n",
        "model.summary()"
      ],
      "execution_count": 21,
      "outputs": [
        {
          "output_type": "stream",
          "name": "stdout",
          "text": [
            "Model: \"sequential_1\"\n",
            "_________________________________________________________________\n",
            "Layer (type)                 Output Shape              Param #   \n",
            "=================================================================\n",
            "lstm_1 (LSTM)                (None, 32)                5376      \n",
            "_________________________________________________________________\n",
            "batch_normalization (BatchNo (None, 32)                128       \n",
            "_________________________________________________________________\n",
            "dropout (Dropout)            (None, 32)                0         \n",
            "_________________________________________________________________\n",
            "dense (Dense)                (None, 6)                 198       \n",
            "=================================================================\n",
            "Total params: 5,702\n",
            "Trainable params: 5,638\n",
            "Non-trainable params: 64\n",
            "_________________________________________________________________\n"
          ]
        }
      ]
    },
    {
      "cell_type": "code",
      "metadata": {
        "id": "j9hVy6EjNcxi"
      },
      "source": [
        "optimizer = tf.keras.optimizers.SGD(learning_rate=0.01)\n",
        "model.compile(optimizer=optimizer,loss='categorical_crossentropy',metrics=['accuracy'])"
      ],
      "execution_count": 22,
      "outputs": []
    },
    {
      "cell_type": "code",
      "metadata": {
        "colab": {
          "base_uri": "https://localhost:8080/"
        },
        "id": "fdqqNGonjgnA",
        "outputId": "021a1921-72bc-40b8-c851-29029837059f"
      },
      "source": [
        "# Training the model\n",
        "model.fit(X_train,\n",
        "          Y_train,\n",
        "          batch_size=batch_size,\n",
        "          validation_data=(X_test, Y_test),\n",
        "          epochs=epochs)"
      ],
      "execution_count": 23,
      "outputs": [
        {
          "output_type": "stream",
          "name": "stdout",
          "text": [
            "Epoch 1/30\n",
            "115/115 [==============================] - 8s 54ms/step - loss: 1.5567 - accuracy: 0.4115 - val_loss: 1.4866 - val_accuracy: 0.4615\n",
            "Epoch 2/30\n",
            "115/115 [==============================] - 6s 49ms/step - loss: 1.1898 - accuracy: 0.5106 - val_loss: 1.2515 - val_accuracy: 0.4859\n",
            "Epoch 3/30\n",
            "115/115 [==============================] - 6s 49ms/step - loss: 1.0750 - accuracy: 0.5516 - val_loss: 1.1363 - val_accuracy: 0.5402\n",
            "Epoch 4/30\n",
            "115/115 [==============================] - 6s 51ms/step - loss: 1.0050 - accuracy: 0.5789 - val_loss: 1.0256 - val_accuracy: 0.5494\n",
            "Epoch 5/30\n",
            "115/115 [==============================] - 6s 49ms/step - loss: 0.9259 - accuracy: 0.5979 - val_loss: 1.2384 - val_accuracy: 0.4971\n",
            "Epoch 6/30\n",
            "115/115 [==============================] - 6s 49ms/step - loss: 0.8653 - accuracy: 0.6179 - val_loss: 1.0599 - val_accuracy: 0.4930\n",
            "Epoch 7/30\n",
            "115/115 [==============================] - 6s 50ms/step - loss: 0.8029 - accuracy: 0.6532 - val_loss: 0.7357 - val_accuracy: 0.6895\n",
            "Epoch 8/30\n",
            "115/115 [==============================] - 6s 50ms/step - loss: 0.7529 - accuracy: 0.6711 - val_loss: 0.6918 - val_accuracy: 0.7292\n",
            "Epoch 9/30\n",
            "115/115 [==============================] - 6s 50ms/step - loss: 0.6939 - accuracy: 0.6964 - val_loss: 0.7200 - val_accuracy: 0.6688\n",
            "Epoch 10/30\n",
            "115/115 [==============================] - 6s 50ms/step - loss: 0.6566 - accuracy: 0.7193 - val_loss: 0.6677 - val_accuracy: 0.7160\n",
            "Epoch 11/30\n",
            "115/115 [==============================] - 6s 50ms/step - loss: 0.6124 - accuracy: 0.7447 - val_loss: 0.6244 - val_accuracy: 0.7479\n",
            "Epoch 12/30\n",
            "115/115 [==============================] - 6s 50ms/step - loss: 0.5924 - accuracy: 0.7617 - val_loss: 0.6825 - val_accuracy: 0.7031\n",
            "Epoch 13/30\n",
            "115/115 [==============================] - 6s 49ms/step - loss: 0.5621 - accuracy: 0.7753 - val_loss: 0.6948 - val_accuracy: 0.7550\n",
            "Epoch 14/30\n",
            "115/115 [==============================] - 6s 50ms/step - loss: 0.5313 - accuracy: 0.7972 - val_loss: 3.7243 - val_accuracy: 0.4381\n",
            "Epoch 15/30\n",
            "115/115 [==============================] - 6s 52ms/step - loss: 0.5297 - accuracy: 0.7957 - val_loss: 0.8620 - val_accuracy: 0.7187\n",
            "Epoch 16/30\n",
            "115/115 [==============================] - 6s 50ms/step - loss: 0.4647 - accuracy: 0.8296 - val_loss: 0.6030 - val_accuracy: 0.7760\n",
            "Epoch 17/30\n",
            "115/115 [==============================] - 6s 50ms/step - loss: 0.4543 - accuracy: 0.8319 - val_loss: 0.5622 - val_accuracy: 0.7682\n",
            "Epoch 18/30\n",
            "115/115 [==============================] - 6s 50ms/step - loss: 0.4011 - accuracy: 0.8557 - val_loss: 0.4893 - val_accuracy: 0.8117\n",
            "Epoch 19/30\n",
            "115/115 [==============================] - 6s 50ms/step - loss: 0.3776 - accuracy: 0.8700 - val_loss: 0.4651 - val_accuracy: 0.8273\n",
            "Epoch 20/30\n",
            "115/115 [==============================] - 6s 50ms/step - loss: 0.3562 - accuracy: 0.8806 - val_loss: 0.5390 - val_accuracy: 0.8025\n",
            "Epoch 21/30\n",
            "115/115 [==============================] - 6s 50ms/step - loss: 0.3725 - accuracy: 0.8765 - val_loss: 0.4510 - val_accuracy: 0.8483\n",
            "Epoch 22/30\n",
            "115/115 [==============================] - 6s 50ms/step - loss: 0.3108 - accuracy: 0.8968 - val_loss: 0.4005 - val_accuracy: 0.8588\n",
            "Epoch 23/30\n",
            "115/115 [==============================] - 6s 50ms/step - loss: 0.3440 - accuracy: 0.8844 - val_loss: 0.3763 - val_accuracy: 0.8646\n",
            "Epoch 24/30\n",
            "115/115 [==============================] - 6s 50ms/step - loss: 0.3130 - accuracy: 0.8901 - val_loss: 0.4137 - val_accuracy: 0.8561\n",
            "Epoch 25/30\n",
            "115/115 [==============================] - 6s 51ms/step - loss: 0.2836 - accuracy: 0.9044 - val_loss: 0.4155 - val_accuracy: 0.8626\n",
            "Epoch 26/30\n",
            "115/115 [==============================] - 6s 50ms/step - loss: 0.2796 - accuracy: 0.9066 - val_loss: 0.3688 - val_accuracy: 0.8744\n",
            "Epoch 27/30\n",
            "115/115 [==============================] - 6s 50ms/step - loss: 0.2653 - accuracy: 0.9097 - val_loss: 0.3596 - val_accuracy: 0.8836\n",
            "Epoch 28/30\n",
            "115/115 [==============================] - 6s 51ms/step - loss: 0.2415 - accuracy: 0.9197 - val_loss: 1.1346 - val_accuracy: 0.7876\n",
            "Epoch 29/30\n",
            "115/115 [==============================] - 6s 50ms/step - loss: 0.2584 - accuracy: 0.9147 - val_loss: 0.4016 - val_accuracy: 0.8639\n",
            "Epoch 30/30\n",
            "115/115 [==============================] - 6s 50ms/step - loss: 0.2649 - accuracy: 0.9110 - val_loss: 0.3334 - val_accuracy: 0.8806\n"
          ]
        },
        {
          "output_type": "execute_result",
          "data": {
            "text/plain": [
              "<keras.callbacks.History at 0x7febd9623710>"
            ]
          },
          "metadata": {},
          "execution_count": 23
        }
      ]
    },
    {
      "cell_type": "code",
      "metadata": {
        "colab": {
          "base_uri": "https://localhost:8080/"
        },
        "id": "LfDMjYZYjgdn",
        "outputId": "b400dd7a-fcd2-49e0-babb-d24f92137bd2"
      },
      "source": [
        "# Confusion Matrix\n",
        "print(confusion_matrix(Y_test, model.predict(X_test)))"
      ],
      "execution_count": 24,
      "outputs": [
        {
          "output_type": "stream",
          "name": "stdout",
          "text": [
            "Pred                LAYING  SITTING  ...  WALKING_DOWNSTAIRS  WALKING_UPSTAIRS\n",
            "True                                 ...                                      \n",
            "LAYING                 537        0  ...                   0                 0\n",
            "SITTING                  0      379  ...                   0                 2\n",
            "STANDING                 0       92  ...                   0                 0\n",
            "WALKING                  0        1  ...                  27                 9\n",
            "WALKING_DOWNSTAIRS       0        0  ...                 409                 8\n",
            "WALKING_UPSTAIRS         0        0  ...                  44               377\n",
            "\n",
            "[6 rows x 6 columns]\n"
          ]
        }
      ]
    },
    {
      "cell_type": "code",
      "metadata": {
        "colab": {
          "base_uri": "https://localhost:8080/"
        },
        "id": "abaQWoY6jgUs",
        "outputId": "29fe1dad-5565-40cb-c8bd-5fa798220b0c"
      },
      "source": [
        "score = model.evaluate(X_test, Y_test)"
      ],
      "execution_count": 25,
      "outputs": [
        {
          "output_type": "stream",
          "name": "stdout",
          "text": [
            "93/93 [==============================] - 1s 11ms/step - loss: 0.3334 - accuracy: 0.8806\n"
          ]
        }
      ]
    },
    {
      "cell_type": "code",
      "metadata": {
        "colab": {
          "base_uri": "https://localhost:8080/"
        },
        "id": "8lvZ5ETijgOX",
        "outputId": "9f47437d-4a6f-44e1-a202-ea1cd1b7ec08"
      },
      "source": [
        "score"
      ],
      "execution_count": 26,
      "outputs": [
        {
          "output_type": "execute_result",
          "data": {
            "text/plain": [
              "[0.3334100842475891, 0.8805565237998962]"
            ]
          },
          "metadata": {},
          "execution_count": 26
        }
      ]
    },
    {
      "cell_type": "markdown",
      "metadata": {
        "id": "LcHhvmN-6kAV"
      },
      "source": [
        "#Model-4:\n",
        "- epoch = 30\n",
        "- n_hidden = 64 , 32\n",
        "- batch_size = 16\n",
        "- loss = 'categorical_crossentropy'\n",
        "- optimizer = 'Adam'\n",
        "- Adding One BAtch normalization."
      ]
    },
    {
      "cell_type": "code",
      "metadata": {
        "id": "QfXL5bLVPy63"
      },
      "source": [
        "# update LSTM layers\n",
        "n_hidden_1 = 64\n",
        "n_hidden_2 = 32"
      ],
      "execution_count": 27,
      "outputs": []
    },
    {
      "cell_type": "code",
      "metadata": {
        "colab": {
          "base_uri": "https://localhost:8080/"
        },
        "id": "QGYI1pSSPyzO",
        "outputId": "57800421-b883-4228-a41c-c2c3d437671b"
      },
      "source": [
        "# https://stackoverflow.com/questions/51763983/error-when-checking-target-expected-dense-1-to-have-3-dimensions-but-got-array\n",
        "# https://github.com/keras-team/keras/issues/7403\n",
        "# 1. You need to set return_sequences=True from first LSTM\n",
        "# 2. You need to set return_sequences=True from second LSTM\n",
        "# Initiliazing the sequential model\n",
        "model = Sequential()\n",
        "# Configuring the parameters\n",
        "model.add(LSTM(n_hidden_1, input_shape=(timesteps, input_dim), return_sequences=True))\n",
        "model.add(BatchNormalization())\n",
        "model.add(Dropout(0.5))\n",
        "# Configuring the parameters\n",
        "model.add(LSTM(n_hidden_2 , return_sequences=False))\n",
        "# Adding a dropout layer\n",
        "model.add(Dropout(0.5))\n",
        "# Adding a dense output layer with sigmoid activation\n",
        "model.add(Dense(n_classes, activation='sigmoid'))\n",
        "model.summary()"
      ],
      "execution_count": 28,
      "outputs": [
        {
          "output_type": "stream",
          "name": "stdout",
          "text": [
            "Model: \"sequential_2\"\n",
            "_________________________________________________________________\n",
            "Layer (type)                 Output Shape              Param #   \n",
            "=================================================================\n",
            "lstm_2 (LSTM)                (None, 128, 64)           18944     \n",
            "_________________________________________________________________\n",
            "batch_normalization_1 (Batch (None, 128, 64)           256       \n",
            "_________________________________________________________________\n",
            "dropout_1 (Dropout)          (None, 128, 64)           0         \n",
            "_________________________________________________________________\n",
            "lstm_3 (LSTM)                (None, 32)                12416     \n",
            "_________________________________________________________________\n",
            "dropout_2 (Dropout)          (None, 32)                0         \n",
            "_________________________________________________________________\n",
            "dense_1 (Dense)              (None, 6)                 198       \n",
            "=================================================================\n",
            "Total params: 31,814\n",
            "Trainable params: 31,686\n",
            "Non-trainable params: 128\n",
            "_________________________________________________________________\n"
          ]
        }
      ]
    },
    {
      "cell_type": "code",
      "metadata": {
        "id": "lflXFFR0POaU"
      },
      "source": [
        "from tensorflow.keras import optimizers\n",
        "model.compile(optimizer=optimizers.Adam(0.0005, decay=1e-6),loss='categorical_crossentropy',metrics=['accuracy'])"
      ],
      "execution_count": 29,
      "outputs": []
    },
    {
      "cell_type": "code",
      "metadata": {
        "colab": {
          "base_uri": "https://localhost:8080/"
        },
        "id": "6XuI8Q-PRNH4",
        "outputId": "5432fac0-7043-4090-bbe5-d589d7ccbf76"
      },
      "source": [
        "# Training the model\n",
        "model.fit(X_train,\n",
        "          Y_train,\n",
        "          batch_size=batch_size,\n",
        "          validation_data=(X_test, Y_test),\n",
        "          epochs=epochs)"
      ],
      "execution_count": 30,
      "outputs": [
        {
          "output_type": "stream",
          "name": "stdout",
          "text": [
            "Epoch 1/30\n",
            "115/115 [==============================] - 22s 163ms/step - loss: 1.1602 - accuracy: 0.5660 - val_loss: 1.3972 - val_accuracy: 0.3750\n",
            "Epoch 2/30\n",
            "115/115 [==============================] - 18s 156ms/step - loss: 0.7502 - accuracy: 0.7270 - val_loss: 0.8489 - val_accuracy: 0.6427\n",
            "Epoch 3/30\n",
            "115/115 [==============================] - 18s 156ms/step - loss: 0.5790 - accuracy: 0.7962 - val_loss: 0.9937 - val_accuracy: 0.6614\n",
            "Epoch 4/30\n",
            "115/115 [==============================] - 18s 154ms/step - loss: 0.4241 - accuracy: 0.8679 - val_loss: 0.5855 - val_accuracy: 0.8012\n",
            "Epoch 5/30\n",
            "115/115 [==============================] - 18s 155ms/step - loss: 0.3363 - accuracy: 0.9003 - val_loss: 0.6541 - val_accuracy: 0.7516\n",
            "Epoch 6/30\n",
            "115/115 [==============================] - 18s 155ms/step - loss: 0.2796 - accuracy: 0.9195 - val_loss: 0.3115 - val_accuracy: 0.9026\n",
            "Epoch 7/30\n",
            "115/115 [==============================] - 18s 153ms/step - loss: 0.2645 - accuracy: 0.9162 - val_loss: 0.5718 - val_accuracy: 0.7662\n",
            "Epoch 8/30\n",
            "115/115 [==============================] - 18s 154ms/step - loss: 0.2326 - accuracy: 0.9289 - val_loss: 0.8298 - val_accuracy: 0.7313\n",
            "Epoch 9/30\n",
            "115/115 [==============================] - 18s 154ms/step - loss: 0.2099 - accuracy: 0.9314 - val_loss: 0.2474 - val_accuracy: 0.9128\n",
            "Epoch 10/30\n",
            "115/115 [==============================] - 18s 156ms/step - loss: 0.1891 - accuracy: 0.9391 - val_loss: 0.2547 - val_accuracy: 0.9057\n",
            "Epoch 11/30\n",
            "115/115 [==============================] - 18s 154ms/step - loss: 0.1891 - accuracy: 0.9353 - val_loss: 0.3558 - val_accuracy: 0.8775\n",
            "Epoch 12/30\n",
            "115/115 [==============================] - 18s 155ms/step - loss: 0.1912 - accuracy: 0.9365 - val_loss: 0.3791 - val_accuracy: 0.8812\n",
            "Epoch 13/30\n",
            "115/115 [==============================] - 18s 154ms/step - loss: 0.1650 - accuracy: 0.9450 - val_loss: 0.2656 - val_accuracy: 0.9128\n",
            "Epoch 14/30\n",
            "115/115 [==============================] - 18s 153ms/step - loss: 0.1584 - accuracy: 0.9448 - val_loss: 0.2161 - val_accuracy: 0.9264\n",
            "Epoch 15/30\n",
            "115/115 [==============================] - 18s 156ms/step - loss: 0.1585 - accuracy: 0.9445 - val_loss: 0.2728 - val_accuracy: 0.9091\n",
            "Epoch 16/30\n",
            "115/115 [==============================] - 18s 155ms/step - loss: 0.1492 - accuracy: 0.9464 - val_loss: 0.2365 - val_accuracy: 0.9165\n",
            "Epoch 17/30\n",
            "115/115 [==============================] - 18s 154ms/step - loss: 0.1516 - accuracy: 0.9484 - val_loss: 0.2934 - val_accuracy: 0.9091\n",
            "Epoch 18/30\n",
            "115/115 [==============================] - 18s 154ms/step - loss: 0.1462 - accuracy: 0.9455 - val_loss: 0.2652 - val_accuracy: 0.9135\n",
            "Epoch 19/30\n",
            "115/115 [==============================] - 18s 154ms/step - loss: 0.1371 - accuracy: 0.9505 - val_loss: 0.2315 - val_accuracy: 0.9226\n",
            "Epoch 20/30\n",
            "115/115 [==============================] - 18s 154ms/step - loss: 0.1443 - accuracy: 0.9480 - val_loss: 0.2710 - val_accuracy: 0.9077\n",
            "Epoch 21/30\n",
            "115/115 [==============================] - 18s 154ms/step - loss: 0.1518 - accuracy: 0.9444 - val_loss: 0.2658 - val_accuracy: 0.9118\n",
            "Epoch 22/30\n",
            "115/115 [==============================] - 18s 155ms/step - loss: 0.1454 - accuracy: 0.9437 - val_loss: 0.2332 - val_accuracy: 0.9084\n",
            "Epoch 23/30\n",
            "115/115 [==============================] - 18s 155ms/step - loss: 0.1572 - accuracy: 0.9416 - val_loss: 0.2898 - val_accuracy: 0.9046\n",
            "Epoch 24/30\n",
            "115/115 [==============================] - 18s 155ms/step - loss: 0.1407 - accuracy: 0.9494 - val_loss: 0.2283 - val_accuracy: 0.9311\n",
            "Epoch 25/30\n",
            "115/115 [==============================] - 18s 155ms/step - loss: 0.1331 - accuracy: 0.9520 - val_loss: 0.2507 - val_accuracy: 0.9247\n",
            "Epoch 26/30\n",
            "115/115 [==============================] - 18s 156ms/step - loss: 0.1425 - accuracy: 0.9459 - val_loss: 0.3058 - val_accuracy: 0.9192\n",
            "Epoch 27/30\n",
            "115/115 [==============================] - 18s 157ms/step - loss: 0.1328 - accuracy: 0.9494 - val_loss: 0.3605 - val_accuracy: 0.8860\n",
            "Epoch 28/30\n",
            "115/115 [==============================] - 18s 154ms/step - loss: 0.1313 - accuracy: 0.9508 - val_loss: 0.2611 - val_accuracy: 0.9196\n",
            "Epoch 29/30\n",
            "115/115 [==============================] - 18s 154ms/step - loss: 0.1316 - accuracy: 0.9471 - val_loss: 0.2853 - val_accuracy: 0.9226\n",
            "Epoch 30/30\n",
            "115/115 [==============================] - 18s 153ms/step - loss: 0.1271 - accuracy: 0.9497 - val_loss: 0.2440 - val_accuracy: 0.9131\n"
          ]
        },
        {
          "output_type": "execute_result",
          "data": {
            "text/plain": [
              "<keras.callbacks.History at 0x7febd8fbfad0>"
            ]
          },
          "metadata": {},
          "execution_count": 30
        }
      ]
    },
    {
      "cell_type": "code",
      "metadata": {
        "colab": {
          "base_uri": "https://localhost:8080/"
        },
        "id": "nPuMDxFbReEI",
        "outputId": "3b7a13f4-cc21-4f2c-de87-76e5946fc92c"
      },
      "source": [
        "# Confusion Matrix\n",
        "print(confusion_matrix(Y_test, model.predict(X_test)))"
      ],
      "execution_count": 31,
      "outputs": [
        {
          "output_type": "stream",
          "name": "stdout",
          "text": [
            "Pred                LAYING  SITTING  ...  WALKING_DOWNSTAIRS  WALKING_UPSTAIRS\n",
            "True                                 ...                                      \n",
            "LAYING                 537        0  ...                   0                 0\n",
            "SITTING                  5      422  ...                   0                21\n",
            "STANDING                 0      150  ...                   0                 0\n",
            "WALKING                  0        0  ...                  14                 3\n",
            "WALKING_DOWNSTAIRS       0        0  ...                 420                 0\n",
            "WALKING_UPSTAIRS         0        0  ...                  19               451\n",
            "\n",
            "[6 rows x 6 columns]\n"
          ]
        }
      ]
    },
    {
      "cell_type": "code",
      "metadata": {
        "colab": {
          "base_uri": "https://localhost:8080/"
        },
        "id": "N99qDllqRfVA",
        "outputId": "40e0ac22-2854-4f7e-f958-72cabf5a15e1"
      },
      "source": [
        "score = model.evaluate(X_test, Y_test)"
      ],
      "execution_count": 32,
      "outputs": [
        {
          "output_type": "stream",
          "name": "stdout",
          "text": [
            "93/93 [==============================] - 2s 25ms/step - loss: 0.2440 - accuracy: 0.9131\n"
          ]
        }
      ]
    },
    {
      "cell_type": "code",
      "metadata": {
        "colab": {
          "base_uri": "https://localhost:8080/"
        },
        "id": "HQEXExK8RfAS",
        "outputId": "ee895811-34dd-439a-8c80-fb0660c9863e"
      },
      "source": [
        "score"
      ],
      "execution_count": 33,
      "outputs": [
        {
          "output_type": "execute_result",
          "data": {
            "text/plain": [
              "[0.24404112994670868, 0.9131320118904114]"
            ]
          },
          "metadata": {},
          "execution_count": 33
        }
      ]
    },
    {
      "cell_type": "markdown",
      "metadata": {
        "id": "XhEMUt9F6yz-"
      },
      "source": [
        "#Model-5:\n",
        "- epoch = 30\n",
        "- n_hidden = 32 , 16\n",
        "- batch_size = 16\n",
        "- loss = 'categorical_crossentropy'\n",
        "- optimizer = 'rmsprop'"
      ]
    },
    {
      "cell_type": "code",
      "metadata": {
        "id": "eJVI007aRewG"
      },
      "source": [
        "# update LSTM layers\n",
        "n_hidden_1 = 32\n",
        "n_hidden_2 = 16\n",
        "batch_size = 16"
      ],
      "execution_count": null,
      "outputs": []
    },
    {
      "cell_type": "code",
      "metadata": {
        "colab": {
          "base_uri": "https://localhost:8080/"
        },
        "id": "Eq6jwbURRtE4",
        "outputId": "5dd714c5-1f92-4401-e8e3-be5cef73d4d5"
      },
      "source": [
        "# https://stackoverflow.com/questions/51763983/error-when-checking-target-expected-dense-1-to-have-3-dimensions-but-got-array\n",
        "# https://github.com/keras-team/keras/issues/7403\n",
        "# 1. You need to set return_sequences=True from first LSTM\n",
        "# 2. You need to set return_sequences=True from second LSTM\n",
        "# Initiliazing the sequential model\n",
        "model = Sequential()\n",
        "# Configuring the parameters\n",
        "model.add(LSTM(n_hidden_1, input_shape=(timesteps, input_dim), return_sequences=True))\n",
        "model.add(Dropout(0.5))\n",
        "# Configuring the parameters\n",
        "model.add(LSTM(n_hidden_2 , return_sequences=False))\n",
        "# Adding a dropout layer\n",
        "model.add(Dropout(0.5))\n",
        "# Adding a dense output layer with sigmoid activation\n",
        "model.add(Dense(n_classes, activation='sigmoid'))\n",
        "model.summary()"
      ],
      "execution_count": null,
      "outputs": [
        {
          "output_type": "stream",
          "name": "stdout",
          "text": [
            "Model: \"sequential_21\"\n",
            "_________________________________________________________________\n",
            "Layer (type)                 Output Shape              Param #   \n",
            "=================================================================\n",
            "lstm_28 (LSTM)               (None, 128, 32)           5376      \n",
            "_________________________________________________________________\n",
            "dropout_25 (Dropout)         (None, 128, 32)           0         \n",
            "_________________________________________________________________\n",
            "lstm_29 (LSTM)               (None, 16)                3136      \n",
            "_________________________________________________________________\n",
            "dropout_26 (Dropout)         (None, 16)                0         \n",
            "_________________________________________________________________\n",
            "dense_19 (Dense)             (None, 6)                 102       \n",
            "=================================================================\n",
            "Total params: 8,614\n",
            "Trainable params: 8,614\n",
            "Non-trainable params: 0\n",
            "_________________________________________________________________\n"
          ]
        }
      ]
    },
    {
      "cell_type": "code",
      "metadata": {
        "id": "lFwzAo-oRxf4"
      },
      "source": [
        "# Compiling the model\n",
        "model.compile(loss='categorical_crossentropy',\n",
        "              optimizer='Adam',\n",
        "              metrics=['accuracy'])"
      ],
      "execution_count": null,
      "outputs": []
    },
    {
      "cell_type": "code",
      "metadata": {
        "colab": {
          "base_uri": "https://localhost:8080/"
        },
        "id": "VogNmYzuRxUn",
        "outputId": "65965acf-a125-4ea0-c01c-199fea421195"
      },
      "source": [
        "# Training the model\n",
        "model.fit(X_train,\n",
        "          Y_train,\n",
        "          batch_size=batch_size,\n",
        "          validation_data=(X_test, Y_test),\n",
        "          epochs=epochs)"
      ],
      "execution_count": null,
      "outputs": [
        {
          "output_type": "stream",
          "name": "stdout",
          "text": [
            "Epoch 1/20\n",
            "460/460 [==============================] - 45s 91ms/step - loss: 1.1488 - accuracy: 0.5291 - val_loss: 0.8136 - val_accuracy: 0.6770\n",
            "Epoch 2/20\n",
            "460/460 [==============================] - 40s 88ms/step - loss: 0.7547 - accuracy: 0.7008 - val_loss: 0.6168 - val_accuracy: 0.7455\n",
            "Epoch 3/20\n",
            "460/460 [==============================] - 41s 88ms/step - loss: 0.5811 - accuracy: 0.8051 - val_loss: 0.4739 - val_accuracy: 0.8507\n",
            "Epoch 4/20\n",
            "460/460 [==============================] - 41s 89ms/step - loss: 0.4186 - accuracy: 0.8740 - val_loss: 0.4401 - val_accuracy: 0.8772\n",
            "Epoch 5/20\n",
            "460/460 [==============================] - 41s 89ms/step - loss: 0.3902 - accuracy: 0.8779 - val_loss: 0.5750 - val_accuracy: 0.7574\n",
            "Epoch 6/20\n",
            "460/460 [==============================] - 41s 89ms/step - loss: 0.4751 - accuracy: 0.8126 - val_loss: 0.4390 - val_accuracy: 0.8633\n",
            "Epoch 7/20\n",
            "460/460 [==============================] - 40s 88ms/step - loss: 0.3983 - accuracy: 0.8883 - val_loss: 0.7133 - val_accuracy: 0.7720\n",
            "Epoch 8/20\n",
            "460/460 [==============================] - 41s 89ms/step - loss: 0.6151 - accuracy: 0.7996 - val_loss: 0.6393 - val_accuracy: 0.7441\n",
            "Epoch 9/20\n",
            "460/460 [==============================] - 41s 89ms/step - loss: 0.4676 - accuracy: 0.8229 - val_loss: 0.4247 - val_accuracy: 0.8873\n",
            "Epoch 10/20\n",
            "460/460 [==============================] - 41s 89ms/step - loss: 0.3430 - accuracy: 0.8803 - val_loss: 0.3347 - val_accuracy: 0.8992\n",
            "Epoch 11/20\n",
            "460/460 [==============================] - 41s 89ms/step - loss: 0.3001 - accuracy: 0.9014 - val_loss: 0.2866 - val_accuracy: 0.9040\n",
            "Epoch 12/20\n",
            "460/460 [==============================] - 41s 88ms/step - loss: 0.2723 - accuracy: 0.9123 - val_loss: 0.2825 - val_accuracy: 0.9009\n",
            "Epoch 13/20\n",
            "460/460 [==============================] - 41s 89ms/step - loss: 0.2625 - accuracy: 0.9166 - val_loss: 0.3317 - val_accuracy: 0.8924\n",
            "Epoch 14/20\n",
            "460/460 [==============================] - 41s 89ms/step - loss: 0.2154 - accuracy: 0.9278 - val_loss: 0.3007 - val_accuracy: 0.8948\n",
            "Epoch 15/20\n",
            "460/460 [==============================] - 41s 89ms/step - loss: 0.2293 - accuracy: 0.9219 - val_loss: 0.2838 - val_accuracy: 0.9033\n",
            "Epoch 16/20\n",
            "460/460 [==============================] - 41s 89ms/step - loss: 0.2099 - accuracy: 0.9339 - val_loss: 0.3029 - val_accuracy: 0.9070\n",
            "Epoch 17/20\n",
            "460/460 [==============================] - 41s 89ms/step - loss: 0.2206 - accuracy: 0.9271 - val_loss: 0.2842 - val_accuracy: 0.9067\n",
            "Epoch 18/20\n",
            "460/460 [==============================] - 41s 89ms/step - loss: 0.2457 - accuracy: 0.9207 - val_loss: 0.2818 - val_accuracy: 0.9053\n",
            "Epoch 19/20\n",
            "460/460 [==============================] - 41s 89ms/step - loss: 0.1861 - accuracy: 0.9392 - val_loss: 0.3306 - val_accuracy: 0.9084\n",
            "Epoch 20/20\n",
            "460/460 [==============================] - 41s 89ms/step - loss: 0.1938 - accuracy: 0.9408 - val_loss: 0.2809 - val_accuracy: 0.9121\n"
          ]
        },
        {
          "output_type": "execute_result",
          "data": {
            "text/plain": [
              "<keras.callbacks.History at 0x7f5266fdc810>"
            ]
          },
          "metadata": {},
          "execution_count": 137
        }
      ]
    },
    {
      "cell_type": "code",
      "metadata": {
        "colab": {
          "base_uri": "https://localhost:8080/"
        },
        "id": "t9aoaGJ0RxN3",
        "outputId": "7e4da1e4-81c3-4623-ed69-e9e12c00d669"
      },
      "source": [
        "# Confusion Matrix\n",
        "print(confusion_matrix(Y_test, model.predict(X_test)))"
      ],
      "execution_count": null,
      "outputs": [
        {
          "output_type": "stream",
          "name": "stdout",
          "text": [
            "Pred                LAYING  SITTING  ...  WALKING_DOWNSTAIRS  WALKING_UPSTAIRS\n",
            "True                                 ...                                      \n",
            "LAYING                 537        0  ...                   0                 0\n",
            "SITTING                  0      418  ...                   0                10\n",
            "STANDING                 0      120  ...                   0                 0\n",
            "WALKING                  0        0  ...                  23                17\n",
            "WALKING_DOWNSTAIRS       0        0  ...                 418                 1\n",
            "WALKING_UPSTAIRS         0        0  ...                  12               447\n",
            "\n",
            "[6 rows x 6 columns]\n"
          ]
        }
      ]
    },
    {
      "cell_type": "code",
      "metadata": {
        "colab": {
          "base_uri": "https://localhost:8080/"
        },
        "id": "Ws2TW2OZR60F",
        "outputId": "6b6490cf-4563-4136-a9c9-dc481db2f386"
      },
      "source": [
        "score = model.evaluate(X_test, Y_test)"
      ],
      "execution_count": null,
      "outputs": [
        {
          "output_type": "stream",
          "name": "stdout",
          "text": [
            "93/93 [==============================] - 2s 20ms/step - loss: 0.2809 - accuracy: 0.9121\n"
          ]
        }
      ]
    },
    {
      "cell_type": "code",
      "metadata": {
        "colab": {
          "base_uri": "https://localhost:8080/"
        },
        "id": "Lxbr2QcUR6mV",
        "outputId": "18826bf6-cc52-454f-b482-478fc94ba2fa"
      },
      "source": [
        "score"
      ],
      "execution_count": null,
      "outputs": [
        {
          "output_type": "execute_result",
          "data": {
            "text/plain": [
              "[0.28092312812805176, 0.9121140241622925]"
            ]
          },
          "metadata": {},
          "execution_count": 140
        }
      ]
    },
    {
      "cell_type": "markdown",
      "metadata": {
        "id": "DcNuxodh66I4"
      },
      "source": [
        "#Model-6:\n",
        "- epoch = 20\n",
        "- n_hidden = 128 , 64\n",
        "- batch_size = 256\n",
        "- loss = 'categorical_crossentropy'\n",
        "- optimizer = 'Adam'"
      ]
    },
    {
      "cell_type": "code",
      "metadata": {
        "id": "J5JPrccJR6fA"
      },
      "source": [
        "# update LSTM layers\n",
        "n_hidden_1 = 128\n",
        "n_hidden_2 = 64\n",
        "batch_size = 256"
      ],
      "execution_count": null,
      "outputs": []
    },
    {
      "cell_type": "code",
      "metadata": {
        "id": "kbeXOZr3R6XL",
        "colab": {
          "base_uri": "https://localhost:8080/"
        },
        "outputId": "f870f6e0-3b45-45c8-dad6-f93db7847d2d"
      },
      "source": [
        "# https://stackoverflow.com/questions/51763983/error-when-checking-target-expected-dense-1-to-have-3-dimensions-but-got-array\n",
        "# https://github.com/keras-team/keras/issues/7403\n",
        "# 1. You need to set return_sequences=True from first LSTM\n",
        "# 2. You need to set return_sequences=True from second LSTM\n",
        "# Initiliazing the sequential model\n",
        "model = Sequential()\n",
        "# Configuring the parameters\n",
        "model.add(LSTM(n_hidden_1, input_shape=(timesteps, input_dim), return_sequences=True))\n",
        "# Adding a dropout layer\n",
        "model.add(Dropout(0.6))\n",
        "# Configuring the parameters\n",
        "model.add(LSTM(n_hidden_2 , return_sequences=False))\n",
        "# Adding a dropout layer\n",
        "model.add(Dropout(0.5))\n",
        "# Adding a dense output layer with sigmoid activation\n",
        "model.add(Dense(n_classes, activation='sigmoid'))\n",
        "model.summary()"
      ],
      "execution_count": null,
      "outputs": [
        {
          "output_type": "stream",
          "name": "stdout",
          "text": [
            "Model: \"sequential_1\"\n",
            "_________________________________________________________________\n",
            "Layer (type)                 Output Shape              Param #   \n",
            "=================================================================\n",
            "lstm_2 (LSTM)                (None, 128, 128)          70656     \n",
            "_________________________________________________________________\n",
            "dropout_2 (Dropout)          (None, 128, 128)          0         \n",
            "_________________________________________________________________\n",
            "lstm_3 (LSTM)                (None, 64)                49408     \n",
            "_________________________________________________________________\n",
            "dropout_3 (Dropout)          (None, 64)                0         \n",
            "_________________________________________________________________\n",
            "dense_1 (Dense)              (None, 6)                 390       \n",
            "=================================================================\n",
            "Total params: 120,454\n",
            "Trainable params: 120,454\n",
            "Non-trainable params: 0\n",
            "_________________________________________________________________\n"
          ]
        }
      ]
    },
    {
      "cell_type": "code",
      "metadata": {
        "id": "nqyU_-lPSKb6"
      },
      "source": [
        "# Compiling the model\n",
        "model.compile(loss='categorical_crossentropy',\n",
        "              optimizer='Adam',\n",
        "              metrics=['accuracy'])"
      ],
      "execution_count": null,
      "outputs": []
    },
    {
      "cell_type": "code",
      "metadata": {
        "id": "hS6qB2y1SKPZ",
        "colab": {
          "base_uri": "https://localhost:8080/"
        },
        "outputId": "ebc110d2-a8ec-4040-da06-f49de3a47ef3"
      },
      "source": [
        "# Training the model\n",
        "model.fit(X_train,\n",
        "          Y_train,\n",
        "          batch_size=batch_size,\n",
        "          validation_data=(X_test, Y_test),\n",
        "          epochs=20)"
      ],
      "execution_count": null,
      "outputs": [
        {
          "output_type": "stream",
          "name": "stdout",
          "text": [
            "Epoch 1/20\n",
            "29/29 [==============================] - 32s 968ms/step - loss: 1.3332 - accuracy: 0.4389 - val_loss: 1.1228 - val_accuracy: 0.5049\n",
            "Epoch 2/20\n",
            "29/29 [==============================] - 27s 932ms/step - loss: 0.9321 - accuracy: 0.6151 - val_loss: 0.8980 - val_accuracy: 0.6518\n",
            "Epoch 3/20\n",
            "29/29 [==============================] - 27s 934ms/step - loss: 0.7369 - accuracy: 0.7029 - val_loss: 0.7856 - val_accuracy: 0.6922\n",
            "Epoch 4/20\n",
            "29/29 [==============================] - 27s 928ms/step - loss: 0.6291 - accuracy: 0.7410 - val_loss: 0.7045 - val_accuracy: 0.7241\n",
            "Epoch 5/20\n",
            "29/29 [==============================] - 27s 940ms/step - loss: 0.4991 - accuracy: 0.8063 - val_loss: 0.5856 - val_accuracy: 0.7886\n",
            "Epoch 6/20\n",
            "29/29 [==============================] - 27s 940ms/step - loss: 0.4101 - accuracy: 0.8572 - val_loss: 0.5417 - val_accuracy: 0.8219\n",
            "Epoch 7/20\n",
            "29/29 [==============================] - 27s 947ms/step - loss: 0.3042 - accuracy: 0.9008 - val_loss: 0.5951 - val_accuracy: 0.8239\n",
            "Epoch 8/20\n",
            "29/29 [==============================] - 27s 942ms/step - loss: 0.2509 - accuracy: 0.9172 - val_loss: 0.4398 - val_accuracy: 0.8704\n",
            "Epoch 9/20\n",
            "29/29 [==============================] - 27s 941ms/step - loss: 0.3856 - accuracy: 0.8779 - val_loss: 0.4069 - val_accuracy: 0.8670\n",
            "Epoch 10/20\n",
            "29/29 [==============================] - 27s 944ms/step - loss: 0.2327 - accuracy: 0.9246 - val_loss: 0.4096 - val_accuracy: 0.8782\n",
            "Epoch 11/20\n",
            "29/29 [==============================] - 27s 942ms/step - loss: 0.1760 - accuracy: 0.9377 - val_loss: 0.4161 - val_accuracy: 0.8785\n",
            "Epoch 12/20\n",
            "29/29 [==============================] - 27s 951ms/step - loss: 0.1669 - accuracy: 0.9433 - val_loss: 0.3837 - val_accuracy: 0.8799\n",
            "Epoch 13/20\n",
            "29/29 [==============================] - 27s 947ms/step - loss: 0.1671 - accuracy: 0.9427 - val_loss: 0.4031 - val_accuracy: 0.8789\n",
            "Epoch 14/20\n",
            "29/29 [==============================] - 27s 948ms/step - loss: 0.1708 - accuracy: 0.9378 - val_loss: 0.4046 - val_accuracy: 0.8846\n",
            "Epoch 15/20\n",
            "29/29 [==============================] - 27s 940ms/step - loss: 0.2924 - accuracy: 0.9098 - val_loss: 0.4449 - val_accuracy: 0.8398\n",
            "Epoch 16/20\n",
            "29/29 [==============================] - 27s 943ms/step - loss: 0.2174 - accuracy: 0.9266 - val_loss: 0.3948 - val_accuracy: 0.9002\n",
            "Epoch 17/20\n",
            "29/29 [==============================] - 27s 940ms/step - loss: 0.1889 - accuracy: 0.9411 - val_loss: 0.3390 - val_accuracy: 0.8996\n",
            "Epoch 18/20\n",
            "29/29 [==============================] - 27s 941ms/step - loss: 0.1794 - accuracy: 0.9395 - val_loss: 0.3208 - val_accuracy: 0.9043\n",
            "Epoch 19/20\n",
            "29/29 [==============================] - 27s 944ms/step - loss: 0.1671 - accuracy: 0.9436 - val_loss: 0.2995 - val_accuracy: 0.9152\n",
            "Epoch 20/20\n",
            "29/29 [==============================] - 27s 943ms/step - loss: 0.1649 - accuracy: 0.9415 - val_loss: 0.2949 - val_accuracy: 0.9108\n"
          ]
        },
        {
          "output_type": "execute_result",
          "data": {
            "text/plain": [
              "<keras.callbacks.History at 0x7f527de2df50>"
            ]
          },
          "metadata": {},
          "execution_count": 28
        }
      ]
    },
    {
      "cell_type": "code",
      "metadata": {
        "id": "4A4tOv4RSKGu",
        "colab": {
          "base_uri": "https://localhost:8080/"
        },
        "outputId": "971d8aed-c277-4d7a-f47f-e209b18419fd"
      },
      "source": [
        "# Confusion Matrix\n",
        "print(confusion_matrix(Y_test, model.predict(X_test)))"
      ],
      "execution_count": null,
      "outputs": [
        {
          "output_type": "stream",
          "name": "stdout",
          "text": [
            "Pred                LAYING  SITTING  ...  WALKING_DOWNSTAIRS  WALKING_UPSTAIRS\n",
            "True                                 ...                                      \n",
            "LAYING                 537        0  ...                   0                 0\n",
            "SITTING                  2      368  ...                   0                 2\n",
            "STANDING                 0       63  ...                   0                 1\n",
            "WALKING                  0        0  ...                  28                 3\n",
            "WALKING_DOWNSTAIRS       0        0  ...                 410                 1\n",
            "WALKING_UPSTAIRS         0        0  ...                  17               437\n",
            "\n",
            "[6 rows x 6 columns]\n"
          ]
        }
      ]
    },
    {
      "cell_type": "code",
      "metadata": {
        "id": "2eQWy8OySSUx",
        "colab": {
          "base_uri": "https://localhost:8080/"
        },
        "outputId": "89865a84-b678-4eab-e991-b4f2b8cf7478"
      },
      "source": [
        "score = model.evaluate(X_test, Y_test)"
      ],
      "execution_count": null,
      "outputs": [
        {
          "output_type": "stream",
          "name": "stdout",
          "text": [
            "93/93 [==============================] - 5s 58ms/step - loss: 0.2949 - accuracy: 0.9108\n"
          ]
        }
      ]
    },
    {
      "cell_type": "code",
      "metadata": {
        "id": "ruuHS263SSNm",
        "colab": {
          "base_uri": "https://localhost:8080/"
        },
        "outputId": "2a6cb2c9-e5ed-47d3-e12b-093021172604"
      },
      "source": [
        "score"
      ],
      "execution_count": null,
      "outputs": [
        {
          "output_type": "execute_result",
          "data": {
            "text/plain": [
              "[0.2948751449584961, 0.9107567071914673]"
            ]
          },
          "metadata": {},
          "execution_count": 31
        }
      ]
    },
    {
      "cell_type": "markdown",
      "metadata": {
        "id": "3TpyLHpU-UTH"
      },
      "source": [
        "#Model-7:\n",
        "- epoch = 20\n",
        "- n_hidden = 512 , 256 \n",
        "- batch_size = 512\n",
        "- loss = 'categorical_crossentropy'\n",
        "- optimizer = 'Adam'"
      ]
    },
    {
      "cell_type": "code",
      "metadata": {
        "id": "R7rWeoOXSR33"
      },
      "source": [
        "# update LSTM layers\n",
        "n_hidden_1 = 512\n",
        "n_hidden_2 = 256\n",
        "batch_size = 512"
      ],
      "execution_count": null,
      "outputs": []
    },
    {
      "cell_type": "code",
      "metadata": {
        "id": "Kud98kejSJ-q",
        "colab": {
          "base_uri": "https://localhost:8080/"
        },
        "outputId": "ba301f89-9cdc-4129-962a-b0ad32ee613a"
      },
      "source": [
        "# https://stackoverflow.com/questions/51763983/error-when-checking-target-expected-dense-1-to-have-3-dimensions-but-got-array\n",
        "# https://github.com/keras-team/keras/issues/7403\n",
        "# 1. You need to set return_sequences=True from first LSTM\n",
        "# 2. You need to set return_sequences=True from second LSTM\n",
        "# Initiliazing the sequential model\n",
        "model = Sequential()\n",
        "# Configuring the parameters\n",
        "model.add(LSTM(n_hidden_1, input_shape=(timesteps, input_dim), return_sequences=True))\n",
        "# Adding a dropout layer\n",
        "model.add(Dropout(0.6))\n",
        "# Configuring the parameters\n",
        "model.add(LSTM(n_hidden_2 , return_sequences=False))\n",
        "# Adding a dropout layer\n",
        "model.add(Dropout(0.5))\n",
        "# Adding a dense output layer with sigmoid activation\n",
        "model.add(Dense(n_classes, activation='sigmoid'))\n",
        "model.summary()"
      ],
      "execution_count": null,
      "outputs": [
        {
          "output_type": "stream",
          "name": "stdout",
          "text": [
            "Model: \"sequential_3\"\n",
            "_________________________________________________________________\n",
            "Layer (type)                 Output Shape              Param #   \n",
            "=================================================================\n",
            "lstm_7 (LSTM)                (None, 128, 512)          1069056   \n",
            "_________________________________________________________________\n",
            "dropout_6 (Dropout)          (None, 128, 512)          0         \n",
            "_________________________________________________________________\n",
            "lstm_8 (LSTM)                (None, 256)               787456    \n",
            "_________________________________________________________________\n",
            "dropout_7 (Dropout)          (None, 256)               0         \n",
            "_________________________________________________________________\n",
            "dense_2 (Dense)              (None, 6)                 1542      \n",
            "=================================================================\n",
            "Total params: 1,858,054\n",
            "Trainable params: 1,858,054\n",
            "Non-trainable params: 0\n",
            "_________________________________________________________________\n"
          ]
        }
      ]
    },
    {
      "cell_type": "code",
      "metadata": {
        "id": "i68Du6SX--Ui"
      },
      "source": [
        "# Compiling the model\n",
        "model.compile(loss='categorical_crossentropy',\n",
        "              optimizer='Adam',\n",
        "              metrics=['accuracy'])"
      ],
      "execution_count": null,
      "outputs": []
    },
    {
      "cell_type": "code",
      "metadata": {
        "colab": {
          "base_uri": "https://localhost:8080/"
        },
        "id": "5NTCJduu_XYG",
        "outputId": "0a4a4cd8-8be3-4e91-b831-462261582fab"
      },
      "source": [
        "# Training the model\n",
        "model.fit(X_train,\n",
        "          Y_train,\n",
        "          batch_size=batch_size,\n",
        "          validation_data=(X_test, Y_test),\n",
        "          epochs=20)"
      ],
      "execution_count": null,
      "outputs": [
        {
          "output_type": "stream",
          "name": "stdout",
          "text": [
            "Epoch 1/20\n",
            "15/15 [==============================] - 264s 17s/step - loss: 1.3032 - accuracy: 0.4433 - val_loss: 1.1563 - val_accuracy: 0.5066\n",
            "Epoch 2/20\n",
            "15/15 [==============================] - 260s 17s/step - loss: 1.1422 - accuracy: 0.5356 - val_loss: 0.9419 - val_accuracy: 0.6166\n",
            "Epoch 3/20\n",
            "15/15 [==============================] - 260s 17s/step - loss: 0.8882 - accuracy: 0.6328 - val_loss: 0.8513 - val_accuracy: 0.6237\n",
            "Epoch 4/20\n",
            "15/15 [==============================] - 259s 17s/step - loss: 0.7096 - accuracy: 0.7100 - val_loss: 1.0001 - val_accuracy: 0.6481\n",
            "Epoch 5/20\n",
            "15/15 [==============================] - 258s 17s/step - loss: 0.6903 - accuracy: 0.7243 - val_loss: 0.6605 - val_accuracy: 0.7428\n",
            "Epoch 6/20\n",
            "15/15 [==============================] - 259s 17s/step - loss: 0.5911 - accuracy: 0.7504 - val_loss: 0.7099 - val_accuracy: 0.7139\n",
            "Epoch 7/20\n",
            "15/15 [==============================] - 260s 17s/step - loss: 0.7002 - accuracy: 0.7320 - val_loss: 0.6773 - val_accuracy: 0.7136\n",
            "Epoch 8/20\n",
            "15/15 [==============================] - 260s 17s/step - loss: 0.5367 - accuracy: 0.8003 - val_loss: 0.5869 - val_accuracy: 0.7950\n",
            "Epoch 9/20\n",
            "15/15 [==============================] - 260s 17s/step - loss: 0.3850 - accuracy: 0.8660 - val_loss: 0.5033 - val_accuracy: 0.8008\n",
            "Epoch 10/20\n",
            "15/15 [==============================] - 260s 17s/step - loss: 0.2769 - accuracy: 0.9074 - val_loss: 0.5491 - val_accuracy: 0.8364\n",
            "Epoch 11/20\n",
            "15/15 [==============================] - 259s 17s/step - loss: 0.2357 - accuracy: 0.9211 - val_loss: 0.5335 - val_accuracy: 0.8303\n",
            "Epoch 12/20\n",
            "15/15 [==============================] - 260s 17s/step - loss: 0.2719 - accuracy: 0.9098 - val_loss: 0.6592 - val_accuracy: 0.7889\n",
            "Epoch 13/20\n",
            "15/15 [==============================] - 260s 17s/step - loss: 0.2569 - accuracy: 0.9067 - val_loss: 0.5292 - val_accuracy: 0.8490\n",
            "Epoch 14/20\n",
            "15/15 [==============================] - 259s 17s/step - loss: 0.3408 - accuracy: 0.8908 - val_loss: 0.4011 - val_accuracy: 0.8585\n",
            "Epoch 15/20\n",
            "15/15 [==============================] - 260s 17s/step - loss: 0.2211 - accuracy: 0.9237 - val_loss: 0.2814 - val_accuracy: 0.9013\n",
            "Epoch 16/20\n",
            "15/15 [==============================] - 260s 17s/step - loss: 0.1764 - accuracy: 0.9342 - val_loss: 0.7547 - val_accuracy: 0.7618\n",
            "Epoch 17/20\n",
            "15/15 [==============================] - 260s 17s/step - loss: 0.2217 - accuracy: 0.9226 - val_loss: 0.4025 - val_accuracy: 0.8531\n",
            "Epoch 18/20\n",
            "15/15 [==============================] - 260s 17s/step - loss: 0.1781 - accuracy: 0.9317 - val_loss: 0.3340 - val_accuracy: 0.8901\n",
            "Epoch 19/20\n",
            "15/15 [==============================] - 260s 17s/step - loss: 0.1630 - accuracy: 0.9374 - val_loss: 0.3126 - val_accuracy: 0.8928\n",
            "Epoch 20/20\n",
            "15/15 [==============================] - 259s 17s/step - loss: 0.1545 - accuracy: 0.9392 - val_loss: 0.3825 - val_accuracy: 0.8914\n"
          ]
        },
        {
          "output_type": "execute_result",
          "data": {
            "text/plain": [
              "<keras.callbacks.History at 0x7f527d53c750>"
            ]
          },
          "metadata": {},
          "execution_count": 37
        }
      ]
    },
    {
      "cell_type": "code",
      "metadata": {
        "colab": {
          "base_uri": "https://localhost:8080/"
        },
        "id": "3ma8EW9r_gJ2",
        "outputId": "06ef9055-a6e2-46f2-e5a6-1b31eee0081b"
      },
      "source": [
        "# Confusion Matrix\n",
        "print(confusion_matrix(Y_test, model.predict(X_test)))"
      ],
      "execution_count": null,
      "outputs": [
        {
          "output_type": "stream",
          "name": "stdout",
          "text": [
            "Pred                LAYING  SITTING  ...  WALKING_DOWNSTAIRS  WALKING_UPSTAIRS\n",
            "True                                 ...                                      \n",
            "LAYING                 510        0  ...                   0                27\n",
            "SITTING                  0      363  ...                   0                24\n",
            "STANDING                 0       62  ...                   0                 1\n",
            "WALKING                  0        0  ...                   0                46\n",
            "WALKING_DOWNSTAIRS       0        0  ...                 393                27\n",
            "WALKING_UPSTAIRS         0        0  ...                  21               446\n",
            "\n",
            "[6 rows x 6 columns]\n"
          ]
        }
      ]
    },
    {
      "cell_type": "code",
      "metadata": {
        "colab": {
          "base_uri": "https://localhost:8080/"
        },
        "id": "FgFFBwWrAkEt",
        "outputId": "d60b58a8-a981-486d-f980-83563a100f26"
      },
      "source": [
        "score = model.evaluate(X_test, Y_test)"
      ],
      "execution_count": null,
      "outputs": [
        {
          "output_type": "stream",
          "name": "stdout",
          "text": [
            "93/93 [==============================] - 41s 441ms/step - loss: 0.3825 - accuracy: 0.8914\n"
          ]
        }
      ]
    },
    {
      "cell_type": "markdown",
      "metadata": {
        "id": "6BaOfpyw0jZr"
      },
      "source": [
        "#Model-8:\n",
        "- epoch = 30\n",
        "- n_hidden = 128 \n",
        "- batch_size = 16\n",
        "- loss = 'categorical_crossentropy'\n",
        "- optimizer = 'rmsprop'\n",
        "- Here we are using batch normalization layer"
      ]
    },
    {
      "cell_type": "code",
      "metadata": {
        "id": "G-Re54s6t6P8"
      },
      "source": [
        "n_hidden_1 = 128\n",
        "batch_size = 16\n",
        "epoch = 30"
      ],
      "execution_count": null,
      "outputs": []
    },
    {
      "cell_type": "code",
      "metadata": {
        "colab": {
          "base_uri": "https://localhost:8080/"
        },
        "id": "L0WpsIEDuVI_",
        "outputId": "70b3ea02-89dd-4983-bfb8-a76fb155d7ad"
      },
      "source": [
        "from tensorflow.keras.layers import Input, Embedding, LSTM, Dropout, BatchNormalization\n",
        "# https://stackoverflow.com/questions/51763983/error-when-checking-target-expected-dense-1-to-have-3-dimensions-but-got-array\n",
        "# https://github.com/keras-team/keras/issues/7403\n",
        "# Initiliazing the sequential model\n",
        "model = Sequential()\n",
        "# Configuring the parameters\n",
        "model.add(LSTM(n_hidden_1, input_shape=(timesteps, input_dim)))#, return_sequences=True\n",
        "# Adding BatchNormalization\n",
        "model.add(BatchNormalization())\n",
        "model.add(Dropout(0.5))\n",
        "# Adding a dense output layer with sigmoid activation\n",
        "model.add(Dense(n_classes, activation='sigmoid'))\n",
        "model.summary()"
      ],
      "execution_count": null,
      "outputs": [
        {
          "output_type": "stream",
          "name": "stdout",
          "text": [
            "Model: \"sequential_18\"\n",
            "_________________________________________________________________\n",
            "Layer (type)                 Output Shape              Param #   \n",
            "=================================================================\n",
            "lstm_24 (LSTM)               (None, 128)               70656     \n",
            "_________________________________________________________________\n",
            "batch_normalization (BatchNo (None, 128)               512       \n",
            "_________________________________________________________________\n",
            "dropout_21 (Dropout)         (None, 128)               0         \n",
            "_________________________________________________________________\n",
            "dense_16 (Dense)             (None, 6)                 774       \n",
            "=================================================================\n",
            "Total params: 71,942\n",
            "Trainable params: 71,686\n",
            "Non-trainable params: 256\n",
            "_________________________________________________________________\n"
          ]
        }
      ]
    },
    {
      "cell_type": "code",
      "metadata": {
        "id": "Q73PnZopuo6B"
      },
      "source": [
        "# Compiling the model\n",
        "model.compile(loss='categorical_crossentropy',\n",
        "              optimizer='rmsprop',\n",
        "              metrics=['accuracy'])"
      ],
      "execution_count": null,
      "outputs": []
    },
    {
      "cell_type": "code",
      "metadata": {
        "colab": {
          "base_uri": "https://localhost:8080/"
        },
        "id": "WmsAzyYjusq-",
        "outputId": "ce1fb0c9-d33a-4e5a-ace2-047e484d6a4f"
      },
      "source": [
        "# Training the model\n",
        "model.fit(X_train,\n",
        "          Y_train,\n",
        "          batch_size=batch_size,\n",
        "          validation_data=(X_test, Y_test),\n",
        "          epochs=30)"
      ],
      "execution_count": null,
      "outputs": [
        {
          "metadata": {
            "tags": null
          },
          "name": "stdout",
          "output_type": "stream",
          "text": [
            "Epoch 1/30\n",
            "460/460 [==============================] - 64s 101ms/step - loss: 0.8909 - accuracy: 0.6589 - val_loss: 0.8181 - val_accuracy: 0.6118\n",
            "Epoch 2/30\n",
            "460/460 [==============================] - 45s 99ms/step - loss: 0.3564 - accuracy: 0.8728 - val_loss: 0.3174 - val_accuracy: 0.8921\n",
            "Epoch 3/30\n",
            "460/460 [==============================] - 45s 98ms/step - loss: 0.2548 - accuracy: 0.9104 - val_loss: 0.4508 - val_accuracy: 0.8965\n",
            "Epoch 4/30\n",
            "460/460 [==============================] - 45s 99ms/step - loss: 0.2152 - accuracy: 0.9212 - val_loss: 0.2846 - val_accuracy: 0.9131\n",
            "Epoch 5/30\n",
            "460/460 [==============================] - 45s 99ms/step - loss: 0.2046 - accuracy: 0.9257 - val_loss: 0.4433 - val_accuracy: 0.8999\n",
            "Epoch 6/30\n",
            "460/460 [==============================] - 45s 99ms/step - loss: 0.1746 - accuracy: 0.9338 - val_loss: 0.4265 - val_accuracy: 0.9118\n",
            "Epoch 7/30\n",
            "460/460 [==============================] - 45s 99ms/step - loss: 0.1939 - accuracy: 0.9347 - val_loss: 0.4293 - val_accuracy: 0.9006\n",
            "Epoch 8/30\n",
            "460/460 [==============================] - 45s 99ms/step - loss: 0.1777 - accuracy: 0.9373 - val_loss: 0.3251 - val_accuracy: 0.9182\n",
            "Epoch 9/30\n",
            "460/460 [==============================] - 46s 99ms/step - loss: 0.1719 - accuracy: 0.9404 - val_loss: 0.4164 - val_accuracy: 0.9131\n",
            "Epoch 10/30\n",
            "460/460 [==============================] - 45s 99ms/step - loss: 0.1752 - accuracy: 0.9402 - val_loss: 0.2946 - val_accuracy: 0.9138\n",
            "Epoch 11/30\n",
            "460/460 [==============================] - 45s 98ms/step - loss: 0.1799 - accuracy: 0.9399 - val_loss: 0.3124 - val_accuracy: 0.9175\n",
            "Epoch 12/30\n",
            "460/460 [==============================] - 46s 99ms/step - loss: 0.1641 - accuracy: 0.9429 - val_loss: 0.7937 - val_accuracy: 0.8629\n",
            "Epoch 13/30\n",
            "460/460 [==============================] - 45s 99ms/step - loss: 0.1593 - accuracy: 0.9422 - val_loss: 0.5914 - val_accuracy: 0.8982\n",
            "Epoch 14/30\n",
            "460/460 [==============================] - 45s 99ms/step - loss: 0.1613 - accuracy: 0.9416 - val_loss: 0.2706 - val_accuracy: 0.9114\n",
            "Epoch 15/30\n",
            "460/460 [==============================] - 45s 98ms/step - loss: 0.1571 - accuracy: 0.9437 - val_loss: 0.4793 - val_accuracy: 0.9030\n",
            "Epoch 16/30\n",
            "460/460 [==============================] - 45s 99ms/step - loss: 0.1688 - accuracy: 0.9436 - val_loss: 0.2865 - val_accuracy: 0.9030\n",
            "Epoch 17/30\n",
            "460/460 [==============================] - 45s 98ms/step - loss: 0.1452 - accuracy: 0.9438 - val_loss: 0.4423 - val_accuracy: 0.9043\n",
            "Epoch 18/30\n",
            "460/460 [==============================] - 45s 98ms/step - loss: 0.1599 - accuracy: 0.9423 - val_loss: 0.3511 - val_accuracy: 0.9155\n",
            "Epoch 19/30\n",
            "460/460 [==============================] - 46s 99ms/step - loss: 0.1530 - accuracy: 0.9440 - val_loss: 0.2928 - val_accuracy: 0.9104\n",
            "Epoch 20/30\n",
            "460/460 [==============================] - 45s 99ms/step - loss: 0.1487 - accuracy: 0.9482 - val_loss: 0.3305 - val_accuracy: 0.9101\n",
            "Epoch 21/30\n",
            "460/460 [==============================] - 46s 100ms/step - loss: 0.1347 - accuracy: 0.9452 - val_loss: 0.3009 - val_accuracy: 0.9274\n",
            "Epoch 22/30\n",
            "460/460 [==============================] - 46s 101ms/step - loss: 0.1473 - accuracy: 0.9476 - val_loss: 0.4109 - val_accuracy: 0.9209\n",
            "Epoch 23/30\n",
            "460/460 [==============================] - 46s 100ms/step - loss: 0.1612 - accuracy: 0.9449 - val_loss: 0.3703 - val_accuracy: 0.9111\n",
            "Epoch 24/30\n",
            "460/460 [==============================] - 46s 100ms/step - loss: 0.1341 - accuracy: 0.9476 - val_loss: 0.3914 - val_accuracy: 0.9121\n",
            "Epoch 25/30\n",
            "460/460 [==============================] - 46s 100ms/step - loss: 0.1423 - accuracy: 0.9471 - val_loss: 0.3667 - val_accuracy: 0.9152\n",
            "Epoch 26/30\n",
            "460/460 [==============================] - 46s 100ms/step - loss: 0.1349 - accuracy: 0.9483 - val_loss: 0.3650 - val_accuracy: 0.9304\n",
            "Epoch 27/30\n",
            "460/460 [==============================] - 46s 100ms/step - loss: 0.1541 - accuracy: 0.9459 - val_loss: 0.4384 - val_accuracy: 0.9104\n",
            "Epoch 28/30\n",
            "460/460 [==============================] - 46s 99ms/step - loss: 0.1625 - accuracy: 0.9452 - val_loss: 0.4528 - val_accuracy: 0.9203\n",
            "Epoch 29/30\n",
            "460/460 [==============================] - 46s 100ms/step - loss: 0.1617 - accuracy: 0.9459 - val_loss: 0.3371 - val_accuracy: 0.9223\n",
            "Epoch 30/30\n",
            "460/460 [==============================] - 46s 99ms/step - loss: 0.1390 - accuracy: 0.9468 - val_loss: 0.2934 - val_accuracy: 0.9352\n"
          ]
        },
        {
          "output_type": "execute_result",
          "data": {
            "text/plain": [
              "<keras.callbacks.History at 0x7f526db72690>"
            ]
          },
          "metadata": {},
          "execution_count": 119
        }
      ]
    },
    {
      "cell_type": "code",
      "metadata": {
        "id": "NMnkUs1W0Qjy",
        "colab": {
          "base_uri": "https://localhost:8080/"
        },
        "outputId": "a16779e0-7892-414b-a1e4-de00b3c53dde"
      },
      "source": [
        "# Confusion Matrix\n",
        "print(confusion_matrix(Y_test, model.predict(X_test)))"
      ],
      "execution_count": null,
      "outputs": [
        {
          "output_type": "stream",
          "name": "stdout",
          "text": [
            "Pred                LAYING  SITTING  ...  WALKING_DOWNSTAIRS  WALKING_UPSTAIRS\n",
            "True                                 ...                                      \n",
            "LAYING                 537        0  ...                   0                 0\n",
            "SITTING                  0      415  ...                   0                 1\n",
            "STANDING                 0       85  ...                   0                 1\n",
            "WALKING                  0        1  ...                  18                 8\n",
            "WALKING_DOWNSTAIRS       0        0  ...                 419                 1\n",
            "WALKING_UPSTAIRS         0        1  ...                   0               470\n",
            "\n",
            "[6 rows x 6 columns]\n"
          ]
        }
      ]
    },
    {
      "cell_type": "code",
      "metadata": {
        "colab": {
          "base_uri": "https://localhost:8080/"
        },
        "id": "LUXjgMK20eYW",
        "outputId": "801d4d4e-df7d-4550-d81e-9dff9d5cd226"
      },
      "source": [
        "score = model.evaluate(X_test, Y_test)"
      ],
      "execution_count": null,
      "outputs": [
        {
          "output_type": "stream",
          "name": "stdout",
          "text": [
            "93/93 [==============================] - 4s 39ms/step - loss: 0.2934 - accuracy: 0.9352\n"
          ]
        }
      ]
    },
    {
      "cell_type": "markdown",
      "metadata": {
        "id": "owuwJ-DU1jT0"
      },
      "source": [
        "#Model-9:\n",
        "- epoch = 30\n",
        "- n_hidden = 256 \n",
        "- batch_size = 16\n",
        "- loss = 'categorical_crossentropy'\n",
        "- optimizer = 'rmsprop'\n",
        "- Here we are using batch normalization layer"
      ]
    },
    {
      "cell_type": "code",
      "metadata": {
        "id": "sYGACacC1J4C"
      },
      "source": [
        "n_hidden_1 = 256\n",
        "batch_size = 16\n",
        "epoch = 30"
      ],
      "execution_count": null,
      "outputs": []
    },
    {
      "cell_type": "code",
      "metadata": {
        "colab": {
          "base_uri": "https://localhost:8080/"
        },
        "id": "4GvzCoXw1Upe",
        "outputId": "e297de3e-dd9a-4c8f-f352-072269c07f28"
      },
      "source": [
        "from tensorflow.keras.layers import Input, Embedding, LSTM, Dropout, BatchNormalization\n",
        "# https://stackoverflow.com/questions/51763983/error-when-checking-target-expected-dense-1-to-have-3-dimensions-but-got-array\n",
        "# https://github.com/keras-team/keras/issues/7403\n",
        "# Initiliazing the sequential model\n",
        "model = Sequential()\n",
        "# Configuring the parameters\n",
        "model.add(LSTM(n_hidden_1, input_shape=(timesteps, input_dim)))#, return_sequences=True\n",
        "# Adding BatchNormalization\n",
        "model.add(BatchNormalization())\n",
        "model.add(Dropout(0.5))\n",
        "# Adding a dense output layer with sigmoid activation\n",
        "model.add(Dense(n_classes, activation='sigmoid'))\n",
        "model.summary()"
      ],
      "execution_count": null,
      "outputs": [
        {
          "output_type": "stream",
          "name": "stdout",
          "text": [
            "Model: \"sequential_19\"\n",
            "_________________________________________________________________\n",
            "Layer (type)                 Output Shape              Param #   \n",
            "=================================================================\n",
            "lstm_25 (LSTM)               (None, 256)               272384    \n",
            "_________________________________________________________________\n",
            "batch_normalization_1 (Batch (None, 256)               1024      \n",
            "_________________________________________________________________\n",
            "dropout_22 (Dropout)         (None, 256)               0         \n",
            "_________________________________________________________________\n",
            "dense_17 (Dense)             (None, 6)                 1542      \n",
            "=================================================================\n",
            "Total params: 274,950\n",
            "Trainable params: 274,438\n",
            "Non-trainable params: 512\n",
            "_________________________________________________________________\n"
          ]
        }
      ]
    },
    {
      "cell_type": "code",
      "metadata": {
        "id": "NNDVcLFq1Ui0"
      },
      "source": [
        "# Compiling the model\n",
        "model.compile(loss='categorical_crossentropy',\n",
        "              optimizer='rmsprop',\n",
        "              metrics=['accuracy'])"
      ],
      "execution_count": null,
      "outputs": []
    },
    {
      "cell_type": "code",
      "metadata": {
        "colab": {
          "base_uri": "https://localhost:8080/"
        },
        "id": "h_IPEA0h1Ubm",
        "outputId": "0919dbaf-d0a3-498f-e323-0ef8cbae5dd1"
      },
      "source": [
        "# Training the model\n",
        "model.fit(X_train,\n",
        "          Y_train,\n",
        "          batch_size=batch_size,\n",
        "          validation_data=(X_test, Y_test),\n",
        "          epochs=30)"
      ],
      "execution_count": null,
      "outputs": [
        {
          "output_type": "stream",
          "name": "stdout",
          "text": [
            "Epoch 1/30\n",
            "460/460 [==============================] - 123s 264ms/step - loss: 0.9266 - accuracy: 0.6364 - val_loss: 6.2777 - val_accuracy: 0.2949\n",
            "Epoch 2/30\n",
            "460/460 [==============================] - 121s 262ms/step - loss: 0.4506 - accuracy: 0.8256 - val_loss: 0.3699 - val_accuracy: 0.8775\n",
            "Epoch 3/30\n",
            "460/460 [==============================] - 121s 263ms/step - loss: 0.2759 - accuracy: 0.8991 - val_loss: 0.4119 - val_accuracy: 0.8571\n",
            "Epoch 4/30\n",
            "460/460 [==============================] - 121s 264ms/step - loss: 0.2281 - accuracy: 0.9184 - val_loss: 1.6020 - val_accuracy: 0.4754\n",
            "Epoch 5/30\n",
            "460/460 [==============================] - 121s 263ms/step - loss: 0.2028 - accuracy: 0.9279 - val_loss: 0.3668 - val_accuracy: 0.8904\n",
            "Epoch 6/30\n",
            "460/460 [==============================] - 121s 263ms/step - loss: 0.2012 - accuracy: 0.9267 - val_loss: 0.3693 - val_accuracy: 0.9060\n",
            "Epoch 7/30\n",
            "460/460 [==============================] - 121s 263ms/step - loss: 0.1913 - accuracy: 0.9283 - val_loss: 0.2336 - val_accuracy: 0.9223\n",
            "Epoch 8/30\n",
            "460/460 [==============================] - 121s 264ms/step - loss: 0.1878 - accuracy: 0.9319 - val_loss: 0.2735 - val_accuracy: 0.9094\n",
            "Epoch 9/30\n",
            "460/460 [==============================] - 121s 264ms/step - loss: 0.1666 - accuracy: 0.9370 - val_loss: 0.3167 - val_accuracy: 0.9220\n",
            "Epoch 10/30\n",
            "460/460 [==============================] - 121s 264ms/step - loss: 0.1539 - accuracy: 0.9402 - val_loss: 0.3162 - val_accuracy: 0.9141\n",
            "Epoch 11/30\n",
            "460/460 [==============================] - 121s 263ms/step - loss: 0.1627 - accuracy: 0.9385 - val_loss: 0.2304 - val_accuracy: 0.9253\n",
            "Epoch 12/30\n",
            "460/460 [==============================] - 121s 263ms/step - loss: 0.1563 - accuracy: 0.9402 - val_loss: 0.4216 - val_accuracy: 0.9087\n",
            "Epoch 13/30\n",
            "460/460 [==============================] - 121s 264ms/step - loss: 0.1793 - accuracy: 0.9380 - val_loss: 0.2966 - val_accuracy: 0.9196\n",
            "Epoch 14/30\n",
            "460/460 [==============================] - 121s 263ms/step - loss: 0.1494 - accuracy: 0.9441 - val_loss: 0.3832 - val_accuracy: 0.9053\n",
            "Epoch 15/30\n",
            "460/460 [==============================] - 121s 263ms/step - loss: 0.1507 - accuracy: 0.9445 - val_loss: 0.3416 - val_accuracy: 0.9043\n",
            "Epoch 16/30\n",
            "460/460 [==============================] - 121s 263ms/step - loss: 0.1540 - accuracy: 0.9427 - val_loss: 0.2401 - val_accuracy: 0.9196\n",
            "Epoch 17/30\n",
            "460/460 [==============================] - 121s 263ms/step - loss: 0.1396 - accuracy: 0.9438 - val_loss: 0.2415 - val_accuracy: 0.9230\n",
            "Epoch 18/30\n",
            "460/460 [==============================] - 121s 263ms/step - loss: 0.1538 - accuracy: 0.9410 - val_loss: 0.2996 - val_accuracy: 0.9267\n",
            "Epoch 19/30\n",
            "460/460 [==============================] - 121s 263ms/step - loss: 0.1367 - accuracy: 0.9441 - val_loss: 0.3423 - val_accuracy: 0.9158\n",
            "Epoch 20/30\n",
            "460/460 [==============================] - 121s 264ms/step - loss: 0.1463 - accuracy: 0.9436 - val_loss: 0.3343 - val_accuracy: 0.9043\n",
            "Epoch 21/30\n",
            "460/460 [==============================] - 121s 264ms/step - loss: 0.1413 - accuracy: 0.9452 - val_loss: 0.3679 - val_accuracy: 0.9182\n",
            "Epoch 22/30\n",
            "460/460 [==============================] - 121s 263ms/step - loss: 0.1447 - accuracy: 0.9430 - val_loss: 0.3266 - val_accuracy: 0.9240\n",
            "Epoch 23/30\n",
            "460/460 [==============================] - 122s 264ms/step - loss: 0.1396 - accuracy: 0.9429 - val_loss: 0.3537 - val_accuracy: 0.9108\n",
            "Epoch 24/30\n",
            "460/460 [==============================] - 121s 263ms/step - loss: 0.1368 - accuracy: 0.9457 - val_loss: 0.3793 - val_accuracy: 0.9118\n",
            "Epoch 25/30\n",
            "460/460 [==============================] - 121s 263ms/step - loss: 0.1409 - accuracy: 0.9455 - val_loss: 0.3348 - val_accuracy: 0.9077\n",
            "Epoch 26/30\n",
            "460/460 [==============================] - 121s 263ms/step - loss: 0.1335 - accuracy: 0.9440 - val_loss: 0.3046 - val_accuracy: 0.9203\n",
            "Epoch 27/30\n",
            "460/460 [==============================] - 121s 263ms/step - loss: 0.1398 - accuracy: 0.9452 - val_loss: 0.3912 - val_accuracy: 0.9148\n",
            "Epoch 28/30\n",
            "460/460 [==============================] - 121s 264ms/step - loss: 0.1385 - accuracy: 0.9440 - val_loss: 0.2461 - val_accuracy: 0.9108\n",
            "Epoch 29/30\n",
            "460/460 [==============================] - 122s 265ms/step - loss: 0.1339 - accuracy: 0.9490 - val_loss: 0.4136 - val_accuracy: 0.9009\n",
            "Epoch 30/30\n",
            "460/460 [==============================] - 121s 262ms/step - loss: 0.1382 - accuracy: 0.9468 - val_loss: 0.3194 - val_accuracy: 0.9165\n"
          ]
        },
        {
          "output_type": "execute_result",
          "data": {
            "text/plain": [
              "<keras.callbacks.History at 0x7f526ea14b50>"
            ]
          },
          "metadata": {},
          "execution_count": 125
        }
      ]
    },
    {
      "cell_type": "code",
      "metadata": {
        "colab": {
          "base_uri": "https://localhost:8080/"
        },
        "id": "5kJjDdeo1UVx",
        "outputId": "2a44f635-d2f7-41ad-d14b-f0dc74e43b00"
      },
      "source": [
        "# Confusion Matrix\n",
        "print(confusion_matrix(Y_test, model.predict(X_test)))"
      ],
      "execution_count": null,
      "outputs": [
        {
          "output_type": "stream",
          "name": "stdout",
          "text": [
            "Pred                LAYING  SITTING  ...  WALKING_DOWNSTAIRS  WALKING_UPSTAIRS\n",
            "True                                 ...                                      \n",
            "LAYING                 537        0  ...                   0                 0\n",
            "SITTING                  0      372  ...                   0                 1\n",
            "STANDING                 0       72  ...                   0                 0\n",
            "WALKING                  0        0  ...                  24                 2\n",
            "WALKING_DOWNSTAIRS       0        0  ...                 420                 0\n",
            "WALKING_UPSTAIRS         0        0  ...                  13               442\n",
            "\n",
            "[6 rows x 6 columns]\n"
          ]
        }
      ]
    },
    {
      "cell_type": "code",
      "metadata": {
        "colab": {
          "base_uri": "https://localhost:8080/"
        },
        "id": "LYzXt9KGELEo",
        "outputId": "4c6c8126-17b8-40ff-ac5f-04ac3a0e710d"
      },
      "source": [
        "score = model.evaluate(X_test, Y_test)"
      ],
      "execution_count": null,
      "outputs": [
        {
          "output_type": "stream",
          "name": "stdout",
          "text": [
            "93/93 [==============================] - 8s 87ms/step - loss: 0.3194 - accuracy: 0.9165\n"
          ]
        }
      ]
    },
    {
      "cell_type": "markdown",
      "metadata": {
        "id": "9UIfVG8mEnJF"
      },
      "source": [
        "#MODEL-10\n",
        "- n_hidden_1 = 32\n",
        "- n_hidden_2 = 16\n",
        "- batch_size = 16\n",
        "- epoch = 30"
      ]
    },
    {
      "cell_type": "code",
      "metadata": {
        "id": "hxm8WvqKEuwY"
      },
      "source": [
        "# update LSTM layers\n",
        "n_hidden_1 = 32\n",
        "n_hidden_2 = 16\n",
        "batch_size = 16\n",
        "epoch = 30"
      ],
      "execution_count": null,
      "outputs": []
    },
    {
      "cell_type": "code",
      "metadata": {
        "colab": {
          "base_uri": "https://localhost:8080/"
        },
        "id": "G8eRViDhEXd7",
        "outputId": "eada2ba6-66d6-4a8a-f027-beebfb24d8b8"
      },
      "source": [
        "# https://stackoverflow.com/questions/51763983/error-when-checking-target-expected-dense-1-to-have-3-dimensions-but-got-array\n",
        "# https://github.com/keras-team/keras/issues/7403\n",
        "# 1. You need to set return_sequences=True from first LSTM\n",
        "# 2. You need to set return_sequences=True from second LSTM\n",
        "# Initiliazing the sequential model\n",
        "model = Sequential()\n",
        "# Configuring the parameters\n",
        "model.add(LSTM(n_hidden_1, input_shape=(timesteps, input_dim), return_sequences=True))\n",
        "model.add(BatchNormalization())\n",
        "# Adding a dropout layer\n",
        "model.add(Dropout(0.6))\n",
        "# Configuring the parameters\n",
        "model.add(LSTM(n_hidden_2 , return_sequences=False))\n",
        "model.add(BatchNormalization())\n",
        "# Adding a dropout layer\n",
        "model.add(Dropout(0.5))\n",
        "# Adding a dense output layer with sigmoid activation\n",
        "model.add(Dense(n_classes, activation='sigmoid'))\n",
        "model.summary()"
      ],
      "execution_count": null,
      "outputs": [
        {
          "output_type": "stream",
          "name": "stdout",
          "text": [
            "Model: \"sequential_20\"\n",
            "_________________________________________________________________\n",
            "Layer (type)                 Output Shape              Param #   \n",
            "=================================================================\n",
            "lstm_26 (LSTM)               (None, 128, 32)           5376      \n",
            "_________________________________________________________________\n",
            "batch_normalization_2 (Batch (None, 128, 32)           128       \n",
            "_________________________________________________________________\n",
            "dropout_23 (Dropout)         (None, 128, 32)           0         \n",
            "_________________________________________________________________\n",
            "lstm_27 (LSTM)               (None, 16)                3136      \n",
            "_________________________________________________________________\n",
            "batch_normalization_3 (Batch (None, 16)                64        \n",
            "_________________________________________________________________\n",
            "dropout_24 (Dropout)         (None, 16)                0         \n",
            "_________________________________________________________________\n",
            "dense_18 (Dense)             (None, 6)                 102       \n",
            "=================================================================\n",
            "Total params: 8,806\n",
            "Trainable params: 8,710\n",
            "Non-trainable params: 96\n",
            "_________________________________________________________________\n"
          ]
        }
      ]
    },
    {
      "cell_type": "code",
      "metadata": {
        "id": "VhhGoeNpE2FS"
      },
      "source": [
        "# Compiling the model\n",
        "model.compile(loss='categorical_crossentropy',\n",
        "              optimizer='rmsprop',\n",
        "              metrics=['accuracy'])"
      ],
      "execution_count": null,
      "outputs": []
    },
    {
      "cell_type": "code",
      "metadata": {
        "colab": {
          "base_uri": "https://localhost:8080/"
        },
        "id": "yZXMUSfSE55q",
        "outputId": "2847788b-6786-41b2-e319-6ec29c2588d7"
      },
      "source": [
        "# Training the model\n",
        "model.fit(X_train,\n",
        "          Y_train,\n",
        "          batch_size=batch_size,\n",
        "          validation_data=(X_test, Y_test),\n",
        "          epochs=30)"
      ],
      "execution_count": null,
      "outputs": [
        {
          "output_type": "stream",
          "name": "stdout",
          "text": [
            "Epoch 1/30\n",
            "460/460 [==============================] - 46s 92ms/step - loss: 1.1247 - accuracy: 0.5676 - val_loss: 0.6935 - val_accuracy: 0.7160\n",
            "Epoch 2/30\n",
            "460/460 [==============================] - 41s 90ms/step - loss: 0.7500 - accuracy: 0.7012 - val_loss: 0.9063 - val_accuracy: 0.7336\n",
            "Epoch 3/30\n",
            "460/460 [==============================] - 42s 90ms/step - loss: 0.5952 - accuracy: 0.7786 - val_loss: 0.3985 - val_accuracy: 0.8792\n",
            "Epoch 4/30\n",
            "460/460 [==============================] - 41s 90ms/step - loss: 0.4774 - accuracy: 0.8392 - val_loss: 0.4867 - val_accuracy: 0.8683\n",
            "Epoch 5/30\n",
            "460/460 [==============================] - 42s 90ms/step - loss: 0.4170 - accuracy: 0.8689 - val_loss: 0.8098 - val_accuracy: 0.8242\n",
            "Epoch 6/30\n",
            "460/460 [==============================] - 42s 90ms/step - loss: 0.3535 - accuracy: 0.8808 - val_loss: 0.5230 - val_accuracy: 0.8633\n",
            "Epoch 7/30\n",
            "460/460 [==============================] - 41s 90ms/step - loss: 0.3206 - accuracy: 0.8996 - val_loss: 0.3839 - val_accuracy: 0.8996\n",
            "Epoch 8/30\n",
            "460/460 [==============================] - 41s 90ms/step - loss: 0.2946 - accuracy: 0.9068 - val_loss: 0.3550 - val_accuracy: 0.9063\n",
            "Epoch 9/30\n",
            "460/460 [==============================] - 42s 91ms/step - loss: 0.2559 - accuracy: 0.9158 - val_loss: 0.4147 - val_accuracy: 0.9009\n",
            "Epoch 10/30\n",
            "460/460 [==============================] - 42s 90ms/step - loss: 0.2477 - accuracy: 0.9187 - val_loss: 0.3348 - val_accuracy: 0.8948\n",
            "Epoch 11/30\n",
            "460/460 [==============================] - 42s 90ms/step - loss: 0.2419 - accuracy: 0.9236 - val_loss: 0.4809 - val_accuracy: 0.8873\n",
            "Epoch 12/30\n",
            "460/460 [==============================] - 41s 90ms/step - loss: 0.2430 - accuracy: 0.9227 - val_loss: 0.4060 - val_accuracy: 0.9114\n",
            "Epoch 13/30\n",
            "460/460 [==============================] - 42s 90ms/step - loss: 0.2361 - accuracy: 0.9244 - val_loss: 0.4236 - val_accuracy: 0.8999\n",
            "Epoch 14/30\n",
            "460/460 [==============================] - 42s 91ms/step - loss: 0.2002 - accuracy: 0.9321 - val_loss: 0.3965 - val_accuracy: 0.9165\n",
            "Epoch 15/30\n",
            "460/460 [==============================] - 41s 90ms/step - loss: 0.2210 - accuracy: 0.9275 - val_loss: 0.5578 - val_accuracy: 0.8979\n",
            "Epoch 16/30\n",
            "460/460 [==============================] - 42s 91ms/step - loss: 0.2083 - accuracy: 0.9293 - val_loss: 0.4275 - val_accuracy: 0.9091\n",
            "Epoch 17/30\n",
            "460/460 [==============================] - 42s 90ms/step - loss: 0.2069 - accuracy: 0.9353 - val_loss: 0.3599 - val_accuracy: 0.9250\n",
            "Epoch 18/30\n",
            "460/460 [==============================] - 42s 90ms/step - loss: 0.1975 - accuracy: 0.9310 - val_loss: 0.4281 - val_accuracy: 0.9104\n",
            "Epoch 19/30\n",
            "460/460 [==============================] - 42s 91ms/step - loss: 0.1914 - accuracy: 0.9329 - val_loss: 0.4153 - val_accuracy: 0.9145\n",
            "Epoch 20/30\n",
            "460/460 [==============================] - 42s 91ms/step - loss: 0.2020 - accuracy: 0.9301 - val_loss: 0.4722 - val_accuracy: 0.9148\n",
            "Epoch 21/30\n",
            "460/460 [==============================] - 42s 91ms/step - loss: 0.1852 - accuracy: 0.9354 - val_loss: 0.3964 - val_accuracy: 0.9148\n",
            "Epoch 22/30\n",
            "460/460 [==============================] - 41s 90ms/step - loss: 0.2053 - accuracy: 0.9374 - val_loss: 0.4715 - val_accuracy: 0.9131\n",
            "Epoch 23/30\n",
            "460/460 [==============================] - 42s 91ms/step - loss: 0.2049 - accuracy: 0.9321 - val_loss: 0.4658 - val_accuracy: 0.9209\n",
            "Epoch 24/30\n",
            "460/460 [==============================] - 42s 90ms/step - loss: 0.1896 - accuracy: 0.9361 - val_loss: 0.6048 - val_accuracy: 0.9050\n",
            "Epoch 25/30\n",
            "460/460 [==============================] - 42s 91ms/step - loss: 0.1932 - accuracy: 0.9365 - val_loss: 0.4271 - val_accuracy: 0.9135\n",
            "Epoch 26/30\n",
            "460/460 [==============================] - 42s 91ms/step - loss: 0.2027 - accuracy: 0.9366 - val_loss: 0.4235 - val_accuracy: 0.9206\n",
            "Epoch 27/30\n",
            "460/460 [==============================] - 42s 91ms/step - loss: 0.1870 - accuracy: 0.9395 - val_loss: 0.4911 - val_accuracy: 0.9131\n",
            "Epoch 28/30\n",
            "460/460 [==============================] - 42s 91ms/step - loss: 0.1900 - accuracy: 0.9391 - val_loss: 0.5971 - val_accuracy: 0.9114\n",
            "Epoch 29/30\n",
            "460/460 [==============================] - 42s 91ms/step - loss: 0.1984 - accuracy: 0.9377 - val_loss: 0.6342 - val_accuracy: 0.9057\n",
            "Epoch 30/30\n",
            "460/460 [==============================] - 42s 91ms/step - loss: 0.1872 - accuracy: 0.9387 - val_loss: 0.3958 - val_accuracy: 0.9141\n"
          ]
        },
        {
          "output_type": "execute_result",
          "data": {
            "text/plain": [
              "<keras.callbacks.History at 0x7f526cb07710>"
            ]
          },
          "metadata": {},
          "execution_count": 131
        }
      ]
    },
    {
      "cell_type": "code",
      "metadata": {
        "colab": {
          "base_uri": "https://localhost:8080/"
        },
        "id": "Mxk4bj8uJznL",
        "outputId": "425db7f8-84a3-43c9-a9da-082453ec495c"
      },
      "source": [
        "# Confusion Matrix\n",
        "print(confusion_matrix(Y_test, model.predict(X_test)))"
      ],
      "execution_count": null,
      "outputs": [
        {
          "output_type": "stream",
          "name": "stdout",
          "text": [
            "Pred                LAYING  SITTING  ...  WALKING_DOWNSTAIRS  WALKING_UPSTAIRS\n",
            "True                                 ...                                      \n",
            "LAYING                 537        0  ...                   0                 0\n",
            "SITTING                  2      423  ...                   0                 0\n",
            "STANDING                 0      123  ...                   0                 0\n",
            "WALKING                  0        0  ...                  26                 0\n",
            "WALKING_DOWNSTAIRS       0        0  ...                 414                 2\n",
            "WALKING_UPSTAIRS         0        5  ...                   0               441\n",
            "\n",
            "[6 rows x 6 columns]\n"
          ]
        }
      ]
    },
    {
      "cell_type": "code",
      "metadata": {
        "colab": {
          "base_uri": "https://localhost:8080/"
        },
        "id": "GJep_0x-J3kg",
        "outputId": "d98615cf-467d-40d8-dab8-08dd9da0a1ce"
      },
      "source": [
        "score = model.evaluate(X_test, Y_test)"
      ],
      "execution_count": null,
      "outputs": [
        {
          "output_type": "stream",
          "name": "stdout",
          "text": [
            "93/93 [==============================] - 2s 20ms/step - loss: 0.3958 - accuracy: 0.9141\n"
          ]
        }
      ]
    },
    {
      "cell_type": "markdown",
      "metadata": {
        "id": "nt3PrNvpNoAF"
      },
      "source": [
        "#MODEL-11(with Cnn)\n",
        "- n_hidden_1 = 32\n",
        "- batch_size = 16\n",
        "- epoch = 30"
      ]
    },
    {
      "cell_type": "code",
      "metadata": {
        "id": "Qm8QODLvOMds"
      },
      "source": [
        "# update LSTM layers\n",
        "batch_size = 16\n",
        "epoch = 30"
      ],
      "execution_count": null,
      "outputs": []
    },
    {
      "cell_type": "code",
      "metadata": {
        "id": "SQqL2GHsNpDK"
      },
      "source": [
        "from keras.layers import Flatten\n",
        "from keras.layers.convolutional import Conv1D\n",
        "from keras.layers.convolutional import MaxPooling1D"
      ],
      "execution_count": null,
      "outputs": []
    },
    {
      "cell_type": "code",
      "metadata": {
        "colab": {
          "base_uri": "https://localhost:8080/"
        },
        "id": "fd9qHlOaNvTK",
        "outputId": "0f255753-815b-42a0-9ffe-d979e1f1aac6"
      },
      "source": [
        "# Initiliazing the sequential model\n",
        "model = Sequential()\n",
        "# Configuring the parameters\n",
        "# 1st use LSTM and then output of LSTM to  CONV layers\n",
        "model.add(LSTM(32, input_shape=(timesteps, input_dim), return_sequences=True))\n",
        "model.add(Conv1D(filters=32, kernel_size=3, activation='relu',kernel_initializer='he_uniform'))\n",
        "model.add(Conv1D(filters=32, kernel_size=3, activation='relu',kernel_initializer='he_uniform'))\n",
        "model.add(BatchNormalization())\n",
        "# Adding a dropout layer\n",
        "model.add(Dropout(0.5))\n",
        "# Add maxpooling and flatten layer\n",
        "model.add(MaxPooling1D(pool_size=2))\n",
        "model.add(Flatten())\n",
        "# Adding a dense output layer with sigmoid activation\n",
        "# Output of  conv layers  to dense layer, output of dense layer to softmax layer \n",
        "model.add(Dense(64, activation='relu'))\n",
        "model.add(Dense(6, activation='softmax'))\n",
        "model.summary()"
      ],
      "execution_count": null,
      "outputs": [
        {
          "output_type": "stream",
          "name": "stdout",
          "text": [
            "Model: \"sequential_24\"\n",
            "_________________________________________________________________\n",
            "Layer (type)                 Output Shape              Param #   \n",
            "=================================================================\n",
            "lstm_32 (LSTM)               (None, 128, 32)           5376      \n",
            "_________________________________________________________________\n",
            "conv1d_2 (Conv1D)            (None, 126, 32)           3104      \n",
            "_________________________________________________________________\n",
            "conv1d_3 (Conv1D)            (None, 124, 32)           3104      \n",
            "_________________________________________________________________\n",
            "batch_normalization_5 (Batch (None, 124, 32)           128       \n",
            "_________________________________________________________________\n",
            "dropout_28 (Dropout)         (None, 124, 32)           0         \n",
            "_________________________________________________________________\n",
            "max_pooling1d_1 (MaxPooling1 (None, 62, 32)            0         \n",
            "_________________________________________________________________\n",
            "flatten_1 (Flatten)          (None, 1984)              0         \n",
            "_________________________________________________________________\n",
            "dense_22 (Dense)             (None, 64)                127040    \n",
            "_________________________________________________________________\n",
            "dense_23 (Dense)             (None, 6)                 390       \n",
            "=================================================================\n",
            "Total params: 139,142\n",
            "Trainable params: 139,078\n",
            "Non-trainable params: 64\n",
            "_________________________________________________________________\n"
          ]
        }
      ]
    },
    {
      "cell_type": "code",
      "metadata": {
        "id": "7_lUF4c0OCPV"
      },
      "source": [
        "# Compiling the model\n",
        "model.compile(loss='categorical_crossentropy',\n",
        "              optimizer='rmsprop',\n",
        "              metrics=['accuracy'])"
      ],
      "execution_count": null,
      "outputs": []
    },
    {
      "cell_type": "code",
      "metadata": {
        "colab": {
          "base_uri": "https://localhost:8080/"
        },
        "id": "px_qo_w1OFOx",
        "outputId": "46c40802-74b4-4d83-9f55-81f879196d86"
      },
      "source": [
        "# Training the model\n",
        "model.fit(X_train,\n",
        "          Y_train,\n",
        "          batch_size=batch_size,\n",
        "          validation_data=(X_test, Y_test),\n",
        "          epochs=30)"
      ],
      "execution_count": null,
      "outputs": [
        {
          "output_type": "stream",
          "name": "stdout",
          "text": [
            "Epoch 1/30\n",
            "460/460 [==============================] - 25s 53ms/step - loss: 0.2366 - accuracy: 0.9117 - val_loss: 0.7529 - val_accuracy: 0.8354\n",
            "Epoch 2/30\n",
            "460/460 [==============================] - 24s 52ms/step - loss: 0.1711 - accuracy: 0.9332 - val_loss: 0.9217 - val_accuracy: 0.8646\n",
            "Epoch 3/30\n",
            "460/460 [==============================] - 24s 52ms/step - loss: 0.1535 - accuracy: 0.9366 - val_loss: 0.9640 - val_accuracy: 0.8554\n",
            "Epoch 4/30\n",
            "460/460 [==============================] - 24s 52ms/step - loss: 0.1483 - accuracy: 0.9406 - val_loss: 0.6719 - val_accuracy: 0.8921\n",
            "Epoch 5/30\n",
            "460/460 [==============================] - 24s 52ms/step - loss: 0.1479 - accuracy: 0.9433 - val_loss: 0.7316 - val_accuracy: 0.8941\n",
            "Epoch 6/30\n",
            "460/460 [==============================] - 24s 52ms/step - loss: 0.1452 - accuracy: 0.9419 - val_loss: 1.0140 - val_accuracy: 0.8616\n",
            "Epoch 7/30\n",
            "460/460 [==============================] - 24s 52ms/step - loss: 0.1391 - accuracy: 0.9415 - val_loss: 0.5749 - val_accuracy: 0.8761\n",
            "Epoch 8/30\n",
            "460/460 [==============================] - 24s 52ms/step - loss: 0.1363 - accuracy: 0.9448 - val_loss: 0.5078 - val_accuracy: 0.8992\n",
            "Epoch 9/30\n",
            "460/460 [==============================] - 24s 52ms/step - loss: 0.1334 - accuracy: 0.9468 - val_loss: 0.6317 - val_accuracy: 0.8833\n",
            "Epoch 10/30\n",
            "460/460 [==============================] - 24s 53ms/step - loss: 0.1286 - accuracy: 0.9465 - val_loss: 0.4821 - val_accuracy: 0.8948\n",
            "Epoch 11/30\n",
            "460/460 [==============================] - 24s 53ms/step - loss: 0.1295 - accuracy: 0.9493 - val_loss: 0.7210 - val_accuracy: 0.9104\n",
            "Epoch 12/30\n",
            "460/460 [==============================] - 24s 52ms/step - loss: 0.1329 - accuracy: 0.9505 - val_loss: 1.0194 - val_accuracy: 0.8856\n",
            "Epoch 13/30\n",
            "460/460 [==============================] - 24s 53ms/step - loss: 0.1225 - accuracy: 0.9512 - val_loss: 0.6987 - val_accuracy: 0.8863\n",
            "Epoch 14/30\n",
            "460/460 [==============================] - 24s 52ms/step - loss: 0.1239 - accuracy: 0.9528 - val_loss: 0.9065 - val_accuracy: 0.8863\n",
            "Epoch 15/30\n",
            "460/460 [==============================] - 24s 53ms/step - loss: 0.1255 - accuracy: 0.9535 - val_loss: 1.6928 - val_accuracy: 0.8653\n",
            "Epoch 16/30\n",
            "460/460 [==============================] - 24s 53ms/step - loss: 0.1289 - accuracy: 0.9506 - val_loss: 0.9967 - val_accuracy: 0.8850\n",
            "Epoch 17/30\n",
            "460/460 [==============================] - 24s 53ms/step - loss: 0.1200 - accuracy: 0.9548 - val_loss: 1.0751 - val_accuracy: 0.8785\n",
            "Epoch 18/30\n",
            "460/460 [==============================] - 24s 52ms/step - loss: 0.1156 - accuracy: 0.9555 - val_loss: 1.0695 - val_accuracy: 0.8778\n",
            "Epoch 19/30\n",
            "460/460 [==============================] - 24s 53ms/step - loss: 0.1047 - accuracy: 0.9587 - val_loss: 1.2119 - val_accuracy: 0.8951\n",
            "Epoch 20/30\n",
            "460/460 [==============================] - 24s 53ms/step - loss: 0.1117 - accuracy: 0.9573 - val_loss: 1.7478 - val_accuracy: 0.8711\n",
            "Epoch 21/30\n",
            "460/460 [==============================] - 24s 53ms/step - loss: 0.1100 - accuracy: 0.9592 - val_loss: 0.8136 - val_accuracy: 0.9026\n",
            "Epoch 22/30\n",
            "460/460 [==============================] - 24s 53ms/step - loss: 0.1100 - accuracy: 0.9554 - val_loss: 1.4981 - val_accuracy: 0.8721\n",
            "Epoch 23/30\n",
            "460/460 [==============================] - 24s 53ms/step - loss: 0.1096 - accuracy: 0.9584 - val_loss: 1.2004 - val_accuracy: 0.8918\n",
            "Epoch 24/30\n",
            "460/460 [==============================] - 24s 53ms/step - loss: 0.1080 - accuracy: 0.9595 - val_loss: 0.9184 - val_accuracy: 0.8850\n",
            "Epoch 25/30\n",
            "460/460 [==============================] - 24s 53ms/step - loss: 0.1005 - accuracy: 0.9596 - val_loss: 0.9206 - val_accuracy: 0.8907\n",
            "Epoch 26/30\n",
            "460/460 [==============================] - 24s 53ms/step - loss: 0.1153 - accuracy: 0.9578 - val_loss: 0.8737 - val_accuracy: 0.8992\n",
            "Epoch 27/30\n",
            "460/460 [==============================] - 24s 53ms/step - loss: 0.0995 - accuracy: 0.9616 - val_loss: 0.7784 - val_accuracy: 0.9067\n",
            "Epoch 28/30\n",
            "460/460 [==============================] - 24s 52ms/step - loss: 0.1055 - accuracy: 0.9577 - val_loss: 0.6382 - val_accuracy: 0.9274\n",
            "Epoch 29/30\n",
            "460/460 [==============================] - 24s 53ms/step - loss: 0.0904 - accuracy: 0.9644 - val_loss: 0.7047 - val_accuracy: 0.9141\n",
            "Epoch 30/30\n",
            "460/460 [==============================] - 24s 53ms/step - loss: 0.0994 - accuracy: 0.9659 - val_loss: 0.5291 - val_accuracy: 0.9216\n"
          ]
        },
        {
          "output_type": "execute_result",
          "data": {
            "text/plain": [
              "<keras.callbacks.History at 0x7f525b748a90>"
            ]
          },
          "metadata": {},
          "execution_count": 149
        }
      ]
    },
    {
      "cell_type": "code",
      "metadata": {
        "colab": {
          "base_uri": "https://localhost:8080/"
        },
        "id": "PRdpo2cBRQx4",
        "outputId": "d3766789-86c2-4a65-b957-02937a9b8b63"
      },
      "source": [
        "# Confusion Matrix\n",
        "print(confusion_matrix(Y_test, model.predict(X_test)))"
      ],
      "execution_count": null,
      "outputs": [
        {
          "output_type": "stream",
          "name": "stdout",
          "text": [
            "Pred                LAYING  SITTING  ...  WALKING_DOWNSTAIRS  WALKING_UPSTAIRS\n",
            "True                                 ...                                      \n",
            "LAYING                 525        0  ...                   0                 0\n",
            "SITTING                  0      391  ...                   0                 2\n",
            "STANDING                 0       46  ...                   0                 0\n",
            "WALKING                  0        0  ...                  29                 6\n",
            "WALKING_DOWNSTAIRS       0        1  ...                 412                 5\n",
            "WALKING_UPSTAIRS         0        2  ...                   7               442\n",
            "\n",
            "[6 rows x 6 columns]\n"
          ]
        }
      ]
    },
    {
      "cell_type": "code",
      "metadata": {
        "colab": {
          "base_uri": "https://localhost:8080/"
        },
        "id": "tCJqHZo_RV9T",
        "outputId": "91fd7505-52f0-4df2-acb8-536e76354fc2"
      },
      "source": [
        "score = model.evaluate(X_test, Y_test)"
      ],
      "execution_count": null,
      "outputs": [
        {
          "output_type": "stream",
          "name": "stdout",
          "text": [
            "93/93 [==============================] - 1s 14ms/step - loss: 0.5291 - accuracy: 0.9216\n"
          ]
        }
      ]
    },
    {
      "cell_type": "markdown",
      "metadata": {
        "id": "KAPKmh8-YRAt"
      },
      "source": [
        "#MODEL-12(with Cnn)\n",
        "- n_hidden_1 = 128\n",
        "- batch_size = 16\n",
        "- epoch = 30"
      ]
    },
    {
      "cell_type": "code",
      "metadata": {
        "id": "kaOp7ikARbSu"
      },
      "source": [
        "# update LSTM layers\n",
        "batch_size = 16\n",
        "epoch = 30"
      ],
      "execution_count": null,
      "outputs": []
    },
    {
      "cell_type": "code",
      "metadata": {
        "colab": {
          "base_uri": "https://localhost:8080/"
        },
        "id": "mqe71G4ERgJC",
        "outputId": "55b12f49-724b-4498-b7fd-2876c7afc020"
      },
      "source": [
        "# Initiliazing the sequential model\n",
        "model = Sequential()\n",
        "# Configuring the parameters\n",
        "# 1st use LSTM and then output of LSTM to  CONV layers\n",
        "model.add(LSTM(128, input_shape=(timesteps, input_dim), return_sequences=True))\n",
        "model.add(Conv1D(filters=32, kernel_size=3, activation='relu',kernel_initializer='he_uniform'))\n",
        "model.add(Conv1D(filters=32, kernel_size=3, activation='relu',kernel_initializer='he_uniform'))\n",
        "model.add(BatchNormalization())\n",
        "# Adding a dropout layer\n",
        "model.add(Dropout(0.5))\n",
        "# Add maxpooling and flatten layer\n",
        "model.add(MaxPooling1D(pool_size=2))\n",
        "model.add(Flatten())\n",
        "# Adding a dense output layer with sigmoid activation\n",
        "# Output of  conv layers  to dense layer, output of dense layer to softmax layer \n",
        "model.add(Dense(64, activation='relu'))\n",
        "model.add(Dense(6, activation='softmax'))\n",
        "model.summary()"
      ],
      "execution_count": null,
      "outputs": [
        {
          "output_type": "stream",
          "name": "stdout",
          "text": [
            "Model: \"sequential_25\"\n",
            "_________________________________________________________________\n",
            "Layer (type)                 Output Shape              Param #   \n",
            "=================================================================\n",
            "lstm_33 (LSTM)               (None, 128, 128)          70656     \n",
            "_________________________________________________________________\n",
            "conv1d_4 (Conv1D)            (None, 126, 32)           12320     \n",
            "_________________________________________________________________\n",
            "conv1d_5 (Conv1D)            (None, 124, 32)           3104      \n",
            "_________________________________________________________________\n",
            "batch_normalization_6 (Batch (None, 124, 32)           128       \n",
            "_________________________________________________________________\n",
            "dropout_29 (Dropout)         (None, 124, 32)           0         \n",
            "_________________________________________________________________\n",
            "max_pooling1d_2 (MaxPooling1 (None, 62, 32)            0         \n",
            "_________________________________________________________________\n",
            "flatten_2 (Flatten)          (None, 1984)              0         \n",
            "_________________________________________________________________\n",
            "dense_24 (Dense)             (None, 64)                127040    \n",
            "_________________________________________________________________\n",
            "dense_25 (Dense)             (None, 6)                 390       \n",
            "=================================================================\n",
            "Total params: 213,638\n",
            "Trainable params: 213,574\n",
            "Non-trainable params: 64\n",
            "_________________________________________________________________\n"
          ]
        }
      ]
    },
    {
      "cell_type": "code",
      "metadata": {
        "id": "FIZ0uabqRgBj"
      },
      "source": [
        "# Compiling the model\n",
        "model.compile(loss='categorical_crossentropy',\n",
        "              optimizer='rmsprop',\n",
        "              metrics=['accuracy'])"
      ],
      "execution_count": null,
      "outputs": []
    },
    {
      "cell_type": "code",
      "metadata": {
        "colab": {
          "base_uri": "https://localhost:8080/"
        },
        "id": "uFNhPBZTRfzS",
        "outputId": "b71f5b54-a8e2-4cea-f527-d82a5e29de8f"
      },
      "source": [
        "# Training the model\n",
        "model.fit(X_train,\n",
        "          Y_train,\n",
        "          batch_size=batch_size,\n",
        "          validation_data=(X_test, Y_test),\n",
        "          epochs=30)"
      ],
      "execution_count": null,
      "outputs": [
        {
          "output_type": "stream",
          "name": "stdout",
          "text": [
            "Epoch 1/30\n",
            "460/460 [==============================] - 53s 111ms/step - loss: 0.4530 - accuracy: 0.8402 - val_loss: 0.7952 - val_accuracy: 0.8008\n",
            "Epoch 2/30\n",
            "460/460 [==============================] - 51s 110ms/step - loss: 0.2089 - accuracy: 0.9193 - val_loss: 1.6727 - val_accuracy: 0.7676\n",
            "Epoch 3/30\n",
            "460/460 [==============================] - 51s 110ms/step - loss: 0.1767 - accuracy: 0.9339 - val_loss: 0.7896 - val_accuracy: 0.8531\n",
            "Epoch 4/30\n",
            "460/460 [==============================] - 51s 111ms/step - loss: 0.1610 - accuracy: 0.9372 - val_loss: 0.5246 - val_accuracy: 0.8860\n",
            "Epoch 5/30\n",
            "460/460 [==============================] - 51s 111ms/step - loss: 0.1578 - accuracy: 0.9381 - val_loss: 0.4949 - val_accuracy: 0.8951\n",
            "Epoch 6/30\n",
            "460/460 [==============================] - 51s 111ms/step - loss: 0.1479 - accuracy: 0.9397 - val_loss: 0.4346 - val_accuracy: 0.9220\n",
            "Epoch 7/30\n",
            "460/460 [==============================] - 51s 111ms/step - loss: 0.1485 - accuracy: 0.9374 - val_loss: 0.4841 - val_accuracy: 0.8894\n",
            "Epoch 8/30\n",
            "460/460 [==============================] - 51s 111ms/step - loss: 0.1400 - accuracy: 0.9445 - val_loss: 0.4134 - val_accuracy: 0.9189\n",
            "Epoch 9/30\n",
            "460/460 [==============================] - 51s 111ms/step - loss: 0.1393 - accuracy: 0.9460 - val_loss: 0.9850 - val_accuracy: 0.8622\n",
            "Epoch 10/30\n",
            "460/460 [==============================] - 51s 111ms/step - loss: 0.1380 - accuracy: 0.9453 - val_loss: 0.5828 - val_accuracy: 0.8911\n",
            "Epoch 11/30\n",
            "460/460 [==============================] - 51s 111ms/step - loss: 0.1372 - accuracy: 0.9484 - val_loss: 0.4673 - val_accuracy: 0.9186\n",
            "Epoch 12/30\n",
            "460/460 [==============================] - 51s 111ms/step - loss: 0.1292 - accuracy: 0.9455 - val_loss: 0.4547 - val_accuracy: 0.9213\n",
            "Epoch 13/30\n",
            "460/460 [==============================] - 51s 112ms/step - loss: 0.1278 - accuracy: 0.9479 - val_loss: 0.4708 - val_accuracy: 0.8999\n",
            "Epoch 14/30\n",
            "460/460 [==============================] - 51s 111ms/step - loss: 0.1263 - accuracy: 0.9528 - val_loss: 0.4910 - val_accuracy: 0.9175\n",
            "Epoch 15/30\n",
            "460/460 [==============================] - 51s 111ms/step - loss: 0.1296 - accuracy: 0.9540 - val_loss: 0.6628 - val_accuracy: 0.9053\n",
            "Epoch 16/30\n",
            "460/460 [==============================] - 51s 111ms/step - loss: 0.1251 - accuracy: 0.9543 - val_loss: 0.6602 - val_accuracy: 0.8918\n",
            "Epoch 17/30\n",
            "460/460 [==============================] - 51s 111ms/step - loss: 0.1160 - accuracy: 0.9546 - val_loss: 0.7115 - val_accuracy: 0.9036\n",
            "Epoch 18/30\n",
            "460/460 [==============================] - 51s 111ms/step - loss: 0.1208 - accuracy: 0.9539 - val_loss: 0.4908 - val_accuracy: 0.9172\n",
            "Epoch 19/30\n",
            "460/460 [==============================] - 51s 111ms/step - loss: 0.1125 - accuracy: 0.9551 - val_loss: 0.5465 - val_accuracy: 0.9175\n",
            "Epoch 20/30\n",
            "460/460 [==============================] - 51s 112ms/step - loss: 0.1118 - accuracy: 0.9559 - val_loss: 0.6217 - val_accuracy: 0.9152\n",
            "Epoch 21/30\n",
            "460/460 [==============================] - 51s 111ms/step - loss: 0.1018 - accuracy: 0.9610 - val_loss: 0.5956 - val_accuracy: 0.9104\n",
            "Epoch 22/30\n",
            "460/460 [==============================] - 51s 111ms/step - loss: 0.1065 - accuracy: 0.9597 - val_loss: 0.4489 - val_accuracy: 0.9226\n",
            "Epoch 23/30\n",
            "460/460 [==============================] - 51s 111ms/step - loss: 0.1047 - accuracy: 0.9635 - val_loss: 0.5674 - val_accuracy: 0.9203\n",
            "Epoch 24/30\n",
            "460/460 [==============================] - 51s 111ms/step - loss: 0.0994 - accuracy: 0.9642 - val_loss: 0.6303 - val_accuracy: 0.9104\n",
            "Epoch 25/30\n",
            "460/460 [==============================] - 51s 110ms/step - loss: 0.0935 - accuracy: 0.9656 - val_loss: 0.5338 - val_accuracy: 0.9267\n",
            "Epoch 26/30\n",
            "460/460 [==============================] - 51s 111ms/step - loss: 0.1128 - accuracy: 0.9653 - val_loss: 0.7142 - val_accuracy: 0.9158\n",
            "Epoch 27/30\n",
            "460/460 [==============================] - 51s 111ms/step - loss: 0.0973 - accuracy: 0.9668 - val_loss: 0.5026 - val_accuracy: 0.9267\n",
            "Epoch 28/30\n",
            "460/460 [==============================] - 51s 111ms/step - loss: 0.0967 - accuracy: 0.9665 - val_loss: 0.3897 - val_accuracy: 0.9284\n",
            "Epoch 29/30\n",
            "460/460 [==============================] - 51s 111ms/step - loss: 0.0935 - accuracy: 0.9701 - val_loss: 0.6142 - val_accuracy: 0.9233\n",
            "Epoch 30/30\n",
            "460/460 [==============================] - 51s 111ms/step - loss: 0.0837 - accuracy: 0.9705 - val_loss: 0.5559 - val_accuracy: 0.9125\n"
          ]
        },
        {
          "output_type": "execute_result",
          "data": {
            "text/plain": [
              "<keras.callbacks.History at 0x7f525b38fd90>"
            ]
          },
          "metadata": {},
          "execution_count": 155
        }
      ]
    },
    {
      "cell_type": "code",
      "metadata": {
        "colab": {
          "base_uri": "https://localhost:8080/"
        },
        "id": "fZrlZyK8Urqm",
        "outputId": "ac4f570a-e094-4a67-d0fa-2f0985dc10b1"
      },
      "source": [
        "# Confusion Matrix\n",
        "print(confusion_matrix(Y_test, model.predict(X_test)))"
      ],
      "execution_count": null,
      "outputs": [
        {
          "output_type": "stream",
          "name": "stdout",
          "text": [
            "Pred                LAYING  SITTING  ...  WALKING_DOWNSTAIRS  WALKING_UPSTAIRS\n",
            "True                                 ...                                      \n",
            "LAYING                 527       10  ...                   0                 0\n",
            "SITTING                 20      409  ...                   0                 1\n",
            "STANDING                 0       56  ...                   0                 0\n",
            "WALKING                  0        0  ...                  33                15\n",
            "WALKING_DOWNSTAIRS       2        0  ...                 399                15\n",
            "WALKING_UPSTAIRS         1        9  ...                  20               431\n",
            "\n",
            "[6 rows x 6 columns]\n"
          ]
        }
      ]
    },
    {
      "cell_type": "code",
      "metadata": {
        "colab": {
          "base_uri": "https://localhost:8080/"
        },
        "id": "VI4Tpl8EUvA1",
        "outputId": "8a67fbe8-9605-4a1f-964d-507e75143c22"
      },
      "source": [
        "score = model.evaluate(X_test, Y_test)"
      ],
      "execution_count": null,
      "outputs": [
        {
          "output_type": "stream",
          "name": "stdout",
          "text": [
            "93/93 [==============================] - 4s 42ms/step - loss: 0.5559 - accuracy: 0.9125\n"
          ]
        }
      ]
    },
    {
      "cell_type": "markdown",
      "metadata": {
        "id": "Jv661jZrBDbQ"
      },
      "source": [
        "#Conclusion :"
      ]
    },
    {
      "cell_type": "code",
      "metadata": {
        "id": "OwvzyYY8BHDD",
        "colab": {
          "base_uri": "https://localhost:8080/"
        },
        "outputId": "1f29dd20-c8bc-4977-9ff2-749cd31d4b7d"
      },
      "source": [
        "from prettytable import PrettyTable    \n",
        "x = PrettyTable()\n",
        "x.field_names = [\"Model\",\"loss\",\"acuuracy\"]\n",
        "x.add_row(['model-1','0.4214','0.0.9121'])\n",
        "x.add_row(['model-2','0.3724','0.8965'])\n",
        "x.add_row(['model-3','0.9110','0.8806'])\n",
        "x.add_row(['model-4','0.2440','0.9131'])\n",
        "x.add_row(['model-5','0.2809','0.9121'])\n",
        "x.add_row(['model-6','0.2949','0.9108'])\n",
        "x.add_row(['model-7','0.3825','0.8914'])\n",
        "x.add_row(['model-8','0.2934','0.9352'])\n",
        "x.add_row(['model-9','0.3194','0.9165'])\n",
        "x.add_row(['model-10','0.3998','0.9141'])\n",
        "x.add_row(['model-11','0.5291','0.9216'])\n",
        "x.add_row(['model-12','0.5559','0.9125'])\n",
        "print(x.get_string(title = \"LSTM On For HUMAN ACTIVITY \"))"
      ],
      "execution_count": 34,
      "outputs": [
        {
          "output_type": "stream",
          "name": "stdout",
          "text": [
            "+---------------------------------+\n",
            "|   LSTM On For HUMAN ACTIVITY    |\n",
            "+-----------+---------+-----------+\n",
            "|   Model   |   loss  |  acuuracy |\n",
            "+-----------+---------+-----------+\n",
            "|  model-1  |  0.4214 |  0.0.9121 |\n",
            "|  model-2  |  0.3724 |   0.8965  |\n",
            "|  model-3  |  0.9110 |   0.8806  |\n",
            "|  model-4  |  0.2440 |   0.9131  |\n",
            "|  model-5  |  0.2809 |   0.9121  |\n",
            "|  model-6  |  0.2949 |   0.9108  |\n",
            "|  model-7  |  0.3825 |   0.8914  |\n",
            "|  model-8  |  0.2934 |   0.9352  |\n",
            "|  model-9  |  0.3194 |   0.9165  |\n",
            "|  model-10 |  0.3998 |   0.9141  |\n",
            "|  model-11 |  0.5291 |   0.9216  |\n",
            "|  model-12 |  0.5559 |   0.9125  |\n",
            "+-----------+---------+-----------+\n"
          ]
        }
      ]
    },
    {
      "cell_type": "markdown",
      "metadata": {
        "id": "f8lSd_5MawW0"
      },
      "source": [
        "#Finally Winner Is ,\n",
        "\n",
        " <img src=\"https://media.giphy.com/media/9xt1MUZqkneFiWrAAD/giphy.gif\" align= \"right\" >\n",
        "\n",
        "##Model - 8"
      ]
    }
  ]
}